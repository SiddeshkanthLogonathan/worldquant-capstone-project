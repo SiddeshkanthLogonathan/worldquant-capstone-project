{
 "cells": [
  {
   "cell_type": "markdown",
   "metadata": {},
   "source": [
    "In this Notebook, we will train a Reinforcement Learing Agent to maximize the cumulative return by having a portfolio that comprises of the individual stocks from the S&P100. The agent will perform the portfolio allocation and maximize its cumulative return over the training horizon. We will show at the end the out-of-sample performance. \n",
    "\n",
    "Several important criterias as follows:\n",
    "1. This is a single-period RL system. We intend to extend this to a multi-period approach by the next submission. \n",
    "2. The training dataset is between 01-01-1990 and 01-08-2017 whereas the testing dataset is between 01-09-2017 and 01-07-2024.\n",
    "3. We will use a monthly frequency instead of daily.\n",
    "4. The following features are used in this notebook: closing price, high price, low price\n",
    "5. In the RL setting:\n",
    "    - The state is a 3d tensor with shape (f,n,m). F: number of features, n: number of input periods, m: number of assets\n",
    "    - The portfolio reward is the logarithmic return of the portfolio\n",
    "    - The model used is called Ensemble of Identical Independent Evaluators: https://arxiv.org/abs/1706.10059\n",
    "    - The agent makes an action of selecting weights/allocations for these stocks\n",
    "6. For Benchmark comparison in the other Notebook, we have an Multi-Period Markowitz's Mean Variance and the S&P100 index itself."
   ]
  },
  {
   "cell_type": "code",
   "execution_count": 76,
   "metadata": {},
   "outputs": [],
   "source": [
    "import matplotlib.pyplot as plt\n",
    "import yfinance as yf\n",
    "import pandas as pd\n",
    "import seaborn as sns\n",
    "from sklearn.model_selection import train_test_split\n",
    "sns.set()"
   ]
  },
  {
   "cell_type": "code",
   "execution_count": 3,
   "metadata": {},
   "outputs": [],
   "source": [
    "import logging\n",
    "logging.getLogger('matplotlib.font_manager').disabled = True"
   ]
  },
  {
   "cell_type": "code",
   "execution_count": 6,
   "metadata": {},
   "outputs": [],
   "source": [
    "import torch\n",
    "\n",
    "import numpy as np\n",
    "\n",
    "from sklearn.preprocessing import MaxAbsScaler\n",
    "from finrl.meta.env_portfolio_optimization.env_portfolio_optimization import PortfolioOptimizationEnv\n",
    "from finrl.agents.portfolio_optimization.models import DRLAgent\n",
    "from finrl.agents.portfolio_optimization.architectures import EIIE\n",
    "\n",
    "device = 'cuda:0' if torch.cuda.is_available() else 'cpu'"
   ]
  },
  {
   "cell_type": "code",
   "execution_count": 7,
   "metadata": {},
   "outputs": [],
   "source": [
    "from sklearn.base import BaseEstimator, TransformerMixin\n",
    "\n",
    "class GroupByScaler(BaseEstimator, TransformerMixin):\n",
    "    \"\"\"Sklearn-like scaler that scales considering groups of data.\n",
    "\n",
    "    In the financial setting, this scale can be used to normalize a DataFrame\n",
    "    with time series of multiple tickers. The scaler will fit and transform\n",
    "    data for each ticker independently.\n",
    "    \"\"\"\n",
    "\n",
    "    def __init__(self, by, scaler=MaxAbsScaler, columns=None, scaler_kwargs=None):\n",
    "        \"\"\"Initializes GoupBy scaler.\n",
    "\n",
    "        Args:\n",
    "            by: Name of column that will be used to group.\n",
    "            scaler: Scikit-learn scaler class to be used.\n",
    "            columns: List of columns that will be scaled.\n",
    "            scaler_kwargs: Keyword arguments for chosen scaler.\n",
    "        \"\"\"\n",
    "        self.scalers = {}  # dictionary with scalers\n",
    "        self.by = by\n",
    "        self.scaler = scaler\n",
    "        self.columns = columns\n",
    "        self.scaler_kwargs = {} if scaler_kwargs is None else scaler_kwargs\n",
    "\n",
    "    def fit(self, X, y=None):\n",
    "        \"\"\"Fits the scaler to input data.\n",
    "\n",
    "        Args:\n",
    "            X: DataFrame to fit.\n",
    "            y: Not used.\n",
    "\n",
    "        Returns:\n",
    "            Fitted GroupBy scaler.\n",
    "        \"\"\"\n",
    "        # if columns aren't specified, considered all numeric columns\n",
    "        if self.columns is None:\n",
    "            self.columns = X.select_dtypes(exclude=[\"object\"]).columns\n",
    "        # fit one scaler for each group\n",
    "        for value in X[self.by].unique():\n",
    "            X_group = X.loc[X[self.by] == value, self.columns]\n",
    "            self.scalers[value] = self.scaler(**self.scaler_kwargs).fit(X_group)\n",
    "        return self\n",
    "\n",
    "    def transform(self, X, y=None):\n",
    "        \"\"\"Transforms unscaled data.\n",
    "\n",
    "        Args:\n",
    "            X: DataFrame to transform.\n",
    "            y: Not used.\n",
    "\n",
    "        Returns:\n",
    "            Transformed DataFrame.\n",
    "        \"\"\"\n",
    "        # apply scaler for each group\n",
    "        X = X.copy()\n",
    "        for value in X[self.by].unique():\n",
    "            select_mask = X[self.by] == value\n",
    "            X.loc[select_mask, self.columns] = self.scalers[value].transform(\n",
    "                X.loc[select_mask, self.columns]\n",
    "            )\n",
    "        return X\n"
   ]
  },
  {
   "cell_type": "markdown",
   "metadata": {},
   "source": [
    "Using the 101 Stocks from the S&P100"
   ]
  },
  {
   "cell_type": "code",
   "execution_count": 8,
   "metadata": {},
   "outputs": [
    {
     "data": {
      "text/plain": [
       "101"
      ]
     },
     "execution_count": 8,
     "metadata": {},
     "output_type": "execute_result"
    }
   ],
   "source": [
    "sp_100 = [\n",
    "    'AAPL', 'ABBV', 'ABT', 'ACN', 'ADBE', 'AIG', 'AMD', 'AMGN', 'AMT', 'AMZN',\n",
    "    'AVGO', 'AXP', 'BA', 'BAC', 'BK', 'BKNG', 'BLK', 'BMY', 'BRK-B', 'C',\n",
    "    'CAT', 'CHTR', 'CL', 'CMCSA', 'COF', 'COP', 'COST', 'CRM', 'CSCO', 'CVS',\n",
    "    'CVX', 'DE', 'DHR', 'DIS', 'DUK', 'EMR', 'F', 'FDX', 'GD',\n",
    "    'GE', 'GILD', 'GM', 'GOOG', 'GOOGL', 'GS', 'HD', 'HON', 'IBM', 'INTC',\n",
    "    'INTU', 'JNJ', 'JPM', 'KO', 'LIN', 'LLY', 'LMT', 'LOW', 'MA',\n",
    "    'MCD', 'MDLZ', 'MDT', 'MET', 'META', 'MMM', 'MO', 'MRK', 'MS', 'MSFT',\n",
    "    'NEE', 'NFLX', 'NKE', 'NVDA', 'ORCL', 'PEP', 'PFE', 'PG', 'PM',\n",
    "    'QCOM', 'RTX', 'SBUX', 'SCHW', 'SO', 'SPG', 'T', 'TGT', 'TMO', 'TMUS',\n",
    "    'TSLA', 'TXN', 'UNH', 'UNP', 'UPS', 'USB', 'V', 'VZ', 'WFC', 'WMT',\n",
    "    'XOM', 'DOW', 'PYPL', 'KHC'\n",
    "]\n",
    "len(sp_100)"
   ]
  },
  {
   "cell_type": "markdown",
   "metadata": {},
   "source": [
    "Data Collection and Data Preprocessing"
   ]
  },
  {
   "cell_type": "code",
   "execution_count": 9,
   "metadata": {},
   "outputs": [
    {
     "name": "stderr",
     "output_type": "stream",
     "text": [
      "[*********************100%%**********************]  101 of 101 completed\n",
      "/var/folders/02/rmgfx9wj0s99nn4tzfthtrnc0000gn/T/ipykernel_52250/3811137442.py:2: FutureWarning: DataFrame.fillna with 'method' is deprecated and will raise in a future version. Use obj.ffill() or obj.bfill() instead.\n",
      "  portfolio_raw_df.fillna(method=\"bfill\", inplace=True)\n",
      "/var/folders/02/rmgfx9wj0s99nn4tzfthtrnc0000gn/T/ipykernel_52250/3811137442.py:3: FutureWarning: The previous implementation of stack is deprecated and will be removed in a future version of pandas. See the What's New notes for pandas 2.1.0 for details. Specify future_stack=True to adopt the new implementation and silence this warning.\n",
      "  portfolio_raw_df = portfolio_raw_df.stack(level=1).rename_axis([\"Date\", \"Ticker\"]).reset_index(level=1)\n"
     ]
    }
   ],
   "source": [
    "portfolio_raw_df = yf.download(tickers=sp_100, start=\"1990-01-01\", end=\"2024-08-01\", interval=\"1mo\")\n",
    "portfolio_raw_df.fillna(method=\"bfill\", inplace=True)\n",
    "portfolio_raw_df = portfolio_raw_df.stack(level=1).rename_axis([\"Date\", \"Ticker\"]).reset_index(level=1)\n",
    "\n",
    "portfolio_raw_df = portfolio_raw_df.drop(\"Adj Close\", axis=1)\n",
    "portfolio_raw_df.columns.name = None\n",
    "portfolio_raw_df = portfolio_raw_df.reset_index()\n",
    "portfolio_raw_df.Date = portfolio_raw_df.Date.astype(str)\n",
    "portfolio_raw_df.columns = [\"date\", \"tic\", \"close\", \"high\", \"low\", \"open\", \"volume\"]"
   ]
  },
  {
   "cell_type": "code",
   "execution_count": 83,
   "metadata": {},
   "outputs": [
    {
     "data": {
      "image/png": "[encoded data removed]",
      "text/plain": [
       "<Figure size 400x200 with 1 Axes>"
      ]
     },
     "metadata": {},
     "output_type": "display_data"
    }
   ],
   "source": [
    "# Ensuring the data is complete and there is no NaNs. the bar plots show they all have the same count\n",
    "plt.figure(figsize=(4,2))\n",
    "plt.bar(np.arange(0, len(sp_100), 1), portfolio_raw_df.groupby(\"tic\").count().mean(1))\n",
    "plt.show()"
   ]
  },
  {
   "cell_type": "code",
   "execution_count": 11,
   "metadata": {},
   "outputs": [],
   "source": [
    "portfolio_norm_df = GroupByScaler(by=\"tic\", scaler=MaxAbsScaler).fit_transform(portfolio_raw_df)\n",
    "df_portfolio = portfolio_norm_df[[\"date\", \"tic\", \"close\", \"high\", \"low\", \"open\"]]\n",
    "df_portfolio_train, df_portfolio_test = train_test_split(df_portfolio, test_size=0.2, shuffle=False, random_state=43)\n",
    "len(df_portfolio_train), len(df_portfolio_test)"
   ]
  },
  {
   "cell_type": "markdown",
   "metadata": {},
   "source": [
    "Setting Hyperparameters"
   ]
  },
  {
   "cell_type": "code",
   "execution_count": 20,
   "metadata": {},
   "outputs": [],
   "source": [
    "T = 24 # last 2 years of data\n",
    "num_features = 3"
   ]
  },
  {
   "cell_type": "markdown",
   "metadata": {},
   "source": [
    "Initializing the Portfolio Optimization Environment"
   ]
  },
  {
   "cell_type": "code",
   "execution_count": 21,
   "metadata": {},
   "outputs": [],
   "source": [
    "environment = PortfolioOptimizationEnv(\n",
    "        df_portfolio_train,\n",
    "        initial_amount=100000,\n",
    "        comission_fee_pct=0.0025,\n",
    "        time_window=T,\n",
    "        features=[\"close\", \"high\", \"low\"],\n",
    "        normalize_df=None\n",
    "    )"
   ]
  },
  {
   "cell_type": "code",
   "execution_count": 22,
   "metadata": {},
   "outputs": [],
   "source": [
    "# set PolicyGradient parameters\n",
    "model_kwargs = {\n",
    "    \"lr\": 0.01,\n",
    "    \"policy\": EIIE,\n",
    "}\n",
    "\n",
    "# here, we can set EIIE's parameters\n",
    "policy_kwargs = {\n",
    "    \"k_size\": 3,\n",
    "    \"time_window\": T,\n",
    "}\n",
    "\n",
    "model = DRLAgent(environment).get_model(\"pg\", device, model_kwargs, policy_kwargs)"
   ]
  },
  {
   "cell_type": "markdown",
   "metadata": {},
   "source": [
    "Model Training with 50 episodes"
   ]
  },
  {
   "cell_type": "code",
   "execution_count": 35,
   "metadata": {},
   "outputs": [
    {
     "name": "stderr",
     "output_type": "stream",
     "text": [
      "  0%|          | 0/50 [00:00<?, ?it/s]"
     ]
    },
    {
     "name": "stdout",
     "output_type": "stream",
     "text": [
      "=================================\n",
      "Initial portfolio value:100000\n",
      "Final portfolio value: 461065664.0\n",
      "Final accumulative portfolio value: 4610.65664\n",
      "Maximum DrawDown: -0.4357276597811147\n",
      "Sharpe ratio: 5.592420520227282\n",
      "=================================\n"
     ]
    },
    {
     "name": "stderr",
     "output_type": "stream",
     "text": [
      "  2%|▏         | 1/50 [00:08<06:52,  8.42s/it]"
     ]
    },
    {
     "name": "stdout",
     "output_type": "stream",
     "text": [
      "=================================\n",
      "Initial portfolio value:100000\n",
      "Final portfolio value: 463191744.0\n",
      "Final accumulative portfolio value: 4631.91744\n",
      "Maximum DrawDown: -0.4354843742216671\n",
      "Sharpe ratio: 5.598459149272775\n",
      "=================================\n"
     ]
    },
    {
     "name": "stderr",
     "output_type": "stream",
     "text": [
      "  4%|▍         | 2/50 [00:16<06:45,  8.45s/it]"
     ]
    },
    {
     "name": "stdout",
     "output_type": "stream",
     "text": [
      "=================================\n",
      "Initial portfolio value:100000\n",
      "Final portfolio value: 465263872.0\n",
      "Final accumulative portfolio value: 4652.63872\n",
      "Maximum DrawDown: -0.4349658029785002\n",
      "Sharpe ratio: 5.6073241109652\n",
      "=================================\n"
     ]
    },
    {
     "name": "stderr",
     "output_type": "stream",
     "text": [
      "  6%|▌         | 3/50 [00:25<06:33,  8.38s/it]"
     ]
    },
    {
     "name": "stdout",
     "output_type": "stream",
     "text": [
      "=================================\n",
      "Initial portfolio value:100000\n",
      "Final portfolio value: 467381312.0\n",
      "Final accumulative portfolio value: 4673.81312\n",
      "Maximum DrawDown: -0.4343618640326845\n",
      "Sharpe ratio: 5.61669676654591\n",
      "=================================\n"
     ]
    },
    {
     "name": "stderr",
     "output_type": "stream",
     "text": [
      "  8%|▊         | 4/50 [00:33<06:21,  8.30s/it]"
     ]
    },
    {
     "name": "stdout",
     "output_type": "stream",
     "text": [
      "=================================\n",
      "Initial portfolio value:100000\n",
      "Final portfolio value: 469593024.0\n",
      "Final accumulative portfolio value: 4695.93024\n",
      "Maximum DrawDown: -0.43367356512244837\n",
      "Sharpe ratio: 5.627134741899222\n",
      "=================================\n"
     ]
    },
    {
     "name": "stderr",
     "output_type": "stream",
     "text": [
      " 10%|█         | 5/50 [00:41<06:12,  8.27s/it]"
     ]
    },
    {
     "name": "stdout",
     "output_type": "stream",
     "text": [
      "=================================\n",
      "Initial portfolio value:100000\n",
      "Final portfolio value: 471658400.0\n",
      "Final accumulative portfolio value: 4716.584\n",
      "Maximum DrawDown: -0.43294503169280374\n",
      "Sharpe ratio: 5.637226662783759\n",
      "=================================\n"
     ]
    },
    {
     "name": "stderr",
     "output_type": "stream",
     "text": [
      " 12%|█▏        | 6/50 [00:49<06:02,  8.23s/it]"
     ]
    },
    {
     "name": "stdout",
     "output_type": "stream",
     "text": [
      "=================================\n",
      "Initial portfolio value:100000\n",
      "Final portfolio value: 473988512.0\n",
      "Final accumulative portfolio value: 4739.88512\n",
      "Maximum DrawDown: -0.43224164981742363\n",
      "Sharpe ratio: 5.647704586714541\n",
      "=================================\n"
     ]
    },
    {
     "name": "stderr",
     "output_type": "stream",
     "text": [
      " 14%|█▍        | 7/50 [00:57<05:53,  8.22s/it]"
     ]
    },
    {
     "name": "stdout",
     "output_type": "stream",
     "text": [
      "=================================\n",
      "Initial portfolio value:100000\n",
      "Final portfolio value: 476165056.0\n",
      "Final accumulative portfolio value: 4761.65056\n",
      "Maximum DrawDown: -0.43138342395557583\n",
      "Sharpe ratio: 5.660039531231596\n",
      "=================================\n"
     ]
    },
    {
     "name": "stderr",
     "output_type": "stream",
     "text": [
      " 16%|█▌        | 8/50 [01:06<05:43,  8.19s/it]"
     ]
    },
    {
     "name": "stdout",
     "output_type": "stream",
     "text": [
      "=================================\n",
      "Initial portfolio value:100000\n",
      "Final portfolio value: 478296992.0\n",
      "Final accumulative portfolio value: 4782.96992\n",
      "Maximum DrawDown: -0.43062328666282645\n",
      "Sharpe ratio: 5.67056071710397\n",
      "=================================\n"
     ]
    },
    {
     "name": "stderr",
     "output_type": "stream",
     "text": [
      " 18%|█▊        | 9/50 [01:14<05:35,  8.17s/it]"
     ]
    },
    {
     "name": "stdout",
     "output_type": "stream",
     "text": [
      "=================================\n",
      "Initial portfolio value:100000\n",
      "Final portfolio value: 480574016.0\n",
      "Final accumulative portfolio value: 4805.74016\n",
      "Maximum DrawDown: -0.42990621554024355\n",
      "Sharpe ratio: 5.681311963928883\n",
      "=================================\n"
     ]
    },
    {
     "name": "stderr",
     "output_type": "stream",
     "text": [
      " 20%|██        | 10/50 [01:22<05:26,  8.15s/it]"
     ]
    },
    {
     "name": "stdout",
     "output_type": "stream",
     "text": [
      "=================================\n",
      "Initial portfolio value:100000\n",
      "Final portfolio value: 482863840.0\n",
      "Final accumulative portfolio value: 4828.6384\n",
      "Maximum DrawDown: -0.4291765906310864\n",
      "Sharpe ratio: 5.692686155228785\n",
      "=================================\n"
     ]
    },
    {
     "name": "stderr",
     "output_type": "stream",
     "text": [
      " 22%|██▏       | 11/50 [01:30<05:17,  8.15s/it]"
     ]
    },
    {
     "name": "stdout",
     "output_type": "stream",
     "text": [
      "=================================\n",
      "Initial portfolio value:100000\n",
      "Final portfolio value: 485232320.0\n",
      "Final accumulative portfolio value: 4852.3232\n",
      "Maximum DrawDown: -0.42856621343114976\n",
      "Sharpe ratio: 5.702231265835215\n",
      "=================================\n"
     ]
    },
    {
     "name": "stderr",
     "output_type": "stream",
     "text": [
      " 24%|██▍       | 12/50 [01:38<05:11,  8.19s/it]"
     ]
    },
    {
     "name": "stdout",
     "output_type": "stream",
     "text": [
      "=================================\n",
      "Initial portfolio value:100000\n",
      "Final portfolio value: 486563072.0\n",
      "Final accumulative portfolio value: 4865.63072\n",
      "Maximum DrawDown: -0.42823424218648576\n",
      "Sharpe ratio: 5.706122038064977\n",
      "=================================\n"
     ]
    },
    {
     "name": "stderr",
     "output_type": "stream",
     "text": [
      " 26%|██▌       | 13/50 [01:46<05:01,  8.16s/it]"
     ]
    },
    {
     "name": "stdout",
     "output_type": "stream",
     "text": [
      "=================================\n",
      "Initial portfolio value:100000\n",
      "Final portfolio value: 490034784.0\n",
      "Final accumulative portfolio value: 4900.34784\n",
      "Maximum DrawDown: -0.42768241261412787\n",
      "Sharpe ratio: 5.718492918356009\n",
      "=================================\n"
     ]
    },
    {
     "name": "stderr",
     "output_type": "stream",
     "text": [
      " 28%|██▊       | 14/50 [01:54<04:53,  8.15s/it]"
     ]
    },
    {
     "name": "stdout",
     "output_type": "stream",
     "text": [
      "=================================\n",
      "Initial portfolio value:100000\n",
      "Final portfolio value: 492191104.0\n",
      "Final accumulative portfolio value: 4921.91104\n",
      "Maximum DrawDown: -0.42707398332266167\n",
      "Sharpe ratio: 5.729455837850827\n",
      "=================================\n"
     ]
    },
    {
     "name": "stderr",
     "output_type": "stream",
     "text": [
      " 30%|███       | 15/50 [02:03<04:46,  8.19s/it]"
     ]
    },
    {
     "name": "stdout",
     "output_type": "stream",
     "text": [
      "=================================\n",
      "Initial portfolio value:100000\n",
      "Final portfolio value: 494378880.0\n",
      "Final accumulative portfolio value: 4943.7888\n",
      "Maximum DrawDown: -0.42672589592378096\n",
      "Sharpe ratio: 5.73694434044812\n",
      "=================================\n"
     ]
    },
    {
     "name": "stderr",
     "output_type": "stream",
     "text": [
      " 32%|███▏      | 16/50 [02:11<04:40,  8.25s/it]"
     ]
    },
    {
     "name": "stdout",
     "output_type": "stream",
     "text": [
      "=================================\n",
      "Initial portfolio value:100000\n",
      "Final portfolio value: 496681568.0\n",
      "Final accumulative portfolio value: 4966.81568\n",
      "Maximum DrawDown: -0.42664515457075636\n",
      "Sharpe ratio: 5.742110548478257\n",
      "=================================\n"
     ]
    },
    {
     "name": "stderr",
     "output_type": "stream",
     "text": [
      " 34%|███▍      | 17/50 [02:19<04:33,  8.29s/it]"
     ]
    },
    {
     "name": "stdout",
     "output_type": "stream",
     "text": [
      "=================================\n",
      "Initial portfolio value:100000\n",
      "Final portfolio value: 499106464.0\n",
      "Final accumulative portfolio value: 4991.06464\n",
      "Maximum DrawDown: -0.42675913317516\n",
      "Sharpe ratio: 5.745607056148127\n",
      "=================================\n"
     ]
    },
    {
     "name": "stderr",
     "output_type": "stream",
     "text": [
      " 36%|███▌      | 18/50 [02:28<04:24,  8.26s/it]"
     ]
    },
    {
     "name": "stdout",
     "output_type": "stream",
     "text": [
      "=================================\n",
      "Initial portfolio value:100000\n",
      "Final portfolio value: 501669216.0\n",
      "Final accumulative portfolio value: 5016.69216\n",
      "Maximum DrawDown: -0.42700724242394617\n",
      "Sharpe ratio: 5.7479839082114\n",
      "=================================\n"
     ]
    },
    {
     "name": "stderr",
     "output_type": "stream",
     "text": [
      " 38%|███▊      | 19/50 [02:36<04:15,  8.24s/it]"
     ]
    },
    {
     "name": "stdout",
     "output_type": "stream",
     "text": [
      "=================================\n",
      "Initial portfolio value:100000\n",
      "Final portfolio value: 504377216.0\n",
      "Final accumulative portfolio value: 5043.77216\n",
      "Maximum DrawDown: -0.4273396400357411\n",
      "Sharpe ratio: 5.74971093898206\n",
      "=================================\n"
     ]
    },
    {
     "name": "stderr",
     "output_type": "stream",
     "text": [
      " 40%|████      | 20/50 [02:44<04:06,  8.23s/it]"
     ]
    },
    {
     "name": "stdout",
     "output_type": "stream",
     "text": [
      "=================================\n",
      "Initial portfolio value:100000\n",
      "Final portfolio value: 507232640.0\n",
      "Final accumulative portfolio value: 5072.3264\n",
      "Maximum DrawDown: -0.4277128019357851\n",
      "Sharpe ratio: 5.751168909708884\n",
      "=================================\n"
     ]
    },
    {
     "name": "stderr",
     "output_type": "stream",
     "text": [
      " 42%|████▏     | 21/50 [02:52<03:59,  8.25s/it]"
     ]
    },
    {
     "name": "stdout",
     "output_type": "stream",
     "text": [
      "=================================\n",
      "Initial portfolio value:100000\n",
      "Final portfolio value: 510241536.0\n",
      "Final accumulative portfolio value: 5102.41536\n",
      "Maximum DrawDown: -0.4280952988076243\n",
      "Sharpe ratio: 5.7526486640598815\n",
      "=================================\n"
     ]
    },
    {
     "name": "stderr",
     "output_type": "stream",
     "text": [
      " 44%|████▍     | 22/50 [03:01<03:50,  8.24s/it]"
     ]
    },
    {
     "name": "stdout",
     "output_type": "stream",
     "text": [
      "=================================\n",
      "Initial portfolio value:100000\n",
      "Final portfolio value: 513409760.0\n",
      "Final accumulative portfolio value: 5134.0976\n",
      "Maximum DrawDown: -0.4284625836883338\n",
      "Sharpe ratio: 5.7543611824281635\n",
      "=================================\n"
     ]
    },
    {
     "name": "stderr",
     "output_type": "stream",
     "text": [
      " 46%|████▌     | 23/50 [03:09<03:42,  8.24s/it]"
     ]
    },
    {
     "name": "stdout",
     "output_type": "stream",
     "text": [
      "=================================\n",
      "Initial portfolio value:100000\n",
      "Final portfolio value: 516748352.0\n",
      "Final accumulative portfolio value: 5167.48352\n",
      "Maximum DrawDown: -0.4288018503609786\n",
      "Sharpe ratio: 5.756432357272388\n",
      "=================================\n"
     ]
    },
    {
     "name": "stderr",
     "output_type": "stream",
     "text": [
      " 48%|████▊     | 24/50 [03:17<03:34,  8.24s/it]"
     ]
    },
    {
     "name": "stdout",
     "output_type": "stream",
     "text": [
      "=================================\n",
      "Initial portfolio value:100000\n",
      "Final portfolio value: 520268608.0\n",
      "Final accumulative portfolio value: 5202.68608\n",
      "Maximum DrawDown: -0.42910577985217313\n",
      "Sharpe ratio: 5.758927198375821\n",
      "=================================\n"
     ]
    },
    {
     "name": "stderr",
     "output_type": "stream",
     "text": [
      " 50%|█████     | 25/50 [03:25<03:26,  8.27s/it]"
     ]
    },
    {
     "name": "stdout",
     "output_type": "stream",
     "text": [
      "=================================\n",
      "Initial portfolio value:100000\n",
      "Final portfolio value: 523982912.0\n",
      "Final accumulative portfolio value: 5239.82912\n",
      "Maximum DrawDown: -0.4293750529888153\n",
      "Sharpe ratio: 5.761850252592032\n",
      "=================================\n"
     ]
    },
    {
     "name": "stderr",
     "output_type": "stream",
     "text": [
      " 52%|█████▏    | 26/50 [03:34<03:19,  8.30s/it]"
     ]
    },
    {
     "name": "stdout",
     "output_type": "stream",
     "text": [
      "=================================\n",
      "Initial portfolio value:100000\n",
      "Final portfolio value: 527908000.0\n",
      "Final accumulative portfolio value: 5279.08\n",
      "Maximum DrawDown: -0.42961015781985923\n",
      "Sharpe ratio: 5.765174752900646\n",
      "=================================\n"
     ]
    },
    {
     "name": "stderr",
     "output_type": "stream",
     "text": [
      " 54%|█████▍    | 27/50 [03:42<03:10,  8.28s/it]"
     ]
    },
    {
     "name": "stdout",
     "output_type": "stream",
     "text": [
      "=================================\n",
      "Initial portfolio value:100000\n",
      "Final portfolio value: 532069024.0\n",
      "Final accumulative portfolio value: 5320.69024\n",
      "Maximum DrawDown: -0.4298186199674008\n",
      "Sharpe ratio: 5.768849419016658\n",
      "=================================\n"
     ]
    },
    {
     "name": "stderr",
     "output_type": "stream",
     "text": [
      " 56%|█████▌    | 28/50 [03:50<03:01,  8.23s/it]"
     ]
    },
    {
     "name": "stdout",
     "output_type": "stream",
     "text": [
      "=================================\n",
      "Initial portfolio value:100000\n",
      "Final portfolio value: 536495616.0\n",
      "Final accumulative portfolio value: 5364.95616\n",
      "Maximum DrawDown: -0.4300059537076739\n",
      "Sharpe ratio: 5.772813123619017\n",
      "=================================\n"
     ]
    },
    {
     "name": "stderr",
     "output_type": "stream",
     "text": [
      " 58%|█████▊    | 29/50 [03:58<02:52,  8.22s/it]"
     ]
    },
    {
     "name": "stdout",
     "output_type": "stream",
     "text": [
      "=================================\n",
      "Initial portfolio value:100000\n",
      "Final portfolio value: 541223936.0\n",
      "Final accumulative portfolio value: 5412.23936\n",
      "Maximum DrawDown: -0.43017835706014784\n",
      "Sharpe ratio: 5.777002433019301\n",
      "=================================\n"
     ]
    },
    {
     "name": "stderr",
     "output_type": "stream",
     "text": [
      " 60%|██████    | 30/50 [04:06<02:43,  8.19s/it]"
     ]
    },
    {
     "name": "stdout",
     "output_type": "stream",
     "text": [
      "=================================\n",
      "Initial portfolio value:100000\n",
      "Final portfolio value: 546301312.0\n",
      "Final accumulative portfolio value: 5463.01312\n",
      "Maximum DrawDown: -0.43034187425317616\n",
      "Sharpe ratio: 5.78137051189022\n",
      "=================================\n"
     ]
    },
    {
     "name": "stderr",
     "output_type": "stream",
     "text": [
      " 62%|██████▏   | 31/50 [04:15<02:35,  8.17s/it]"
     ]
    },
    {
     "name": "stdout",
     "output_type": "stream",
     "text": [
      "=================================\n",
      "Initial portfolio value:100000\n",
      "Final portfolio value: 551799488.0\n",
      "Final accumulative portfolio value: 5517.99488\n",
      "Maximum DrawDown: -0.4304980262671171\n",
      "Sharpe ratio: 5.785906677563075\n",
      "=================================\n"
     ]
    },
    {
     "name": "stderr",
     "output_type": "stream",
     "text": [
      " 64%|██████▍   | 32/50 [04:23<02:27,  8.21s/it]"
     ]
    },
    {
     "name": "stdout",
     "output_type": "stream",
     "text": [
      "=================================\n",
      "Initial portfolio value:100000\n",
      "Final portfolio value: 557811648.0\n",
      "Final accumulative portfolio value: 5578.11648\n",
      "Maximum DrawDown: -0.4306470432150097\n",
      "Sharpe ratio: 5.790626824663796\n",
      "=================================\n"
     ]
    },
    {
     "name": "stderr",
     "output_type": "stream",
     "text": [
      " 66%|██████▌   | 33/50 [04:31<02:19,  8.20s/it]"
     ]
    },
    {
     "name": "stdout",
     "output_type": "stream",
     "text": [
      "=================================\n",
      "Initial portfolio value:100000\n",
      "Final portfolio value: 564469440.0\n",
      "Final accumulative portfolio value: 5644.6944\n",
      "Maximum DrawDown: -0.4307839360575981\n",
      "Sharpe ratio: 5.795601641752025\n",
      "=================================\n"
     ]
    },
    {
     "name": "stderr",
     "output_type": "stream",
     "text": [
      " 68%|██████▊   | 34/50 [04:39<02:10,  8.18s/it]"
     ]
    },
    {
     "name": "stdout",
     "output_type": "stream",
     "text": [
      "=================================\n",
      "Initial portfolio value:100000\n",
      "Final portfolio value: 571984128.0\n",
      "Final accumulative portfolio value: 5719.84128\n",
      "Maximum DrawDown: -0.4309011355662048\n",
      "Sharpe ratio: 5.800988209062925\n",
      "=================================\n"
     ]
    },
    {
     "name": "stderr",
     "output_type": "stream",
     "text": [
      " 70%|███████   | 35/50 [04:47<02:02,  8.17s/it]"
     ]
    },
    {
     "name": "stdout",
     "output_type": "stream",
     "text": [
      "=================================\n",
      "Initial portfolio value:100000\n",
      "Final portfolio value: 580649984.0\n",
      "Final accumulative portfolio value: 5806.49984\n",
      "Maximum DrawDown: -0.43098543898715624\n",
      "Sharpe ratio: 5.807021803223379\n",
      "=================================\n"
     ]
    },
    {
     "name": "stderr",
     "output_type": "stream",
     "text": [
      " 72%|███████▏  | 36/50 [04:55<01:54,  8.16s/it]"
     ]
    },
    {
     "name": "stdout",
     "output_type": "stream",
     "text": [
      "=================================\n",
      "Initial portfolio value:100000\n",
      "Final portfolio value: 590737664.0\n",
      "Final accumulative portfolio value: 5907.37664\n",
      "Maximum DrawDown: -0.4310058428241358\n",
      "Sharpe ratio: 5.813949519598389\n",
      "=================================\n"
     ]
    },
    {
     "name": "stderr",
     "output_type": "stream",
     "text": [
      " 74%|███████▍  | 37/50 [05:04<01:46,  8.16s/it]"
     ]
    },
    {
     "name": "stdout",
     "output_type": "stream",
     "text": [
      "=================================\n",
      "Initial portfolio value:100000\n",
      "Final portfolio value: 603122368.0\n",
      "Final accumulative portfolio value: 6031.22368\n",
      "Maximum DrawDown: -0.4309186461166259\n",
      "Sharpe ratio: 5.822453417345196\n",
      "=================================\n"
     ]
    },
    {
     "name": "stderr",
     "output_type": "stream",
     "text": [
      " 76%|███████▌  | 38/50 [05:12<01:37,  8.15s/it]"
     ]
    },
    {
     "name": "stdout",
     "output_type": "stream",
     "text": [
      "=================================\n",
      "Initial portfolio value:100000\n",
      "Final portfolio value: 619407104.0\n",
      "Final accumulative portfolio value: 6194.07104\n",
      "Maximum DrawDown: -0.43067635502817436\n",
      "Sharpe ratio: 5.833553960170864\n",
      "=================================\n"
     ]
    },
    {
     "name": "stderr",
     "output_type": "stream",
     "text": [
      " 78%|███████▊  | 39/50 [05:20<01:29,  8.15s/it]"
     ]
    },
    {
     "name": "stdout",
     "output_type": "stream",
     "text": [
      "=================================\n",
      "Initial portfolio value:100000\n",
      "Final portfolio value: 642201856.0\n",
      "Final accumulative portfolio value: 6422.01856\n",
      "Maximum DrawDown: -0.4302431408853815\n",
      "Sharpe ratio: 5.84814856434016\n",
      "=================================\n"
     ]
    },
    {
     "name": "stderr",
     "output_type": "stream",
     "text": [
      " 80%|████████  | 40/50 [05:28<01:21,  8.14s/it]"
     ]
    },
    {
     "name": "stdout",
     "output_type": "stream",
     "text": [
      "=================================\n",
      "Initial portfolio value:100000\n",
      "Final portfolio value: 678588672.0\n",
      "Final accumulative portfolio value: 6785.88672\n",
      "Maximum DrawDown: -0.42955436063091357\n",
      "Sharpe ratio: 5.868081902402149\n",
      "=================================\n"
     ]
    },
    {
     "name": "stderr",
     "output_type": "stream",
     "text": [
      " 82%|████████▏ | 41/50 [05:36<01:13,  8.14s/it]"
     ]
    },
    {
     "name": "stdout",
     "output_type": "stream",
     "text": [
      "=================================\n",
      "Initial portfolio value:100000\n",
      "Final portfolio value: 736208128.0\n",
      "Final accumulative portfolio value: 7362.08128\n",
      "Maximum DrawDown: -0.42844188423354646\n",
      "Sharpe ratio: 5.885386959669689\n",
      "=================================\n"
     ]
    },
    {
     "name": "stderr",
     "output_type": "stream",
     "text": [
      " 84%|████████▍ | 42/50 [05:44<01:05,  8.15s/it]"
     ]
    },
    {
     "name": "stdout",
     "output_type": "stream",
     "text": [
      "=================================\n",
      "Initial portfolio value:100000\n",
      "Final portfolio value: 845525696.0\n",
      "Final accumulative portfolio value: 8455.25696\n",
      "Maximum DrawDown: -0.42707407540130027\n",
      "Sharpe ratio: 5.881992007979575\n",
      "=================================\n"
     ]
    },
    {
     "name": "stderr",
     "output_type": "stream",
     "text": [
      " 86%|████████▌ | 43/50 [05:52<00:57,  8.14s/it]"
     ]
    },
    {
     "name": "stdout",
     "output_type": "stream",
     "text": [
      "=================================\n",
      "Initial portfolio value:100000\n",
      "Final portfolio value: 973870400.0\n",
      "Final accumulative portfolio value: 9738.704\n",
      "Maximum DrawDown: -0.4261050387409494\n",
      "Sharpe ratio: 5.732693268049549\n",
      "=================================\n"
     ]
    },
    {
     "name": "stderr",
     "output_type": "stream",
     "text": [
      " 88%|████████▊ | 44/50 [06:01<00:48,  8.16s/it]"
     ]
    },
    {
     "name": "stdout",
     "output_type": "stream",
     "text": [
      "=================================\n",
      "Initial portfolio value:100000\n",
      "Final portfolio value: 1110663424.0\n",
      "Final accumulative portfolio value: 11106.63424\n",
      "Maximum DrawDown: -0.42648056084016084\n",
      "Sharpe ratio: 5.810094119713537\n",
      "=================================\n"
     ]
    },
    {
     "name": "stderr",
     "output_type": "stream",
     "text": [
      " 90%|█████████ | 45/50 [06:09<00:40,  8.17s/it]"
     ]
    },
    {
     "name": "stdout",
     "output_type": "stream",
     "text": [
      "=================================\n",
      "Initial portfolio value:100000\n",
      "Final portfolio value: 1795711488.0\n",
      "Final accumulative portfolio value: 17957.11488\n",
      "Maximum DrawDown: -0.43069712441906294\n",
      "Sharpe ratio: 5.847614125104445\n",
      "=================================\n"
     ]
    },
    {
     "name": "stderr",
     "output_type": "stream",
     "text": [
      " 92%|█████████▏| 46/50 [06:17<00:32,  8.22s/it]"
     ]
    },
    {
     "name": "stdout",
     "output_type": "stream",
     "text": [
      "=================================\n",
      "Initial portfolio value:100000\n",
      "Final portfolio value: 1984326784.0\n",
      "Final accumulative portfolio value: 19843.26784\n",
      "Maximum DrawDown: -0.4695539344463795\n",
      "Sharpe ratio: 5.490320940395216\n",
      "=================================\n"
     ]
    },
    {
     "name": "stderr",
     "output_type": "stream",
     "text": [
      " 94%|█████████▍| 47/50 [06:25<00:24,  8.21s/it]"
     ]
    },
    {
     "name": "stdout",
     "output_type": "stream",
     "text": [
      "=================================\n",
      "Initial portfolio value:100000\n",
      "Final portfolio value: 2164970496.0\n",
      "Final accumulative portfolio value: 21649.70496\n",
      "Maximum DrawDown: -0.4951638505773944\n",
      "Sharpe ratio: 5.507697165188352\n",
      "=================================\n"
     ]
    },
    {
     "name": "stderr",
     "output_type": "stream",
     "text": [
      " 96%|█████████▌| 48/50 [06:34<00:16,  8.19s/it]"
     ]
    },
    {
     "name": "stdout",
     "output_type": "stream",
     "text": [
      "=================================\n",
      "Initial portfolio value:100000\n",
      "Final portfolio value: 2198236672.0\n",
      "Final accumulative portfolio value: 21982.36672\n",
      "Maximum DrawDown: -0.503538284383645\n",
      "Sharpe ratio: 5.7092774989934805\n",
      "=================================\n"
     ]
    },
    {
     "name": "stderr",
     "output_type": "stream",
     "text": [
      " 98%|█████████▊| 49/50 [06:42<00:08,  8.18s/it]"
     ]
    },
    {
     "name": "stdout",
     "output_type": "stream",
     "text": [
      "=================================\n",
      "Initial portfolio value:100000\n",
      "Final portfolio value: 2762716672.0\n",
      "Final accumulative portfolio value: 27627.16672\n",
      "Maximum DrawDown: -0.5073644171348802\n",
      "Sharpe ratio: 5.409682354051288\n",
      "=================================\n"
     ]
    },
    {
     "name": "stderr",
     "output_type": "stream",
     "text": [
      "100%|██████████| 50/50 [06:50<00:00,  8.21s/it]\n"
     ]
    },
    {
     "data": {
      "text/plain": [
       "<finrl.agents.portfolio_optimization.algorithms.PolicyGradient at 0x2fd9939b0>"
      ]
     },
     "execution_count": 35,
     "metadata": {},
     "output_type": "execute_result"
    }
   ],
   "source": [
    "DRLAgent.train_model(model, episodes=50)"
   ]
  },
  {
   "cell_type": "code",
   "execution_count": 36,
   "metadata": {},
   "outputs": [],
   "source": [
    "torch.save(model.train_policy.state_dict(), \"policy_EIIE.pt\")"
   ]
  },
  {
   "cell_type": "markdown",
   "metadata": {},
   "source": [
    "Setting the test environment"
   ]
  },
  {
   "cell_type": "code",
   "execution_count": 37,
   "metadata": {},
   "outputs": [],
   "source": [
    "environment_test = PortfolioOptimizationEnv(\n",
    "        df_portfolio_test,\n",
    "        initial_amount=100000,\n",
    "        comission_fee_pct=0.0025,\n",
    "        time_window=T,\n",
    "        features=[\"close\", \"high\", \"low\"],\n",
    "        normalize_df=None\n",
    ")"
   ]
  },
  {
   "cell_type": "code",
   "execution_count": 38,
   "metadata": {},
   "outputs": [
    {
     "name": "stdout",
     "output_type": "stream",
     "text": [
      "=================================\n",
      "Initial portfolio value:100000\n",
      "Final portfolio value: 231892.28125\n",
      "Final accumulative portfolio value: 2.3189228125\n",
      "Maximum DrawDown: -0.5084143035342543\n",
      "Sharpe ratio: 2.761236660916153\n",
      "=================================\n"
     ]
    }
   ],
   "source": [
    "EIIE_results = {\n",
    "    \"training\": environment._asset_memory[\"final\"],\n",
    "    \"test\": {}\n",
    "}\n",
    "\n",
    "# instantiate an architecture with the same arguments used in training\n",
    "# and load with load_state_dict.\n",
    "policy = EIIE(k_size=3, \n",
    "              time_window=T,\n",
    "              device=device)\n",
    "policy.load_state_dict(torch.load(\"policy_EIIE.pt\"))\n",
    "\n",
    "DRLAgent.DRL_validation(model, environment_test, policy=policy)\n",
    "EIIE_results[\"test\"][\"value\"] = environment_test._asset_memory[\"final\"]"
   ]
  },
  {
   "cell_type": "code",
   "execution_count": 99,
   "metadata": {},
   "outputs": [],
   "source": [
    "out_of_sample_df = pd.DataFrame(index=pd.to_datetime(df_portfolio_test.date.unique()[T-1:]),\n",
    "                                data=EIIE_results[\"test\"][\"value\"], columns=[\"RL\"])\n",
    "out_of_sample_metrics = out_of_sample_df.pct_change().fillna(0)\n",
    "out_of_sample_df = (out_of_sample_df/out_of_sample_df.iloc[0]) - 1"
   ]
  },
  {
   "cell_type": "code",
   "execution_count": 74,
   "metadata": {},
   "outputs": [
    {
     "data": {
      "image/png": "[encoded data removed]",
      "text/plain": [
       "<Figure size 600x300 with 1 Axes>"
      ]
     },
     "metadata": {},
     "output_type": "display_data"
    }
   ],
   "source": [
    "fig, ax = plt.subplots(figsize=(6,3))\n",
    "ax.plot(out_of_sample_df.index, out_of_sample_df, label=\"RL\")\n",
    "ax.set_ylabel('Return')\n",
    "ax.set_xlabel(\"Date\")\n",
    "ax.legend()\n",
    "plt.title(\"Portfolio Cumulative Return\")\n",
    "plt.setp(ax.get_xticklabels(), rotation=30, horizontalalignment='right')\n",
    "plt.show()"
   ]
  },
  {
   "cell_type": "markdown",
   "metadata": {},
   "source": [
    "Preparing Statistics for portfolio performance"
   ]
  },
  {
   "cell_type": "code",
   "execution_count": 110,
   "metadata": {},
   "outputs": [],
   "source": [
    "import quantstats as qs"
   ]
  },
  {
   "cell_type": "code",
   "execution_count": 129,
   "metadata": {},
   "outputs": [
    {
     "name": "stdout",
     "output_type": "stream",
     "text": [
      "RL Sharpe Ratio: 0.602551103321849\n",
      "RL Max Drawdown: -0.5084143035342541\n",
      "RL final Accumulated Portfolio Value (fAPV): 1.3189228124999999x\n"
     ]
    }
   ],
   "source": [
    "rl_sharpe_ratio = qs.stats.sharpe(out_of_sample_metrics, periods=12).item()\n",
    "rl_mdd = qs.stats.max_drawdown(out_of_sample_metrics).item()\n",
    "rl_fapv = out_of_sample_df.iloc[-1].item()\n",
    "print(f\"RL Sharpe Ratio: {rl_sharpe_ratio}\")\n",
    "print(f\"RL Max Drawdown: {rl_mdd}\")\n",
    "print(f\"RL final Accumulated Portfolio Value (fAPV): {rl_fapv}x\")"
   ]
  },
  {
   "cell_type": "markdown",
   "metadata": {},
   "source": [
    "Findings"
   ]
  },
  {
   "cell_type": "markdown",
   "metadata": {},
   "source": [
    "Our finding from the Reinforcement Learning model shows that the agent was able to make more money than the benchmark but it has a way lower Sharpe ratio. This can be mitigated by better training and through the addition of more features such as technical analysis, longer lookback period and other forms of alternative data such as sentiment. We also have to train these models multiple times and average the results to have a more consistent result on model performance. Nonetheless, here we want to show that a simple RL agent can beat the benchmarks and it can be further fine-tuned and improved for better performance. In our older submission, we showed that we were able to have Deep Learning architectures that can learn better such as Transformers. In this Example, the Agent has a Policy Algorithm of Ensemble of Identical Independent Evaluators (EIIE), which is a series of convolutions trained on understanding the short-term and long term trends of these stocks. We will use other Policy Gradients such as Transformer model as our previous submission and test its predictive capability in assigning portfolio weights for optimal allocation. "
   ]
  }
 ],
 "metadata": {
  "kernelspec": {
   "display_name": "Python 3",
   "language": "python",
   "name": "python3"
  },
  "language_info": {
   "codemirror_mode": {
    "name": "ipython",
    "version": 3
   },
   "file_extension": ".py",
   "mimetype": "text/x-python",
   "name": "python",
   "nbconvert_exporter": "python",
   "pygments_lexer": "ipython3",
   "version": "3.12.3"
  }
 },
 "nbformat": 4,
 "nbformat_minor": 2
}
