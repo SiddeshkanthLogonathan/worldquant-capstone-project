{
 "cells": [
  {
   "cell_type": "code",
   "execution_count": 1,
   "metadata": {},
   "outputs": [],
   "source": [
    "import yfinance as yf\n",
    "import pandas as pd\n",
    "import numpy as np\n",
    "from modules.benchmarks import MultiPeriodMeanVariance\n",
    "import matplotlib.pyplot as plt\n",
    "import quantstats as qs\n",
    "import json"
   ]
  },
  {
   "cell_type": "code",
   "execution_count": 2,
   "metadata": {},
   "outputs": [],
   "source": [
    "config_file_name = \"config.json\"\n",
    "with open(config_file_name, \"r\") as jsonfile:\n",
    "    config_data = json.load(jsonfile)"
   ]
  },
  {
   "cell_type": "code",
   "execution_count": 3,
   "metadata": {},
   "outputs": [
    {
     "data": {
      "text/plain": [
       "101"
      ]
     },
     "execution_count": 3,
     "metadata": {},
     "output_type": "execute_result"
    }
   ],
   "source": [
    "sp100 = config_data[\"tickers\"][\"America\"][\"SP100\"]\n",
    "NUM_ASSETS = len(sp100)\n",
    "len(sp100)"
   ]
  },
  {
   "cell_type": "code",
   "execution_count": 4,
   "metadata": {},
   "outputs": [],
   "source": [
    "start_date = config_data[\"timeframe\"][\"sp100\"][\"start_date\"]\n",
    "end_date = config_data[\"timeframe\"][\"sp100\"][\"end_date\"]\n",
    "data_interval = config_data[\"data_interval\"]\n",
    "test_ratio = config_data[\"train_test_ratio\"]\n",
    "random_seed = config_data[\"random_state_seed\"]"
   ]
  },
  {
   "cell_type": "code",
   "execution_count": 5,
   "metadata": {},
   "outputs": [
    {
     "name": "stderr",
     "output_type": "stream",
     "text": [
      "[*********************100%%**********************]  101 of 101 completed\n"
     ]
    }
   ],
   "source": [
    "dataset = yf.download(sp100, \n",
    "                      start=start_date, \n",
    "                      end=end_date,\n",
    "                      interval=data_interval)['Adj Close']\n",
    "dataset.to_csv(\"data/raw/sp100_stocks_price.csv\")"
   ]
  },
  {
   "cell_type": "code",
   "execution_count": 6,
   "metadata": {},
   "outputs": [],
   "source": [
    "dataset_price_change = dataset.pct_change().fillna(0)\n",
    "dataset_return = dataset/dataset.shift(1).fillna(1)"
   ]
  },
  {
   "cell_type": "code",
   "execution_count": 7,
   "metadata": {},
   "outputs": [],
   "source": [
    "NUM_ASSETS = len(dataset.columns.unique().tolist())"
   ]
  },
  {
   "cell_type": "code",
   "execution_count": 8,
   "metadata": {},
   "outputs": [
    {
     "data": {
      "text/plain": [
       "(24, 3)"
      ]
     },
     "execution_count": 8,
     "metadata": {},
     "output_type": "execute_result"
    }
   ],
   "source": [
    "lookback_window = config_data[\"lookback_window\"] # W\n",
    "multi_step_horizon = config_data[\"multi_step_horizon\"] # T\n",
    "lookback_window, multi_step_horizon"
   ]
  },
  {
   "cell_type": "code",
   "execution_count": 9,
   "metadata": {},
   "outputs": [
    {
     "data": {
      "text/plain": [
       "101"
      ]
     },
     "execution_count": 9,
     "metadata": {},
     "output_type": "execute_result"
    }
   ],
   "source": [
    "X_test_mpo = []\n",
    "for i in range(len(dataset_price_change.values)-lookback_window):\n",
    "    Sigmas = []\n",
    "    mu = []\n",
    "    for j in range(multi_step_horizon):\n",
    "        cov_matrix_j = dataset_price_change.iloc[i+j:i+j+lookback_window-multi_step_horizon].cov().values\n",
    "        mu_j = dataset_price_change.iloc[i+j:i+j+lookback_window-multi_step_horizon].mean(0).values\n",
    "        Sigmas.append(cov_matrix_j)\n",
    "        mu.append(mu_j)\n",
    "    hist = dataset_return.iloc[i:i+lookback_window]\n",
    "    pred = dataset_return.iloc[i+lookback_window:i+lookback_window+multi_step_horizon]\n",
    "    X_test_mpo.append([hist, np.stack(mu), np.stack(Sigmas), pred])\n",
    "\n",
    "len(X_test_mpo)"
   ]
  },
  {
   "cell_type": "code",
   "execution_count": 10,
   "metadata": {},
   "outputs": [
    {
     "data": {
      "text/plain": [
       "101"
      ]
     },
     "execution_count": 10,
     "metadata": {},
     "output_type": "execute_result"
    }
   ],
   "source": [
    "X_test_spo = []\n",
    "for i in range(len(dataset_price_change.values)-lookback_window):\n",
    "    Sigmas = []\n",
    "    mu = []\n",
    "    for j in range(1):\n",
    "        cov_matrix_j = dataset_price_change.iloc[i+j:i+j+lookback_window-multi_step_horizon].cov().values\n",
    "        mu_j = dataset_price_change.iloc[i+j:i+j+lookback_window-multi_step_horizon].mean(0).values\n",
    "        Sigmas.append(cov_matrix_j)\n",
    "        mu.append(mu_j)\n",
    "    hist = dataset_return.iloc[i:i+lookback_window]\n",
    "    pred = dataset_return.iloc[i+lookback_window:i+lookback_window+multi_step_horizon]\n",
    "    X_test_spo.append([hist, np.stack(mu), np.stack(Sigmas), pred])\n",
    "\n",
    "len(X_test_spo)"
   ]
  },
  {
   "cell_type": "markdown",
   "metadata": {},
   "source": [
    "Markowitz's Multi-Period Optimization"
   ]
  },
  {
   "cell_type": "code",
   "execution_count": 11,
   "metadata": {},
   "outputs": [],
   "source": [
    "mean_variance_mpo = MultiPeriodMeanVariance(\n",
    "    num_assets=NUM_ASSETS,\n",
    "    multi_period_step=multi_step_horizon,\n",
    "    min_individual_allocation=0.005,\n",
    "    max_individual_allocation=0.25,\n",
    "    risk_aversion_coefficient=1,\n",
    "    trade_cost=0.0025,\n",
    "    holding_cost=0\n",
    ")"
   ]
  },
  {
   "cell_type": "markdown",
   "metadata": {},
   "source": [
    "Markowitz's Single Period Optimization"
   ]
  },
  {
   "cell_type": "code",
   "execution_count": 12,
   "metadata": {},
   "outputs": [],
   "source": [
    "mean_variance_spo = MultiPeriodMeanVariance(\n",
    "    num_assets=NUM_ASSETS,\n",
    "    multi_period_step=1,\n",
    "    min_individual_allocation=0.005,\n",
    "    max_individual_allocation=0.25,\n",
    "    risk_aversion_coefficient=1,\n",
    "    trade_cost=0.0025,\n",
    "    holding_cost=0\n",
    ")"
   ]
  },
  {
   "cell_type": "code",
   "execution_count": 13,
   "metadata": {},
   "outputs": [],
   "source": [
    "result_mv_mpo = []\n",
    "for hist, mu, Sigma, pred in X_test_mpo:\n",
    "   if len(pred) < multi_step_horizon:\n",
    "      continue\n",
    "   mpo_opt_weights = mean_variance_mpo(mu, Sigma)\n",
    "   portfolio_value_mpo = (mpo_opt_weights*pred).sum(1).prod()\n",
    "   result_mv_mpo.append(portfolio_value_mpo)"
   ]
  },
  {
   "cell_type": "code",
   "execution_count": 14,
   "metadata": {},
   "outputs": [],
   "source": [
    "result_mv_spo = []\n",
    "for hist, mu, Sigma, pred in X_test_spo:\n",
    "   spo_opt_weights = mean_variance_spo(mu, Sigma)\n",
    "   portfolio_value_spo = (spo_opt_weights*pred).sum(1).prod()\n",
    "   result_mv_spo.append(portfolio_value_spo)"
   ]
  },
  {
   "cell_type": "code",
   "execution_count": 15,
   "metadata": {},
   "outputs": [
    {
     "data": {
      "text/plain": [
       "(99, 99)"
      ]
     },
     "execution_count": 15,
     "metadata": {},
     "output_type": "execute_result"
    }
   ],
   "source": [
    "result_mv_spo = result_mv_spo[:len(result_mv_mpo)]\n",
    "len(result_mv_spo), len(result_mv_mpo)"
   ]
  },
  {
   "cell_type": "code",
   "execution_count": 16,
   "metadata": {},
   "outputs": [
    {
     "data": {
      "text/plain": [
       "99"
      ]
     },
     "execution_count": 16,
     "metadata": {},
     "output_type": "execute_result"
    }
   ],
   "source": [
    "result_mv_mpo = pd.Series(result_mv_mpo, index=dataset[-len(result_mv_mpo):].index)\n",
    "result_mv_mpo = result_mv_mpo.pct_change().fillna(0).cumsum()\n",
    "len(result_mv_mpo)"
   ]
  },
  {
   "cell_type": "code",
   "execution_count": 17,
   "metadata": {},
   "outputs": [
    {
     "data": {
      "text/plain": [
       "99"
      ]
     },
     "execution_count": 17,
     "metadata": {},
     "output_type": "execute_result"
    }
   ],
   "source": [
    "result_mv_spo = pd.Series(result_mv_spo, index=dataset[-len(result_mv_spo):].index)\n",
    "result_mv_spo = result_mv_spo.pct_change().fillna(0).cumsum()\n",
    "len(result_mv_spo)"
   ]
  },
  {
   "cell_type": "code",
   "execution_count": 18,
   "metadata": {},
   "outputs": [],
   "source": [
    "result_mv_mpo_plot = result_mv_mpo*100\n",
    "result_mv_spo_plot = result_mv_spo*100"
   ]
  },
  {
   "cell_type": "code",
   "execution_count": 19,
   "metadata": {},
   "outputs": [
    {
     "name": "stderr",
     "output_type": "stream",
     "text": [
      "[*********************100%%**********************]  1 of 1 completed\n"
     ]
    }
   ],
   "source": [
    "sp100_etf_ticker = \"^OEX\"\n",
    "sp100_index = yf.download(sp100_etf_ticker, \n",
    "                        start=start_date, \n",
    "                        end=end_date,\n",
    "                        interval=data_interval)['Adj Close']"
   ]
  },
  {
   "cell_type": "code",
   "execution_count": 20,
   "metadata": {},
   "outputs": [],
   "source": [
    "sp100_index = sp100_index.loc[result_mv_mpo.index]\n",
    "sp100_index = sp100_index.pct_change().fillna(0)\n",
    "sp100_index = sp100_index.cumsum()\n",
    "sp100_index_plot = sp100_index*100"
   ]
  },
  {
   "cell_type": "code",
   "execution_count": 35,
   "metadata": {},
   "outputs": [
    {
     "data": {
      "image/png": "[encoded data removed]",
      "text/plain": [
       "<Figure size 800x500 with 1 Axes>"
      ]
     },
     "metadata": {},
     "output_type": "display_data"
    }
   ],
   "source": [
    "plt.figure(figsize=(8,5))\n",
    "plt.plot(result_mv_spo_plot.index, result_mv_spo_plot, label='Single-Period')\n",
    "plt.plot(result_mv_mpo_plot.index, result_mv_mpo_plot, label='Multi-Period')\n",
    "plt.plot(sp100_index_plot.index, sp100_index_plot, label='SP100')\n",
    "plt.xlabel(\"Date\")\n",
    "plt.ylabel(\"Cumulative Return (%)\")\n",
    "plt.legend()\n",
    "plt.title(\"Multi-Period vs. Single-Period Markowitz's Convex Optimization\")\n",
    "plt.show()"
   ]
  },
  {
   "cell_type": "code",
   "execution_count": 26,
   "metadata": {},
   "outputs": [],
   "source": [
    "def fapv(x):\n",
    "    return x.iloc[-1]/x.iloc[0]"
   ]
  },
  {
   "cell_type": "markdown",
   "metadata": {},
   "source": [
    "Persisting the data in data/processed file"
   ]
  },
  {
   "cell_type": "code",
   "execution_count": 30,
   "metadata": {},
   "outputs": [
    {
     "data": {
      "text/html": [
       "<div>\n",
       "<style scoped>\n",
       "    .dataframe tbody tr th:only-of-type {\n",
       "        vertical-align: middle;\n",
       "    }\n",
       "\n",
       "    .dataframe tbody tr th {\n",
       "        vertical-align: top;\n",
       "    }\n",
       "\n",
       "    .dataframe thead th {\n",
       "        text-align: right;\n",
       "    }\n",
       "</style>\n",
       "<table border=\"1\" class=\"dataframe\">\n",
       "  <thead>\n",
       "    <tr style=\"text-align: right;\">\n",
       "      <th></th>\n",
       "      <th>MPO</th>\n",
       "      <th>SPO</th>\n",
       "      <th>SP100</th>\n",
       "    </tr>\n",
       "    <tr>\n",
       "      <th>Date</th>\n",
       "      <th></th>\n",
       "      <th></th>\n",
       "      <th></th>\n",
       "    </tr>\n",
       "  </thead>\n",
       "  <tbody>\n",
       "    <tr>\n",
       "      <th>2016-03-01</th>\n",
       "      <td>1.000000</td>\n",
       "      <td>1.000000</td>\n",
       "      <td>1.000000</td>\n",
       "    </tr>\n",
       "    <tr>\n",
       "      <th>2016-04-01</th>\n",
       "      <td>1.067263</td>\n",
       "      <td>1.067353</td>\n",
       "      <td>1.002289</td>\n",
       "    </tr>\n",
       "    <tr>\n",
       "      <th>2016-05-01</th>\n",
       "      <td>1.121838</td>\n",
       "      <td>1.119996</td>\n",
       "      <td>1.016092</td>\n",
       "    </tr>\n",
       "    <tr>\n",
       "      <th>2016-06-01</th>\n",
       "      <td>1.009459</td>\n",
       "      <td>1.006882</td>\n",
       "      <td>1.016610</td>\n",
       "    </tr>\n",
       "    <tr>\n",
       "      <th>2016-07-01</th>\n",
       "      <td>1.114940</td>\n",
       "      <td>1.075758</td>\n",
       "      <td>1.052833</td>\n",
       "    </tr>\n",
       "  </tbody>\n",
       "</table>\n",
       "</div>"
      ],
      "text/plain": [
       "                 MPO       SPO     SP100\n",
       "Date                                    \n",
       "2016-03-01  1.000000  1.000000  1.000000\n",
       "2016-04-01  1.067263  1.067353  1.002289\n",
       "2016-05-01  1.121838  1.119996  1.016092\n",
       "2016-06-01  1.009459  1.006882  1.016610\n",
       "2016-07-01  1.114940  1.075758  1.052833"
      ]
     },
     "execution_count": 30,
     "metadata": {},
     "output_type": "execute_result"
    }
   ],
   "source": [
    "performances_result_df = pd.concat([result_mv_mpo, result_mv_spo, sp100_index], axis=1)\n",
    "performances_result_df.columns = [\"MPO\", \"SPO\", \"SP100\"]\n",
    "performances_result_df += 1\n",
    "performances_result_df.head()"
   ]
  },
  {
   "cell_type": "code",
   "execution_count": 31,
   "metadata": {},
   "outputs": [],
   "source": [
    "# 1. final Accumulated Portfolio Value\n",
    "fapv_mpo = performances_result_df.apply(lambda x: fapv(x), axis=0)\n",
    "# 2. Sharpe Ratio:\n",
    "sr_mpo = performances_result_df.apply(lambda x: qs.stats.sharpe(x, periods=12, annualize=True), axis=0)\n",
    "# 3. Maximum DrawDown:\n",
    "mdd_mpo = performances_result_df.apply(lambda x: qs.stats.max_drawdown(x), axis=0)"
   ]
  },
  {
   "cell_type": "markdown",
   "metadata": {},
   "source": [
    "MPO vs. SPO Metrics"
   ]
  },
  {
   "cell_type": "code",
   "execution_count": 32,
   "metadata": {},
   "outputs": [
    {
     "data": {
      "text/html": [
       "<div>\n",
       "<style scoped>\n",
       "    .dataframe tbody tr th:only-of-type {\n",
       "        vertical-align: middle;\n",
       "    }\n",
       "\n",
       "    .dataframe tbody tr th {\n",
       "        vertical-align: top;\n",
       "    }\n",
       "\n",
       "    .dataframe thead th {\n",
       "        text-align: right;\n",
       "    }\n",
       "</style>\n",
       "<table border=\"1\" class=\"dataframe\">\n",
       "  <thead>\n",
       "    <tr style=\"text-align: right;\">\n",
       "      <th></th>\n",
       "      <th>MPO</th>\n",
       "      <th>SPO</th>\n",
       "      <th>SP100</th>\n",
       "    </tr>\n",
       "  </thead>\n",
       "  <tbody>\n",
       "    <tr>\n",
       "      <th>fAPV</th>\n",
       "      <td>1.714602</td>\n",
       "      <td>1.729492</td>\n",
       "      <td>2.123633</td>\n",
       "    </tr>\n",
       "    <tr>\n",
       "      <th>SR</th>\n",
       "      <td>0.353027</td>\n",
       "      <td>0.358771</td>\n",
       "      <td>0.942288</td>\n",
       "    </tr>\n",
       "    <tr>\n",
       "      <th>MDD</th>\n",
       "      <td>-0.356126</td>\n",
       "      <td>-0.371382</td>\n",
       "      <td>-0.143636</td>\n",
       "    </tr>\n",
       "  </tbody>\n",
       "</table>\n",
       "</div>"
      ],
      "text/plain": [
       "           MPO       SPO     SP100\n",
       "fAPV  1.714602  1.729492  2.123633\n",
       "SR    0.353027  0.358771  0.942288\n",
       "MDD  -0.356126 -0.371382 -0.143636"
      ]
     },
     "execution_count": 32,
     "metadata": {},
     "output_type": "execute_result"
    }
   ],
   "source": [
    "metrics_df_sp100 = pd.concat([fapv_mpo, sr_mpo, mdd_mpo], axis=1)\n",
    "metrics_df_sp100.columns = [\"fAPV\", \"SR\", \"MDD\"]\n",
    "metrics_df_sp100 = metrics_df_sp100.T\n",
    "metrics_df_sp100"
   ]
  },
  {
   "cell_type": "code",
   "execution_count": 33,
   "metadata": {},
   "outputs": [],
   "source": [
    "performances_result_df.to_csv(\"data/processed/performances_mpo_vs_spo.csv\")"
   ]
  },
  {
   "cell_type": "code",
   "execution_count": null,
   "metadata": {},
   "outputs": [],
   "source": []
  }
 ],
 "metadata": {
  "kernelspec": {
   "display_name": "Python 3",
   "language": "python",
   "name": "python3"
  },
  "language_info": {
   "codemirror_mode": {
    "name": "ipython",
    "version": 3
   },
   "file_extension": ".py",
   "mimetype": "text/x-python",
   "name": "python",
   "nbconvert_exporter": "python",
   "pygments_lexer": "ipython3",
   "version": "3.12.3"
  }
 },
 "nbformat": 4,
 "nbformat_minor": 2
}
