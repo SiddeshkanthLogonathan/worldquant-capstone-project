{
 "cells": [
  {
   "cell_type": "markdown",
   "metadata": {},
   "source": [
    "In this Notebook, we will train a DRL Agent using an multi-period Hybrid-Transformer model as a policy function for the French stock market index. The evaluation and performance including the agent's actions are displayed more explicity in the notebook."
   ]
  },
  {
   "cell_type": "markdown",
   "metadata": {},
   "source": [
    "## 1. Importing Libraries"
   ]
  },
  {
   "cell_type": "code",
   "execution_count": 1,
   "metadata": {},
   "outputs": [],
   "source": [
    "import torch\n",
    "import torch.nn as nn\n",
    "import torch.nn.functional as F\n",
    "import numpy as np\n",
    "\n",
    "import yfinance as yf\n",
    "import pandas as pd\n",
    "import seaborn as sns\n",
    "from sklearn.model_selection import train_test_split\n",
    "from modules.scalers import GroupByScaler\n",
    "from sklearn.preprocessing import MaxAbsScaler\n",
    "import json\n",
    "import torch\n",
    "\n",
    "from modules.environment import MultiPeriodPortfolioOptimizationEnv\n",
    "from modules.architectures import MultiPeriodConvAttentionNetwork\n",
    "from modules.models import DRLAgent\n",
    "\n",
    "sns.set()\n",
    "\n",
    "device = 'cuda:0' if torch.cuda.is_available() else 'cpu'"
   ]
  },
  {
   "cell_type": "markdown",
   "metadata": {},
   "source": [
    "## 2. Getting Config Data"
   ]
  },
  {
   "cell_type": "code",
   "execution_count": 2,
   "metadata": {},
   "outputs": [],
   "source": [
    "config_file_name = \"config.json\"\n",
    "with open(config_file_name, \"r\") as jsonfile:\n",
    "    config_data = json.load(jsonfile)"
   ]
  },
  {
   "cell_type": "code",
   "execution_count": 3,
   "metadata": {},
   "outputs": [
    {
     "data": {
      "text/plain": [
       "40"
      ]
     },
     "execution_count": 3,
     "metadata": {},
     "output_type": "execute_result"
    }
   ],
   "source": [
    "cac_40 = config_data[\"tickers\"][\"Europe\"][\"CAC_40\"]\n",
    "len(cac_40)"
   ]
  },
  {
   "cell_type": "code",
   "execution_count": 4,
   "metadata": {},
   "outputs": [],
   "source": [
    "start_date = config_data[\"timeframe\"][\"cac40\"][\"start_date\"]\n",
    "end_date = config_data[\"timeframe\"][\"cac40\"][\"end_date\"]\n",
    "data_interval = config_data[\"data_interval\"]\n",
    "test_ratio = config_data[\"train_test_ratio\"]\n",
    "random_seed = config_data[\"random_state_seed\"]"
   ]
  },
  {
   "cell_type": "markdown",
   "metadata": {},
   "source": [
    "## 3. Data Retrieval"
   ]
  },
  {
   "cell_type": "code",
   "execution_count": 5,
   "metadata": {},
   "outputs": [
    {
     "name": "stderr",
     "output_type": "stream",
     "text": [
      "[*********************100%%**********************]  40 of 40 completed\n",
      "\n",
      "2 Failed downloads:\n",
      "['STM.PA', 'STLA.PA']: YFTzMissingError('$%ticker%: possibly delisted; No timezone found')\n",
      "/var/folders/02/rmgfx9wj0s99nn4tzfthtrnc0000gn/T/ipykernel_34188/2718903818.py:3: FutureWarning: DataFrame.fillna with 'method' is deprecated and will raise in a future version. Use obj.ffill() or obj.bfill() instead.\n",
      "  portfolio_raw_df.fillna(method=\"bfill\", inplace=True)\n",
      "/var/folders/02/rmgfx9wj0s99nn4tzfthtrnc0000gn/T/ipykernel_34188/2718903818.py:4: FutureWarning: The previous implementation of stack is deprecated and will be removed in a future version of pandas. See the What's New notes for pandas 2.1.0 for details. Specify future_stack=True to adopt the new implementation and silence this warning.\n",
      "  portfolio_raw_df = portfolio_raw_df.stack(level=1).rename_axis([\"Date\", \"Ticker\"]).reset_index(level=1)\n"
     ]
    }
   ],
   "source": [
    "portfolio_raw_df = yf.download(tickers=cac_40, start=start_date, end=end_date, interval=data_interval)\n",
    "\n",
    "portfolio_raw_df.fillna(method=\"bfill\", inplace=True)\n",
    "portfolio_raw_df = portfolio_raw_df.stack(level=1).rename_axis([\"Date\", \"Ticker\"]).reset_index(level=1)\n",
    "portfolio_raw_df = portfolio_raw_df.drop(\"Adj Close\", axis=1)\n",
    "portfolio_raw_df.columns.name = None\n",
    "portfolio_raw_df = portfolio_raw_df.reset_index()\n",
    "portfolio_raw_df.Date = portfolio_raw_df.Date.astype(str)\n",
    "portfolio_raw_df.columns = [\"date\", \"tic\", \"close\", \"high\", \"low\", \"open\", \"volume\"]\n",
    "portfolio_raw_df = portfolio_raw_df[[\"date\", \"tic\", \"close\", \"high\", \"low\", \"volume\"]]\n",
    "\n",
    "df_portfolio_raw_train, df_portfolio_raw_test = train_test_split(portfolio_raw_df, test_size=test_ratio, shuffle=False, random_state=random_seed)\n",
    "df_portfolio_train = GroupByScaler(by=\"tic\", scaler=MaxAbsScaler).fit_transform(df_portfolio_raw_train)\n",
    "df_portfolio_test = GroupByScaler(by=\"tic\", scaler=MaxAbsScaler).fit_transform(df_portfolio_raw_test)\n"
   ]
  },
  {
   "cell_type": "code",
   "execution_count": 6,
   "metadata": {},
   "outputs": [
    {
     "data": {
      "text/plain": [
       "38"
      ]
     },
     "execution_count": 6,
     "metadata": {},
     "output_type": "execute_result"
    }
   ],
   "source": [
    "NUM_ASSETS = len(portfolio_raw_df.tic.unique().tolist())\n",
    "NUM_ASSETS"
   ]
  },
  {
   "cell_type": "markdown",
   "metadata": {},
   "source": [
    "## 4. DRL Environment\n",
    "### 4.1 Hyperparameter selection"
   ]
  },
  {
   "cell_type": "code",
   "execution_count": 7,
   "metadata": {},
   "outputs": [
    {
     "data": {
      "text/plain": [
       "(24, 3, 4)"
      ]
     },
     "execution_count": 7,
     "metadata": {},
     "output_type": "execute_result"
    }
   ],
   "source": [
    "# SETTING HYPERPARAMETERS\n",
    "FEATURES = [\"close\", \"high\", \"low\", \"volume\"]\n",
    "N = config_data[\"lookback_window\"]\n",
    "T = config_data[\"multi_step_horizon\"]\n",
    "NUM_FEATURES = len(FEATURES)\n",
    "experiment_type = \"HYBRID_TRANSFORMER_CAC40\" \n",
    "N, T, NUM_FEATURES"
   ]
  },
  {
   "cell_type": "markdown",
   "metadata": {},
   "source": [
    "### 4.2 Train Environment Initialization"
   ]
  },
  {
   "cell_type": "code",
   "execution_count": 8,
   "metadata": {},
   "outputs": [],
   "source": [
    "train_environment = MultiPeriodPortfolioOptimizationEnv(\n",
    "    df_portfolio_train,\n",
    "    initial_amount=100000,\n",
    "    comission_fee_pct=0.0025,\n",
    "    time_window=N,\n",
    "    multi_period_horizon=T,\n",
    "    features=FEATURES,\n",
    "    normalize_df=None,\n",
    "    is_train_mode=True,\n",
    "    experiment_type=experiment_type\n",
    ")"
   ]
  },
  {
   "cell_type": "markdown",
   "metadata": {},
   "source": [
    "### 4.3 Model Parameters"
   ]
  },
  {
   "cell_type": "code",
   "execution_count": 9,
   "metadata": {},
   "outputs": [],
   "source": [
    "# set PolicyGradient parameters\n",
    "model_kwargs = {\n",
    "    \"lr\": 0.0001,\n",
    "    \"policy\": MultiPeriodConvAttentionNetwork,\n",
    "    \"multi_period_horizon\": T\n",
    "}\n",
    "\n",
    "# here, we can set EIIE's parameters\n",
    "policy_kwargs = {\n",
    "    \"num_features\": NUM_FEATURES,\n",
    "    \"num_stocks\": NUM_ASSETS,\n",
    "    \"W\": N,\n",
    "    \"T\": T\n",
    "}"
   ]
  },
  {
   "cell_type": "markdown",
   "metadata": {},
   "source": [
    "### 4.4 Agent initialization"
   ]
  },
  {
   "cell_type": "code",
   "execution_count": 10,
   "metadata": {},
   "outputs": [
    {
     "name": "stderr",
     "output_type": "stream",
     "text": [
      "/opt/homebrew/lib/python3.12/site-packages/torch/nn/modules/transformer.py:306: UserWarning: enable_nested_tensor is True, but self.use_nested_tensor is False because encoder_layer.self_attn.num_heads is odd\n",
      "  warnings.warn(f\"enable_nested_tensor is True, but self.use_nested_tensor is False because {why_not_sparsity_fast_path}\")\n"
     ]
    }
   ],
   "source": [
    "model = DRLAgent(train_environment).get_model(\"pg\", device, model_kwargs, policy_kwargs)"
   ]
  },
  {
   "cell_type": "markdown",
   "metadata": {},
   "source": [
    "## 5. Model Training"
   ]
  },
  {
   "cell_type": "code",
   "execution_count": 11,
   "metadata": {},
   "outputs": [
    {
     "name": "stdout",
     "output_type": "stream",
     "text": [
      "TRAINING AGENT.....\n"
     ]
    },
    {
     "name": "stderr",
     "output_type": "stream",
     "text": [
      "  0%|          | 0/35 [00:00<?, ?it/s]"
     ]
    },
    {
     "name": "stdout",
     "output_type": "stream",
     "text": [
      "=================================\n",
      "Initial portfolio value:100000\n",
      "Final portfolio value: 473628.12876374193\n",
      "Final accumulative portfolio value: 4.73628128763742\n",
      "Maximum DrawDown: -0.8556373804958776\n",
      "Sharpe ratio: 0.6816329757524531\n",
      "=================================\n"
     ]
    },
    {
     "name": "stderr",
     "output_type": "stream",
     "text": [
      "  3%|▎         | 1/35 [00:03<02:01,  3.57s/it]"
     ]
    },
    {
     "name": "stdout",
     "output_type": "stream",
     "text": [
      "=================================\n",
      "Initial portfolio value:100000\n",
      "Final portfolio value: 485744.812847591\n",
      "Final accumulative portfolio value: 4.85744812847591\n",
      "Maximum DrawDown: -0.8539333926717468\n",
      "Sharpe ratio: 0.6913128571604664\n",
      "=================================\n"
     ]
    },
    {
     "name": "stderr",
     "output_type": "stream",
     "text": [
      "  6%|▌         | 2/35 [00:07<01:59,  3.63s/it]"
     ]
    },
    {
     "name": "stdout",
     "output_type": "stream",
     "text": [
      "=================================\n",
      "Initial portfolio value:100000\n",
      "Final portfolio value: 496161.40447018633\n",
      "Final accumulative portfolio value: 4.9616140447018635\n",
      "Maximum DrawDown: -0.8534049242206097\n",
      "Sharpe ratio: 0.6984671604271961\n",
      "=================================\n"
     ]
    },
    {
     "name": "stderr",
     "output_type": "stream",
     "text": [
      "  9%|▊         | 3/35 [00:10<01:52,  3.52s/it]"
     ]
    },
    {
     "name": "stdout",
     "output_type": "stream",
     "text": [
      "=================================\n",
      "Initial portfolio value:100000\n",
      "Final portfolio value: 507731.11008272023\n",
      "Final accumulative portfolio value: 5.0773111008272025\n",
      "Maximum DrawDown: -0.8531845729786325\n",
      "Sharpe ratio: 0.7065520745872835\n",
      "=================================\n"
     ]
    },
    {
     "name": "stderr",
     "output_type": "stream",
     "text": [
      " 11%|█▏        | 4/35 [00:14<01:47,  3.48s/it]"
     ]
    },
    {
     "name": "stdout",
     "output_type": "stream",
     "text": [
      "=================================\n",
      "Initial portfolio value:100000\n",
      "Final portfolio value: 526610.4617742979\n",
      "Final accumulative portfolio value: 5.266104617742979\n",
      "Maximum DrawDown: -0.8513466102060316\n",
      "Sharpe ratio: 0.7199729587013922\n",
      "=================================\n"
     ]
    },
    {
     "name": "stderr",
     "output_type": "stream",
     "text": [
      " 14%|█▍        | 5/35 [00:17<01:44,  3.50s/it]"
     ]
    },
    {
     "name": "stdout",
     "output_type": "stream",
     "text": [
      "=================================\n",
      "Initial portfolio value:100000\n",
      "Final portfolio value: 554370.9544694076\n",
      "Final accumulative portfolio value: 5.543709544694075\n",
      "Maximum DrawDown: -0.849146201990839\n",
      "Sharpe ratio: 0.737601646527631\n",
      "=================================\n"
     ]
    },
    {
     "name": "stderr",
     "output_type": "stream",
     "text": [
      " 17%|█▋        | 6/35 [00:21<01:41,  3.49s/it]"
     ]
    },
    {
     "name": "stdout",
     "output_type": "stream",
     "text": [
      "=================================\n",
      "Initial portfolio value:100000\n",
      "Final portfolio value: 571703.4659530498\n",
      "Final accumulative portfolio value: 5.717034659530499\n",
      "Maximum DrawDown: -0.8485631606104969\n",
      "Sharpe ratio: 0.7478612160140823\n",
      "=================================\n"
     ]
    },
    {
     "name": "stderr",
     "output_type": "stream",
     "text": [
      " 20%|██        | 7/35 [00:24<01:35,  3.42s/it]"
     ]
    },
    {
     "name": "stdout",
     "output_type": "stream",
     "text": [
      "=================================\n",
      "Initial portfolio value:100000\n",
      "Final portfolio value: 581362.7735267103\n",
      "Final accumulative portfolio value: 5.8136277352671035\n",
      "Maximum DrawDown: -0.8484579336382032\n",
      "Sharpe ratio: 0.7535082227230813\n",
      "=================================\n"
     ]
    },
    {
     "name": "stderr",
     "output_type": "stream",
     "text": [
      " 23%|██▎       | 8/35 [00:27<01:32,  3.41s/it]"
     ]
    },
    {
     "name": "stdout",
     "output_type": "stream",
     "text": [
      "=================================\n",
      "Initial portfolio value:100000\n",
      "Final portfolio value: 587859.1809308147\n",
      "Final accumulative portfolio value: 5.878591809308147\n",
      "Maximum DrawDown: -0.8480032280359964\n",
      "Sharpe ratio: 0.7567931147727802\n",
      "=================================\n"
     ]
    },
    {
     "name": "stderr",
     "output_type": "stream",
     "text": [
      " 26%|██▌       | 9/35 [00:31<01:27,  3.37s/it]"
     ]
    },
    {
     "name": "stdout",
     "output_type": "stream",
     "text": [
      "=================================\n",
      "Initial portfolio value:100000\n",
      "Final portfolio value: 595280.0950722393\n",
      "Final accumulative portfolio value: 5.952800950722393\n",
      "Maximum DrawDown: -0.8487347045611003\n",
      "Sharpe ratio: 0.7606468345403431\n",
      "=================================\n"
     ]
    },
    {
     "name": "stderr",
     "output_type": "stream",
     "text": [
      " 29%|██▊       | 10/35 [00:34<01:23,  3.32s/it]"
     ]
    },
    {
     "name": "stdout",
     "output_type": "stream",
     "text": [
      "=================================\n",
      "Initial portfolio value:100000\n",
      "Final portfolio value: 594515.1785479375\n",
      "Final accumulative portfolio value: 5.945151785479375\n",
      "Maximum DrawDown: -0.8476419074942537\n",
      "Sharpe ratio: 0.7610273374930085\n",
      "=================================\n"
     ]
    },
    {
     "name": "stderr",
     "output_type": "stream",
     "text": [
      " 31%|███▏      | 11/35 [00:37<01:19,  3.30s/it]"
     ]
    },
    {
     "name": "stdout",
     "output_type": "stream",
     "text": [
      "=================================\n",
      "Initial portfolio value:100000\n",
      "Final portfolio value: 609827.184579165\n",
      "Final accumulative portfolio value: 6.09827184579165\n",
      "Maximum DrawDown: -0.8475562748414777\n",
      "Sharpe ratio: 0.7689680708122916\n",
      "=================================\n"
     ]
    },
    {
     "name": "stderr",
     "output_type": "stream",
     "text": [
      " 34%|███▍      | 12/35 [00:40<01:15,  3.27s/it]"
     ]
    },
    {
     "name": "stdout",
     "output_type": "stream",
     "text": [
      "=================================\n",
      "Initial portfolio value:100000\n",
      "Final portfolio value: 611960.7492443366\n",
      "Final accumulative portfolio value: 6.119607492443366\n",
      "Maximum DrawDown: -0.8471703586854544\n",
      "Sharpe ratio: 0.7704995323929613\n",
      "=================================\n"
     ]
    },
    {
     "name": "stderr",
     "output_type": "stream",
     "text": [
      " 37%|███▋      | 13/35 [00:43<01:11,  3.25s/it]"
     ]
    },
    {
     "name": "stdout",
     "output_type": "stream",
     "text": [
      "=================================\n",
      "Initial portfolio value:100000\n",
      "Final portfolio value: 606418.2223379031\n",
      "Final accumulative portfolio value: 6.0641822233790315\n",
      "Maximum DrawDown: -0.8470662251109908\n",
      "Sharpe ratio: 0.7680193217876106\n",
      "=================================\n"
     ]
    },
    {
     "name": "stderr",
     "output_type": "stream",
     "text": [
      " 40%|████      | 14/35 [00:47<01:08,  3.28s/it]"
     ]
    },
    {
     "name": "stdout",
     "output_type": "stream",
     "text": [
      "=================================\n",
      "Initial portfolio value:100000\n",
      "Final portfolio value: 616967.7224445014\n",
      "Final accumulative portfolio value: 6.169677224445014\n",
      "Maximum DrawDown: -0.8466712390788016\n",
      "Sharpe ratio: 0.7728798853445241\n",
      "=================================\n"
     ]
    },
    {
     "name": "stderr",
     "output_type": "stream",
     "text": [
      " 43%|████▎     | 15/35 [00:50<01:07,  3.37s/it]"
     ]
    },
    {
     "name": "stdout",
     "output_type": "stream",
     "text": [
      "=================================\n",
      "Initial portfolio value:100000\n",
      "Final portfolio value: 621442.8974939102\n",
      "Final accumulative portfolio value: 6.214428974939102\n",
      "Maximum DrawDown: -0.8466404686227684\n",
      "Sharpe ratio: 0.775081268239512\n",
      "=================================\n"
     ]
    },
    {
     "name": "stderr",
     "output_type": "stream",
     "text": [
      " 46%|████▌     | 16/35 [00:54<01:03,  3.34s/it]"
     ]
    },
    {
     "name": "stdout",
     "output_type": "stream",
     "text": [
      "=================================\n",
      "Initial portfolio value:100000\n",
      "Final portfolio value: 621155.9808605046\n",
      "Final accumulative portfolio value: 6.211559808605045\n",
      "Maximum DrawDown: -0.8463997601813373\n",
      "Sharpe ratio: 0.77517828231276\n",
      "=================================\n"
     ]
    },
    {
     "name": "stderr",
     "output_type": "stream",
     "text": [
      " 49%|████▊     | 17/35 [00:57<00:59,  3.33s/it]"
     ]
    },
    {
     "name": "stdout",
     "output_type": "stream",
     "text": [
      "=================================\n",
      "Initial portfolio value:100000\n",
      "Final portfolio value: 624597.0351009726\n",
      "Final accumulative portfolio value: 6.245970351009726\n",
      "Maximum DrawDown: -0.8469667920027724\n",
      "Sharpe ratio: 0.7773024083153097\n",
      "=================================\n"
     ]
    },
    {
     "name": "stderr",
     "output_type": "stream",
     "text": [
      " 51%|█████▏    | 18/35 [01:00<00:56,  3.31s/it]"
     ]
    },
    {
     "name": "stdout",
     "output_type": "stream",
     "text": [
      "=================================\n",
      "Initial portfolio value:100000\n",
      "Final portfolio value: 615977.6090580126\n",
      "Final accumulative portfolio value: 6.159776090580126\n",
      "Maximum DrawDown: -0.8465367417805447\n",
      "Sharpe ratio: 0.773366453757275\n",
      "=================================\n"
     ]
    },
    {
     "name": "stderr",
     "output_type": "stream",
     "text": [
      " 54%|█████▍    | 19/35 [01:03<00:52,  3.30s/it]"
     ]
    },
    {
     "name": "stdout",
     "output_type": "stream",
     "text": [
      "=================================\n",
      "Initial portfolio value:100000\n",
      "Final portfolio value: 631085.4259722383\n",
      "Final accumulative portfolio value: 6.310854259722383\n",
      "Maximum DrawDown: -0.846182495289844\n",
      "Sharpe ratio: 0.7808430763990147\n",
      "=================================\n"
     ]
    },
    {
     "name": "stderr",
     "output_type": "stream",
     "text": [
      " 57%|█████▋    | 20/35 [01:07<00:49,  3.28s/it]"
     ]
    },
    {
     "name": "stdout",
     "output_type": "stream",
     "text": [
      "=================================\n",
      "Initial portfolio value:100000\n",
      "Final portfolio value: 633165.764394769\n",
      "Final accumulative portfolio value: 6.33165764394769\n",
      "Maximum DrawDown: -0.8458910064018554\n",
      "Sharpe ratio: 0.7820546690707155\n",
      "=================================\n"
     ]
    },
    {
     "name": "stderr",
     "output_type": "stream",
     "text": [
      " 60%|██████    | 21/35 [01:10<00:45,  3.24s/it]"
     ]
    },
    {
     "name": "stdout",
     "output_type": "stream",
     "text": [
      "=================================\n",
      "Initial portfolio value:100000\n",
      "Final portfolio value: 628221.0802541673\n",
      "Final accumulative portfolio value: 6.282210802541673\n",
      "Maximum DrawDown: -0.8462791800065335\n",
      "Sharpe ratio: 0.779092241463914\n",
      "=================================\n"
     ]
    },
    {
     "name": "stderr",
     "output_type": "stream",
     "text": [
      " 63%|██████▎   | 22/35 [01:13<00:42,  3.26s/it]"
     ]
    },
    {
     "name": "stdout",
     "output_type": "stream",
     "text": [
      "=================================\n",
      "Initial portfolio value:100000\n",
      "Final portfolio value: 634252.1758086184\n",
      "Final accumulative portfolio value: 6.342521758086185\n",
      "Maximum DrawDown: -0.8460082790612996\n",
      "Sharpe ratio: 0.7826632683852202\n",
      "=================================\n"
     ]
    },
    {
     "name": "stderr",
     "output_type": "stream",
     "text": [
      " 66%|██████▌   | 23/35 [01:16<00:38,  3.24s/it]"
     ]
    },
    {
     "name": "stdout",
     "output_type": "stream",
     "text": [
      "=================================\n",
      "Initial portfolio value:100000\n",
      "Final portfolio value: 620369.68371505\n",
      "Final accumulative portfolio value: 6.2036968371505\n",
      "Maximum DrawDown: -0.8460688471555081\n",
      "Sharpe ratio: 0.7757528086530356\n",
      "=================================\n"
     ]
    },
    {
     "name": "stderr",
     "output_type": "stream",
     "text": [
      " 69%|██████▊   | 24/35 [01:20<00:35,  3.24s/it]"
     ]
    },
    {
     "name": "stdout",
     "output_type": "stream",
     "text": [
      "=================================\n",
      "Initial portfolio value:100000\n",
      "Final portfolio value: 636290.5137729706\n",
      "Final accumulative portfolio value: 6.362905137729706\n",
      "Maximum DrawDown: -0.8456838876599834\n",
      "Sharpe ratio: 0.7840382496303572\n",
      "=================================\n"
     ]
    },
    {
     "name": "stderr",
     "output_type": "stream",
     "text": [
      " 71%|███████▏  | 25/35 [01:23<00:32,  3.23s/it]"
     ]
    },
    {
     "name": "stdout",
     "output_type": "stream",
     "text": [
      "=================================\n",
      "Initial portfolio value:100000\n",
      "Final portfolio value: 639415.5693173499\n",
      "Final accumulative portfolio value: 6.3941556931734995\n",
      "Maximum DrawDown: -0.8459181186292303\n",
      "Sharpe ratio: 0.7853027230421343\n",
      "=================================\n"
     ]
    },
    {
     "name": "stderr",
     "output_type": "stream",
     "text": [
      " 74%|███████▍  | 26/35 [01:26<00:29,  3.24s/it]"
     ]
    },
    {
     "name": "stdout",
     "output_type": "stream",
     "text": [
      "=================================\n",
      "Initial portfolio value:100000\n",
      "Final portfolio value: 642952.7407107406\n",
      "Final accumulative portfolio value: 6.429527407107406\n",
      "Maximum DrawDown: -0.8457613669827533\n",
      "Sharpe ratio: 0.7871126880709992\n",
      "=================================\n"
     ]
    },
    {
     "name": "stderr",
     "output_type": "stream",
     "text": [
      " 77%|███████▋  | 27/35 [01:29<00:26,  3.28s/it]"
     ]
    },
    {
     "name": "stdout",
     "output_type": "stream",
     "text": [
      "=================================\n",
      "Initial portfolio value:100000\n",
      "Final portfolio value: 641122.0568556671\n",
      "Final accumulative portfolio value: 6.411220568556671\n",
      "Maximum DrawDown: -0.8456068651869262\n",
      "Sharpe ratio: 0.7862634051363385\n",
      "=================================\n"
     ]
    },
    {
     "name": "stderr",
     "output_type": "stream",
     "text": [
      " 80%|████████  | 28/35 [01:33<00:23,  3.29s/it]"
     ]
    },
    {
     "name": "stdout",
     "output_type": "stream",
     "text": [
      "=================================\n",
      "Initial portfolio value:100000\n",
      "Final portfolio value: 640279.0360231216\n",
      "Final accumulative portfolio value: 6.402790360231216\n",
      "Maximum DrawDown: -0.8456950476479003\n",
      "Sharpe ratio: 0.785785062981941\n",
      "=================================\n"
     ]
    },
    {
     "name": "stderr",
     "output_type": "stream",
     "text": [
      " 83%|████████▎ | 29/35 [01:36<00:19,  3.31s/it]"
     ]
    },
    {
     "name": "stdout",
     "output_type": "stream",
     "text": [
      "=================================\n",
      "Initial portfolio value:100000\n",
      "Final portfolio value: 642815.0907991296\n",
      "Final accumulative portfolio value: 6.428150907991296\n",
      "Maximum DrawDown: -0.845716700648333\n",
      "Sharpe ratio: 0.787017642514095\n",
      "=================================\n"
     ]
    },
    {
     "name": "stderr",
     "output_type": "stream",
     "text": [
      " 86%|████████▌ | 30/35 [01:39<00:16,  3.32s/it]"
     ]
    },
    {
     "name": "stdout",
     "output_type": "stream",
     "text": [
      "=================================\n",
      "Initial portfolio value:100000\n",
      "Final portfolio value: 642935.9248372702\n",
      "Final accumulative portfolio value: 6.429359248372702\n",
      "Maximum DrawDown: -0.845770764836729\n",
      "Sharpe ratio: 0.7871307672696238\n",
      "=================================\n"
     ]
    },
    {
     "name": "stderr",
     "output_type": "stream",
     "text": [
      " 89%|████████▊ | 31/35 [01:43<00:13,  3.32s/it]"
     ]
    },
    {
     "name": "stdout",
     "output_type": "stream",
     "text": [
      "=================================\n",
      "Initial portfolio value:100000\n",
      "Final portfolio value: 644144.6026135717\n",
      "Final accumulative portfolio value: 6.441446026135717\n",
      "Maximum DrawDown: -0.8456529023525071\n",
      "Sharpe ratio: 0.7877330458211099\n",
      "=================================\n"
     ]
    },
    {
     "name": "stderr",
     "output_type": "stream",
     "text": [
      " 91%|█████████▏| 32/35 [01:46<00:10,  3.37s/it]"
     ]
    },
    {
     "name": "stdout",
     "output_type": "stream",
     "text": [
      "=================================\n",
      "Initial portfolio value:100000\n",
      "Final portfolio value: 642872.910135231\n",
      "Final accumulative portfolio value: 6.42872910135231\n",
      "Maximum DrawDown: -0.845661983737143\n",
      "Sharpe ratio: 0.7871135593551353\n",
      "=================================\n"
     ]
    },
    {
     "name": "stderr",
     "output_type": "stream",
     "text": [
      " 94%|█████████▍| 33/35 [01:49<00:06,  3.33s/it]"
     ]
    },
    {
     "name": "stdout",
     "output_type": "stream",
     "text": [
      "=================================\n",
      "Initial portfolio value:100000\n",
      "Final portfolio value: 638350.0808049907\n",
      "Final accumulative portfolio value: 6.383500808049908\n",
      "Maximum DrawDown: -0.8456975283645597\n",
      "Sharpe ratio: 0.7850359937835446\n",
      "=================================\n"
     ]
    },
    {
     "name": "stderr",
     "output_type": "stream",
     "text": [
      " 97%|█████████▋| 34/35 [01:53<00:03,  3.31s/it]"
     ]
    },
    {
     "name": "stdout",
     "output_type": "stream",
     "text": [
      "=================================\n",
      "Initial portfolio value:100000\n",
      "Final portfolio value: 640567.8460226165\n",
      "Final accumulative portfolio value: 6.405678460226165\n",
      "Maximum DrawDown: -0.8456273806544178\n",
      "Sharpe ratio: 0.7860791659055957\n",
      "=================================\n"
     ]
    },
    {
     "name": "stderr",
     "output_type": "stream",
     "text": [
      "100%|██████████| 35/35 [01:56<00:00,  3.33s/it]\n"
     ]
    },
    {
     "data": {
      "text/plain": [
       "<modules.algorithms.PolicyGradient at 0x28e47fc80>"
      ]
     },
     "execution_count": 11,
     "metadata": {},
     "output_type": "execute_result"
    }
   ],
   "source": [
    "print(\"TRAINING AGENT.....\")\n",
    "DRLAgent.train_model(model, episodes=35)\n"
   ]
  },
  {
   "cell_type": "code",
   "execution_count": 12,
   "metadata": {},
   "outputs": [
    {
     "name": "stdout",
     "output_type": "stream",
     "text": [
      "PERSISTING MODEL.....\n"
     ]
    }
   ],
   "source": [
    "print(\"PERSISTING MODEL.....\")\n",
    "torch.save(model.train_policy.state_dict(), f\"models/policy_{experiment_type}.pt\")"
   ]
  },
  {
   "cell_type": "code",
   "execution_count": 13,
   "metadata": {},
   "outputs": [
    {
     "name": "stdout",
     "output_type": "stream",
     "text": [
      "TESTING.....\n"
     ]
    }
   ],
   "source": [
    "print(\"TESTING.....\")\n",
    "MEIIE_results = {\n",
    "    \"training\": train_environment._asset_memory[\"final\"],\n",
    "    \"test\": {}\n",
    "}"
   ]
  },
  {
   "cell_type": "markdown",
   "metadata": {},
   "source": [
    "## 6. Model Evaluation"
   ]
  },
  {
   "cell_type": "code",
   "execution_count": 14,
   "metadata": {},
   "outputs": [
    {
     "name": "stderr",
     "output_type": "stream",
     "text": [
      "/opt/homebrew/lib/python3.12/site-packages/torch/nn/modules/transformer.py:306: UserWarning: enable_nested_tensor is True, but self.use_nested_tensor is False because encoder_layer.self_attn.num_heads is odd\n",
      "  warnings.warn(f\"enable_nested_tensor is True, but self.use_nested_tensor is False because {why_not_sparsity_fast_path}\")\n"
     ]
    }
   ],
   "source": [
    "policy = MultiPeriodConvAttentionNetwork(num_stocks=NUM_ASSETS,\n",
    "                                         num_features=NUM_FEATURES,\n",
    "                                         W=N,\n",
    "                                         T=T)"
   ]
  },
  {
   "cell_type": "code",
   "execution_count": 15,
   "metadata": {},
   "outputs": [],
   "source": [
    "test_environment = MultiPeriodPortfolioOptimizationEnv(\n",
    "    df_portfolio_test,\n",
    "    initial_amount=100000,\n",
    "    comission_fee_pct=0.0025,\n",
    "    time_window=N,\n",
    "    multi_period_horizon=T,\n",
    "    features=FEATURES,\n",
    "    normalize_df=None,\n",
    "    is_train_mode=False,\n",
    "    experiment_type=experiment_type\n",
    ")"
   ]
  },
  {
   "cell_type": "code",
   "execution_count": 16,
   "metadata": {},
   "outputs": [
    {
     "data": {
      "text/plain": [
       "<All keys matched successfully>"
      ]
     },
     "execution_count": 16,
     "metadata": {},
     "output_type": "execute_result"
    }
   ],
   "source": [
    "policy.load_state_dict(torch.load(f\"models/policy_{experiment_type}.pt\"))"
   ]
  },
  {
   "cell_type": "code",
   "execution_count": 17,
   "metadata": {},
   "outputs": [
    {
     "name": "stdout",
     "output_type": "stream",
     "text": [
      "=================================\n",
      "Initial portfolio value:100000\n",
      "Final portfolio value: 313318.42484725907\n",
      "Final accumulative portfolio value: 3.133184248472591\n",
      "Maximum DrawDown: -0.5112611018657609\n",
      "Sharpe ratio: 0.8405653840319385\n",
      "=================================\n"
     ]
    }
   ],
   "source": [
    "DRLAgent.DRL_validation(model=model, test_env=test_environment, policy=policy)"
   ]
  },
  {
   "cell_type": "markdown",
   "metadata": {},
   "source": [
    "## 7. Postprocessing"
   ]
  },
  {
   "cell_type": "code",
   "execution_count": 18,
   "metadata": {},
   "outputs": [],
   "source": [
    "MEIIE_results[\"test\"][\"value\"] = test_environment._asset_memory[\"final\"]"
   ]
  },
  {
   "cell_type": "code",
   "execution_count": 19,
   "metadata": {},
   "outputs": [
    {
     "data": {
      "text/plain": [
       "70"
      ]
     },
     "execution_count": 19,
     "metadata": {},
     "output_type": "execute_result"
    }
   ],
   "source": [
    "drl_portfolio_performance = test_environment._asset_memory[\"final\"][1:]\n",
    "len(drl_portfolio_performance)"
   ]
  },
  {
   "cell_type": "code",
   "execution_count": 20,
   "metadata": {},
   "outputs": [],
   "source": [
    "drl_portfolio_performance = [(x/100000) for x in drl_portfolio_performance]"
   ]
  },
  {
   "cell_type": "code",
   "execution_count": 21,
   "metadata": {},
   "outputs": [],
   "source": [
    "performance_dataset = pd.read_csv(\"data/processed/performances_cac40.csv\", index_col=0)"
   ]
  },
  {
   "cell_type": "code",
   "execution_count": 22,
   "metadata": {},
   "outputs": [],
   "source": [
    "performance_dataset[\"DRL_HYBRID_TRANSFORMER\"] = drl_portfolio_performance"
   ]
  },
  {
   "cell_type": "code",
   "execution_count": 23,
   "metadata": {},
   "outputs": [],
   "source": [
    "performance_dataset.to_csv(\"data/processed/performances_cac40.csv\")"
   ]
  },
  {
   "cell_type": "code",
   "execution_count": null,
   "metadata": {},
   "outputs": [],
   "source": []
  }
 ],
 "metadata": {
  "kernelspec": {
   "display_name": "Python 3",
   "language": "python",
   "name": "python3"
  },
  "language_info": {
   "codemirror_mode": {
    "name": "ipython",
    "version": 3
   },
   "file_extension": ".py",
   "mimetype": "text/x-python",
   "name": "python",
   "nbconvert_exporter": "python",
   "pygments_lexer": "ipython3",
   "version": "3.12.3"
  }
 },
 "nbformat": 4,
 "nbformat_minor": 2
}
