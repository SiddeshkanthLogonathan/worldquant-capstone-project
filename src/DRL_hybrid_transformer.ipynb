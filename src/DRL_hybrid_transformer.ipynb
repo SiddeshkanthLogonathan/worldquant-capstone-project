{
 "cells": [
  {
   "cell_type": "code",
   "execution_count": 1,
   "metadata": {},
   "outputs": [],
   "source": [
    "import torch\n",
    "import torch.nn as nn\n",
    "import numpy as np\n",
    "\n",
    "import yfinance as yf\n",
    "import pandas as pd\n",
    "import seaborn as sns\n",
    "from sklearn.model_selection import train_test_split\n",
    "from modules.scalers import GroupByScaler\n",
    "from sklearn.preprocessing import MaxAbsScaler\n",
    "import json\n",
    "import torch\n",
    "\n",
    "from modules.environment import MultiPeriodPortfolioOptimizationEnv\n",
    "from modules.models import DRLAgent\n",
    "\n",
    "sns.set()\n",
    "\n",
    "device = 'cuda:0' if torch.cuda.is_available() else 'cpu'"
   ]
  },
  {
   "cell_type": "code",
   "execution_count": 2,
   "metadata": {},
   "outputs": [],
   "source": [
    "config_file_name = \"config.json\"\n",
    "with open(config_file_name, \"r\") as jsonfile:\n",
    "    config_data = json.load(jsonfile)"
   ]
  },
  {
   "cell_type": "code",
   "execution_count": 3,
   "metadata": {},
   "outputs": [
    {
     "data": {
      "text/plain": [
       "101"
      ]
     },
     "execution_count": 3,
     "metadata": {},
     "output_type": "execute_result"
    }
   ],
   "source": [
    "sp_100 = config_data[\"tickers\"][\"America\"][\"SP100\"]\n",
    "NUM_ASSETS = len(sp_100)\n",
    "len(sp_100)"
   ]
  },
  {
   "cell_type": "code",
   "execution_count": 4,
   "metadata": {},
   "outputs": [],
   "source": [
    "start_date = config_data[\"timeframe\"][\"bull_market\"][\"start_date\"]\n",
    "end_date = config_data[\"timeframe\"][\"bull_market\"][\"end_date\"]\n",
    "data_interval = config_data[\"data_interval\"]\n",
    "test_ratio = config_data[\"train_test_ratio\"]\n",
    "random_seed = config_data[\"random_state_seed\"]"
   ]
  },
  {
   "cell_type": "code",
   "execution_count": 5,
   "metadata": {},
   "outputs": [
    {
     "name": "stderr",
     "output_type": "stream",
     "text": [
      "[*********************100%%**********************]  101 of 101 completed\n",
      "/var/folders/02/rmgfx9wj0s99nn4tzfthtrnc0000gn/T/ipykernel_16627/541920902.py:3: FutureWarning: DataFrame.fillna with 'method' is deprecated and will raise in a future version. Use obj.ffill() or obj.bfill() instead.\n",
      "  portfolio_raw_df.fillna(method=\"bfill\", inplace=True)\n",
      "/var/folders/02/rmgfx9wj0s99nn4tzfthtrnc0000gn/T/ipykernel_16627/541920902.py:4: FutureWarning: The previous implementation of stack is deprecated and will be removed in a future version of pandas. See the What's New notes for pandas 2.1.0 for details. Specify future_stack=True to adopt the new implementation and silence this warning.\n",
      "  portfolio_raw_df = portfolio_raw_df.stack(level=1).rename_axis([\"Date\", \"Ticker\"]).reset_index(level=1)\n"
     ]
    }
   ],
   "source": [
    "portfolio_raw_df = yf.download(tickers=sp_100, start=start_date, end=end_date, interval=data_interval)\n",
    "\n",
    "portfolio_raw_df.fillna(method=\"bfill\", inplace=True)\n",
    "portfolio_raw_df = portfolio_raw_df.stack(level=1).rename_axis([\"Date\", \"Ticker\"]).reset_index(level=1)\n",
    "portfolio_raw_df = portfolio_raw_df.drop(\"Adj Close\", axis=1)\n",
    "portfolio_raw_df.columns.name = None\n",
    "portfolio_raw_df = portfolio_raw_df.reset_index()\n",
    "portfolio_raw_df.Date = portfolio_raw_df.Date.astype(str)\n",
    "portfolio_raw_df.columns = [\"date\", \"tic\", \"close\", \"high\", \"low\", \"open\", \"volume\"]\n",
    "portfolio_raw_df = portfolio_raw_df[[\"date\", \"tic\", \"close\", \"high\", \"low\", \"volume\"]]\n",
    "\n",
    "df_portfolio_raw_train, df_portfolio_raw_test = train_test_split(portfolio_raw_df, test_size=test_ratio, shuffle=False, random_state=random_seed)\n",
    "df_portfolio_train = GroupByScaler(by=\"tic\", scaler=MaxAbsScaler).fit_transform(df_portfolio_raw_train)\n",
    "df_portfolio_test = GroupByScaler(by=\"tic\", scaler=MaxAbsScaler).fit_transform(df_portfolio_raw_test)\n"
   ]
  },
  {
   "cell_type": "code",
   "execution_count": 6,
   "metadata": {},
   "outputs": [
    {
     "data": {
      "text/plain": [
       "(24, 3, 101, 4)"
      ]
     },
     "execution_count": 6,
     "metadata": {},
     "output_type": "execute_result"
    }
   ],
   "source": [
    "# SETTING HYPERPARAMETERS\n",
    "FEATURES = [\"close\", \"high\", \"low\", \"volume\"]\n",
    "N = config_data[\"lookback_window\"]\n",
    "T = config_data[\"multi_step_horizon\"]\n",
    "NUM_FEATURES = len(FEATURES)\n",
    "experiment_type = \"HYBRID_TRANSFORMER\" \n",
    "N, T, NUM_ASSETS, NUM_FEATURES"
   ]
  },
  {
   "cell_type": "code",
   "execution_count": 7,
   "metadata": {},
   "outputs": [],
   "source": [
    "train_environment = MultiPeriodPortfolioOptimizationEnv(\n",
    "    df_portfolio_train,\n",
    "    initial_amount=100000,\n",
    "    comission_fee_pct=0.0025,\n",
    "    time_window=N,\n",
    "    multi_period_horizon=T,\n",
    "    features=FEATURES,\n",
    "    normalize_df=None,\n",
    "    is_train_mode=True,\n",
    "    experiment_type=experiment_type\n",
    ")"
   ]
  },
  {
   "cell_type": "code",
   "execution_count": 8,
   "metadata": {},
   "outputs": [],
   "source": [
    "class ConvolutionalEmbedding(nn.Module):\n",
    "    def __init__(self, in_channels, out_channels, window_length=24):\n",
    "        super(ConvolutionalEmbedding, self).__init__()\n",
    "        self.convolution = nn.Conv2d(in_channels=in_channels, out_channels=out_channels, kernel_size=(1, window_length))\n",
    "\n",
    "    def forward(self, X):\n",
    "        conv_tokens = self.convolution(X)\n",
    "        return conv_tokens\n",
    "\n",
    "class MultiPeriodConvAttentionNetwork(nn.Module):\n",
    "    def __init__(self, num_stocks, num_features, W, T, num_layers=10, device=\"cpu\"):\n",
    "        super(MultiPeriodConvAttentionNetwork, self).__init__()\n",
    "        self.device = device\n",
    "        num_assets = num_stocks + 1\n",
    "        self.W = W\n",
    "        self.T = T\n",
    "        self.state_conv_tokenization = ConvolutionalEmbedding(in_channels=num_features,\n",
    "                                                         out_channels=T,\n",
    "                                                         window_length=W)\n",
    "        self.last_action_tokenization = ConvolutionalEmbedding(in_channels=1,\n",
    "                                                               out_channels=1,\n",
    "                                                               window_length=1)\n",
    "        self.encoder_state = nn.TransformerEncoder(encoder_layer=nn.TransformerEncoderLayer(d_model=num_assets, nhead=1, batch_first=True), num_layers=num_layers)\n",
    "        self.encoder_last_action = nn.TransformerEncoder(encoder_layer=nn.TransformerEncoderLayer(d_model=num_assets, nhead=1, batch_first=True), num_layers=num_layers)\n",
    "        self.decoder = nn.TransformerDecoder(decoder_layer=nn.TransformerDecoderLayer(d_model=num_assets, nhead=1, batch_first=True), num_layers=num_layers)\n",
    "        \n",
    "        self.norm = nn.Softmax(dim=2)\n",
    "\n",
    "    def forward(self, observation, last_action):\n",
    "        mu = self.mu(observation, last_action)\n",
    "        action = mu.cpu().detach().numpy().squeeze(0)\n",
    "        return action\n",
    "\n",
    "    def mu(self, state, last_action):\n",
    "        if isinstance(state, np.ndarray):\n",
    "            state = torch.from_numpy(state)\n",
    "        state = state.to(self.device).float()\n",
    "\n",
    "        if isinstance(last_action, np.ndarray):\n",
    "            last_action = torch.from_numpy(last_action)\n",
    "        last_action = last_action.to(self.device).float()\n",
    "        \n",
    "        state_tokens = self.state_conv_tokenization(state)\n",
    "        last_action = last_action.unsqueeze(1)\n",
    "        last_action_tokens = self.last_action_tokenization(last_action)\n",
    "        state_tokens = state_tokens.squeeze(3)\n",
    "        last_action_tokens = last_action_tokens.squeeze(1)\n",
    "\n",
    "        \n",
    "        cash_bias = self.process_last_action(last_action)\n",
    "        state_tokens = torch.cat([state_tokens, cash_bias], dim=2)\n",
    "        state_embeddings = self.encoder_state(state_tokens)\n",
    "        last_action_embeddings = self.encoder_last_action(last_action_tokens)\n",
    "        embeddings = torch.cat([state_embeddings, last_action_embeddings], dim=1)\n",
    "        logits = self.decoder(tgt=last_action_tokens, memory=embeddings)\n",
    "        portfolio_weights = self.norm(logits)\n",
    "        return portfolio_weights\n",
    "    \n",
    "    def process_last_action(self, last_action):\n",
    "        batch_size = last_action.shape[0]\n",
    "        cash_allocation = last_action[:, :, :, 0]\n",
    "        cash_allocation = cash_allocation.reshape((batch_size, self.T, 1))\n",
    "        return cash_allocation"
   ]
  },
  {
   "cell_type": "code",
   "execution_count": 18,
   "metadata": {},
   "outputs": [
    {
     "name": "stderr",
     "output_type": "stream",
     "text": [
      "/opt/homebrew/lib/python3.12/site-packages/torch/nn/modules/transformer.py:306: UserWarning: enable_nested_tensor is True, but self.use_nested_tensor is False because encoder_layer.self_attn.num_heads is odd\n",
      "  warnings.warn(f\"enable_nested_tensor is True, but self.use_nested_tensor is False because {why_not_sparsity_fast_path}\")\n"
     ]
    }
   ],
   "source": [
    "# policy = MultiPeriodConvAttentionNetwork(num_stocks=NUM_ASSETS,\n",
    "#                                          num_features=NUM_FEATURES,\n",
    "#                                          W=N,\n",
    "#                                          T=T)"
   ]
  },
  {
   "cell_type": "code",
   "execution_count": 19,
   "metadata": {},
   "outputs": [
    {
     "data": {
      "text/plain": [
       "(torch.Size([1, 4, 101, 24]), torch.Size([1, 3, 102]))"
      ]
     },
     "execution_count": 19,
     "metadata": {},
     "output_type": "execute_result"
    }
   ],
   "source": [
    "# state = torch.rand(1, NUM_FEATURES, NUM_ASSETS, N)\n",
    "# last_action = torch.rand(1, T, NUM_ASSETS+1)\n",
    "# state.shape, last_action.shape"
   ]
  },
  {
   "cell_type": "code",
   "execution_count": 23,
   "metadata": {},
   "outputs": [
    {
     "data": {
      "text/plain": [
       "array([0.00050308, 0.00039293, 0.00058882], dtype=float32)"
      ]
     },
     "execution_count": 23,
     "metadata": {},
     "output_type": "execute_result"
    }
   ],
   "source": [
    "# policy(state, last_action).min(1)"
   ]
  },
  {
   "cell_type": "code",
   "execution_count": 9,
   "metadata": {},
   "outputs": [],
   "source": [
    "# set PolicyGradient parameters\n",
    "model_kwargs = {\n",
    "    \"lr\": 0.001,\n",
    "    \"policy\": MultiPeriodConvAttentionNetwork,\n",
    "    \"multi_period_horizon\": T\n",
    "}\n",
    "\n",
    "# here, we can set EIIE's parameters\n",
    "policy_kwargs = {\n",
    "    \"num_features\": NUM_FEATURES,\n",
    "    \"num_stocks\": NUM_ASSETS,\n",
    "    \"W\": N,\n",
    "    \"T\": T\n",
    "}"
   ]
  },
  {
   "cell_type": "code",
   "execution_count": 10,
   "metadata": {},
   "outputs": [
    {
     "name": "stderr",
     "output_type": "stream",
     "text": [
      "/opt/homebrew/lib/python3.12/site-packages/torch/nn/modules/transformer.py:306: UserWarning: enable_nested_tensor is True, but self.use_nested_tensor is False because encoder_layer.self_attn.num_heads is odd\n",
      "  warnings.warn(f\"enable_nested_tensor is True, but self.use_nested_tensor is False because {why_not_sparsity_fast_path}\")\n"
     ]
    }
   ],
   "source": [
    "model = DRLAgent(train_environment).get_model(\"pg\", device, model_kwargs, policy_kwargs)"
   ]
  },
  {
   "cell_type": "code",
   "execution_count": 11,
   "metadata": {},
   "outputs": [
    {
     "name": "stdout",
     "output_type": "stream",
     "text": [
      "TRAINING AGENT.....\n"
     ]
    },
    {
     "name": "stderr",
     "output_type": "stream",
     "text": [
      "  0%|          | 0/50 [00:00<?, ?it/s]"
     ]
    },
    {
     "name": "stdout",
     "output_type": "stream",
     "text": [
      "=================================\n",
      "Initial portfolio value:100000\n",
      "Final portfolio value: 2004674.2109971049\n",
      "Final accumulative portfolio value: 20.04674210997105\n",
      "Maximum DrawDown: -0.7717208128857289\n",
      "Sharpe ratio: 5.839784640611192\n",
      "=================================\n"
     ]
    },
    {
     "name": "stderr",
     "output_type": "stream",
     "text": [
      "  2%|▏         | 1/50 [00:05<04:39,  5.71s/it]"
     ]
    },
    {
     "name": "stdout",
     "output_type": "stream",
     "text": [
      "=================================\n",
      "Initial portfolio value:100000\n",
      "Final portfolio value: 2072447.1752922295\n",
      "Final accumulative portfolio value: 20.724471752922295\n",
      "Maximum DrawDown: -0.7697776594579664\n",
      "Sharpe ratio: 5.904474435103387\n",
      "=================================\n"
     ]
    },
    {
     "name": "stderr",
     "output_type": "stream",
     "text": [
      "  4%|▍         | 2/50 [00:11<04:29,  5.61s/it]"
     ]
    },
    {
     "name": "stdout",
     "output_type": "stream",
     "text": [
      "=================================\n",
      "Initial portfolio value:100000\n",
      "Final portfolio value: 2328766.9679312827\n",
      "Final accumulative portfolio value: 23.287669679312827\n",
      "Maximum DrawDown: -0.7609233876895951\n",
      "Sharpe ratio: 6.089484278688962\n",
      "=================================\n"
     ]
    },
    {
     "name": "stderr",
     "output_type": "stream",
     "text": [
      "  6%|▌         | 3/50 [00:16<04:21,  5.57s/it]"
     ]
    },
    {
     "name": "stdout",
     "output_type": "stream",
     "text": [
      "=================================\n",
      "Initial portfolio value:100000\n",
      "Final portfolio value: 2417175.3960412405\n",
      "Final accumulative portfolio value: 24.171753960412406\n",
      "Maximum DrawDown: -0.7584066549526516\n",
      "Sharpe ratio: 6.144124977769671\n",
      "=================================\n"
     ]
    },
    {
     "name": "stderr",
     "output_type": "stream",
     "text": [
      "  8%|▊         | 4/50 [00:22<04:18,  5.62s/it]"
     ]
    },
    {
     "name": "stdout",
     "output_type": "stream",
     "text": [
      "=================================\n",
      "Initial portfolio value:100000\n",
      "Final portfolio value: 2422350.2431995096\n",
      "Final accumulative portfolio value: 24.223502431995097\n",
      "Maximum DrawDown: -0.7579876206372003\n",
      "Sharpe ratio: 6.147110087398016\n",
      "=================================\n"
     ]
    },
    {
     "name": "stderr",
     "output_type": "stream",
     "text": [
      " 10%|█         | 5/50 [00:27<04:08,  5.51s/it]"
     ]
    },
    {
     "name": "stdout",
     "output_type": "stream",
     "text": [
      "=================================\n",
      "Initial portfolio value:100000\n",
      "Final portfolio value: 2421458.9571476653\n",
      "Final accumulative portfolio value: 24.214589571476655\n",
      "Maximum DrawDown: -0.7586165491592503\n",
      "Sharpe ratio: 6.14573439361705\n",
      "=================================\n"
     ]
    },
    {
     "name": "stderr",
     "output_type": "stream",
     "text": [
      " 12%|█▏        | 6/50 [00:33<04:02,  5.51s/it]"
     ]
    },
    {
     "name": "stdout",
     "output_type": "stream",
     "text": [
      "=================================\n",
      "Initial portfolio value:100000\n",
      "Final portfolio value: 2432888.6914905994\n",
      "Final accumulative portfolio value: 24.328886914905993\n",
      "Maximum DrawDown: -0.7580794917043607\n",
      "Sharpe ratio: 6.153437384582067\n",
      "=================================\n"
     ]
    },
    {
     "name": "stderr",
     "output_type": "stream",
     "text": [
      " 14%|█▍        | 7/50 [00:38<03:55,  5.49s/it]"
     ]
    },
    {
     "name": "stdout",
     "output_type": "stream",
     "text": [
      "=================================\n",
      "Initial portfolio value:100000\n",
      "Final portfolio value: 2440520.5274910745\n",
      "Final accumulative portfolio value: 24.405205274910745\n",
      "Maximum DrawDown: -0.7578620993308739\n",
      "Sharpe ratio: 6.160470184142186\n",
      "=================================\n"
     ]
    },
    {
     "name": "stderr",
     "output_type": "stream",
     "text": [
      " 16%|█▌        | 8/50 [00:44<03:50,  5.48s/it]"
     ]
    },
    {
     "name": "stdout",
     "output_type": "stream",
     "text": [
      "=================================\n",
      "Initial portfolio value:100000\n",
      "Final portfolio value: 2436910.114230465\n",
      "Final accumulative portfolio value: 24.36910114230465\n",
      "Maximum DrawDown: -0.7579612510558345\n",
      "Sharpe ratio: 6.155279563262874\n",
      "=================================\n"
     ]
    },
    {
     "name": "stderr",
     "output_type": "stream",
     "text": [
      " 18%|█▊        | 9/50 [00:49<03:45,  5.49s/it]"
     ]
    },
    {
     "name": "stdout",
     "output_type": "stream",
     "text": [
      "=================================\n",
      "Initial portfolio value:100000\n",
      "Final portfolio value: 2437351.2649769424\n",
      "Final accumulative portfolio value: 24.373512649769424\n",
      "Maximum DrawDown: -0.7578487251203215\n",
      "Sharpe ratio: 6.156366023046901\n",
      "=================================\n"
     ]
    },
    {
     "name": "stderr",
     "output_type": "stream",
     "text": [
      " 20%|██        | 10/50 [00:55<03:39,  5.49s/it]"
     ]
    },
    {
     "name": "stdout",
     "output_type": "stream",
     "text": [
      "=================================\n",
      "Initial portfolio value:100000\n",
      "Final portfolio value: 2437511.2456605667\n",
      "Final accumulative portfolio value: 24.375112456605667\n",
      "Maximum DrawDown: -0.7577310723285087\n",
      "Sharpe ratio: 6.156858504863925\n",
      "=================================\n"
     ]
    },
    {
     "name": "stderr",
     "output_type": "stream",
     "text": [
      " 22%|██▏       | 11/50 [01:00<03:33,  5.47s/it]"
     ]
    },
    {
     "name": "stdout",
     "output_type": "stream",
     "text": [
      "=================================\n",
      "Initial portfolio value:100000\n",
      "Final portfolio value: 2439352.938402414\n",
      "Final accumulative portfolio value: 24.393529384024138\n",
      "Maximum DrawDown: -0.7577202295221761\n",
      "Sharpe ratio: 6.158551674395821\n",
      "=================================\n"
     ]
    },
    {
     "name": "stderr",
     "output_type": "stream",
     "text": [
      " 24%|██▍       | 12/50 [01:06<03:28,  5.49s/it]"
     ]
    },
    {
     "name": "stdout",
     "output_type": "stream",
     "text": [
      "=================================\n",
      "Initial portfolio value:100000\n",
      "Final portfolio value: 2436055.16001672\n",
      "Final accumulative portfolio value: 24.360551600167202\n",
      "Maximum DrawDown: -0.7577274560966052\n",
      "Sharpe ratio: 6.155355229287532\n",
      "=================================\n"
     ]
    },
    {
     "name": "stderr",
     "output_type": "stream",
     "text": [
      " 26%|██▌       | 13/50 [01:12<03:28,  5.62s/it]"
     ]
    },
    {
     "name": "stdout",
     "output_type": "stream",
     "text": [
      "=================================\n",
      "Initial portfolio value:100000\n",
      "Final portfolio value: 2439493.7855059085\n",
      "Final accumulative portfolio value: 24.394937855059087\n",
      "Maximum DrawDown: -0.757701452817202\n",
      "Sharpe ratio: 6.157863077419364\n",
      "=================================\n"
     ]
    },
    {
     "name": "stderr",
     "output_type": "stream",
     "text": [
      " 28%|██▊       | 14/50 [01:17<03:24,  5.68s/it]"
     ]
    },
    {
     "name": "stdout",
     "output_type": "stream",
     "text": [
      "=================================\n",
      "Initial portfolio value:100000\n",
      "Final portfolio value: 2442848.992750577\n",
      "Final accumulative portfolio value: 24.428489927505773\n",
      "Maximum DrawDown: -0.7576986408434171\n",
      "Sharpe ratio: 6.16006577550833\n",
      "=================================\n"
     ]
    },
    {
     "name": "stderr",
     "output_type": "stream",
     "text": [
      " 30%|███       | 15/50 [01:23<03:19,  5.70s/it]"
     ]
    },
    {
     "name": "stdout",
     "output_type": "stream",
     "text": [
      "=================================\n",
      "Initial portfolio value:100000\n",
      "Final portfolio value: 2436873.2031755117\n",
      "Final accumulative portfolio value: 24.368732031755115\n",
      "Maximum DrawDown: -0.7578302914462882\n",
      "Sharpe ratio: 6.1557438880984\n",
      "=================================\n"
     ]
    },
    {
     "name": "stderr",
     "output_type": "stream",
     "text": [
      " 32%|███▏      | 16/50 [01:29<03:10,  5.60s/it]"
     ]
    },
    {
     "name": "stdout",
     "output_type": "stream",
     "text": [
      "=================================\n",
      "Initial portfolio value:100000\n",
      "Final portfolio value: 2440313.818352518\n",
      "Final accumulative portfolio value: 24.403138183525183\n",
      "Maximum DrawDown: -0.7576428105500936\n",
      "Sharpe ratio: 6.158593989454165\n",
      "=================================\n"
     ]
    },
    {
     "name": "stderr",
     "output_type": "stream",
     "text": [
      " 34%|███▍      | 17/50 [01:34<03:01,  5.51s/it]"
     ]
    },
    {
     "name": "stdout",
     "output_type": "stream",
     "text": [
      "=================================\n",
      "Initial portfolio value:100000\n",
      "Final portfolio value: 2437413.063754197\n",
      "Final accumulative portfolio value: 24.37413063754197\n",
      "Maximum DrawDown: -0.7578393192404825\n",
      "Sharpe ratio: 6.156046391626546\n",
      "=================================\n"
     ]
    },
    {
     "name": "stderr",
     "output_type": "stream",
     "text": [
      " 36%|███▌      | 18/50 [01:39<02:56,  5.50s/it]"
     ]
    },
    {
     "name": "stdout",
     "output_type": "stream",
     "text": [
      "=================================\n",
      "Initial portfolio value:100000\n",
      "Final portfolio value: 2439822.537239266\n",
      "Final accumulative portfolio value: 24.398225372392663\n",
      "Maximum DrawDown: -0.7577048927983544\n",
      "Sharpe ratio: 6.158444991793789\n",
      "=================================\n"
     ]
    },
    {
     "name": "stderr",
     "output_type": "stream",
     "text": [
      " 38%|███▊      | 19/50 [01:45<02:48,  5.44s/it]"
     ]
    },
    {
     "name": "stdout",
     "output_type": "stream",
     "text": [
      "=================================\n",
      "Initial portfolio value:100000\n",
      "Final portfolio value: 2439777.317087387\n",
      "Final accumulative portfolio value: 24.397773170873872\n",
      "Maximum DrawDown: -0.7576988924161514\n",
      "Sharpe ratio: 6.158212291641735\n",
      "=================================\n"
     ]
    },
    {
     "name": "stderr",
     "output_type": "stream",
     "text": [
      " 40%|████      | 20/50 [01:50<02:42,  5.41s/it]"
     ]
    },
    {
     "name": "stdout",
     "output_type": "stream",
     "text": [
      "=================================\n",
      "Initial portfolio value:100000\n",
      "Final portfolio value: 2440166.242161098\n",
      "Final accumulative portfolio value: 24.40166242161098\n",
      "Maximum DrawDown: -0.7576939030993679\n",
      "Sharpe ratio: 6.158340170887467\n",
      "=================================\n"
     ]
    },
    {
     "name": "stderr",
     "output_type": "stream",
     "text": [
      " 42%|████▏     | 21/50 [01:55<02:36,  5.40s/it]"
     ]
    },
    {
     "name": "stdout",
     "output_type": "stream",
     "text": [
      "=================================\n",
      "Initial portfolio value:100000\n",
      "Final portfolio value: 2439638.909913227\n",
      "Final accumulative portfolio value: 24.39638909913227\n",
      "Maximum DrawDown: -0.7577067900163567\n",
      "Sharpe ratio: 6.1579711831059045\n",
      "=================================\n"
     ]
    },
    {
     "name": "stderr",
     "output_type": "stream",
     "text": [
      " 44%|████▍     | 22/50 [02:01<02:32,  5.44s/it]"
     ]
    },
    {
     "name": "stdout",
     "output_type": "stream",
     "text": [
      "=================================\n",
      "Initial portfolio value:100000\n",
      "Final portfolio value: 2439105.765079892\n",
      "Final accumulative portfolio value: 24.391057650798917\n",
      "Maximum DrawDown: -0.7577194138084993\n",
      "Sharpe ratio: 6.1576574583668675\n",
      "=================================\n"
     ]
    },
    {
     "name": "stderr",
     "output_type": "stream",
     "text": [
      " 46%|████▌     | 23/50 [02:06<02:26,  5.41s/it]"
     ]
    },
    {
     "name": "stdout",
     "output_type": "stream",
     "text": [
      "=================================\n",
      "Initial portfolio value:100000\n",
      "Final portfolio value: 2439820.0339545817\n",
      "Final accumulative portfolio value: 24.398200339545816\n",
      "Maximum DrawDown: -0.7576926862630773\n",
      "Sharpe ratio: 6.158210067590837\n",
      "=================================\n"
     ]
    },
    {
     "name": "stderr",
     "output_type": "stream",
     "text": [
      " 48%|████▊     | 24/50 [02:12<02:20,  5.42s/it]"
     ]
    },
    {
     "name": "stdout",
     "output_type": "stream",
     "text": [
      "=================================\n",
      "Initial portfolio value:100000\n",
      "Final portfolio value: 2439750.735430954\n",
      "Final accumulative portfolio value: 24.39750735430954\n",
      "Maximum DrawDown: -0.7577079105617976\n",
      "Sharpe ratio: 6.157980030666944\n",
      "=================================\n"
     ]
    },
    {
     "name": "stderr",
     "output_type": "stream",
     "text": [
      " 50%|█████     | 25/50 [02:17<02:15,  5.41s/it]"
     ]
    },
    {
     "name": "stdout",
     "output_type": "stream",
     "text": [
      "=================================\n",
      "Initial portfolio value:100000\n",
      "Final portfolio value: 2444592.380194343\n",
      "Final accumulative portfolio value: 24.445923801943433\n",
      "Maximum DrawDown: -0.7577093810665442\n",
      "Sharpe ratio: 6.161775773757921\n",
      "=================================\n"
     ]
    },
    {
     "name": "stderr",
     "output_type": "stream",
     "text": [
      " 52%|█████▏    | 26/50 [02:23<02:10,  5.45s/it]"
     ]
    },
    {
     "name": "stdout",
     "output_type": "stream",
     "text": [
      "=================================\n",
      "Initial portfolio value:100000\n",
      "Final portfolio value: 2439928.2351759365\n",
      "Final accumulative portfolio value: 24.399282351759364\n",
      "Maximum DrawDown: -0.7576838853758665\n",
      "Sharpe ratio: 6.158180172625644\n",
      "=================================\n"
     ]
    },
    {
     "name": "stderr",
     "output_type": "stream",
     "text": [
      " 54%|█████▍    | 27/50 [02:28<02:04,  5.43s/it]"
     ]
    },
    {
     "name": "stdout",
     "output_type": "stream",
     "text": [
      "=================================\n",
      "Initial portfolio value:100000\n",
      "Final portfolio value: 2439490.068525893\n",
      "Final accumulative portfolio value: 24.394900685258932\n",
      "Maximum DrawDown: -0.7577382772463278\n",
      "Sharpe ratio: 6.15790273866176\n",
      "=================================\n"
     ]
    },
    {
     "name": "stderr",
     "output_type": "stream",
     "text": [
      " 56%|█████▌    | 28/50 [02:33<01:59,  5.45s/it]"
     ]
    },
    {
     "name": "stdout",
     "output_type": "stream",
     "text": [
      "=================================\n",
      "Initial portfolio value:100000\n",
      "Final portfolio value: 2439969.774226928\n",
      "Final accumulative portfolio value: 24.399697742269282\n",
      "Maximum DrawDown: -0.7576857628547494\n",
      "Sharpe ratio: 6.158192373928897\n",
      "=================================\n"
     ]
    },
    {
     "name": "stderr",
     "output_type": "stream",
     "text": [
      " 58%|█████▊    | 29/50 [02:39<01:55,  5.49s/it]"
     ]
    },
    {
     "name": "stdout",
     "output_type": "stream",
     "text": [
      "=================================\n",
      "Initial portfolio value:100000\n",
      "Final portfolio value: 2440173.979893666\n",
      "Final accumulative portfolio value: 24.401739798936664\n",
      "Maximum DrawDown: -0.7576960877877044\n",
      "Sharpe ratio: 6.158291284702822\n",
      "=================================\n"
     ]
    },
    {
     "name": "stderr",
     "output_type": "stream",
     "text": [
      " 60%|██████    | 30/50 [02:45<01:49,  5.49s/it]"
     ]
    },
    {
     "name": "stdout",
     "output_type": "stream",
     "text": [
      "=================================\n",
      "Initial portfolio value:100000\n",
      "Final portfolio value: 2439868.0455243713\n",
      "Final accumulative portfolio value: 24.398680455243714\n",
      "Maximum DrawDown: -0.7576847290391779\n",
      "Sharpe ratio: 6.158114800168031\n",
      "=================================\n"
     ]
    },
    {
     "name": "stderr",
     "output_type": "stream",
     "text": [
      " 62%|██████▏   | 31/50 [02:50<01:44,  5.48s/it]"
     ]
    },
    {
     "name": "stdout",
     "output_type": "stream",
     "text": [
      "=================================\n",
      "Initial portfolio value:100000\n",
      "Final portfolio value: 2440038.2586615854\n",
      "Final accumulative portfolio value: 24.400382586615855\n",
      "Maximum DrawDown: -0.7576889755342847\n",
      "Sharpe ratio: 6.158178628252419\n",
      "=================================\n"
     ]
    },
    {
     "name": "stderr",
     "output_type": "stream",
     "text": [
      " 64%|██████▍   | 32/50 [02:55<01:37,  5.44s/it]"
     ]
    },
    {
     "name": "stdout",
     "output_type": "stream",
     "text": [
      "=================================\n",
      "Initial portfolio value:100000\n",
      "Final portfolio value: 2436493.593192529\n",
      "Final accumulative portfolio value: 24.364935931925288\n",
      "Maximum DrawDown: -0.7576902620675323\n",
      "Sharpe ratio: 6.156244097222039\n",
      "=================================\n"
     ]
    },
    {
     "name": "stderr",
     "output_type": "stream",
     "text": [
      " 66%|██████▌   | 33/50 [03:01<01:32,  5.41s/it]"
     ]
    },
    {
     "name": "stdout",
     "output_type": "stream",
     "text": [
      "=================================\n",
      "Initial portfolio value:100000\n",
      "Final portfolio value: 2441284.1218250585\n",
      "Final accumulative portfolio value: 24.412841218250584\n",
      "Maximum DrawDown: -0.7576863519224186\n",
      "Sharpe ratio: 6.159114866548119\n",
      "=================================\n"
     ]
    },
    {
     "name": "stderr",
     "output_type": "stream",
     "text": [
      " 68%|██████▊   | 34/50 [03:06<01:26,  5.39s/it]"
     ]
    },
    {
     "name": "stdout",
     "output_type": "stream",
     "text": [
      "=================================\n",
      "Initial portfolio value:100000\n",
      "Final portfolio value: 2440106.864612867\n",
      "Final accumulative portfolio value: 24.40106864612867\n",
      "Maximum DrawDown: -0.7576856130826297\n",
      "Sharpe ratio: 6.158408397079489\n",
      "=================================\n"
     ]
    },
    {
     "name": "stderr",
     "output_type": "stream",
     "text": [
      " 70%|███████   | 35/50 [03:11<01:21,  5.42s/it]"
     ]
    },
    {
     "name": "stdout",
     "output_type": "stream",
     "text": [
      "=================================\n",
      "Initial portfolio value:100000\n",
      "Final portfolio value: 2440180.5926980847\n",
      "Final accumulative portfolio value: 24.401805926980845\n",
      "Maximum DrawDown: -0.7577077212552954\n",
      "Sharpe ratio: 6.15837602835515\n",
      "=================================\n"
     ]
    },
    {
     "name": "stderr",
     "output_type": "stream",
     "text": [
      " 72%|███████▏  | 36/50 [03:17<01:15,  5.41s/it]"
     ]
    },
    {
     "name": "stdout",
     "output_type": "stream",
     "text": [
      "=================================\n",
      "Initial portfolio value:100000\n",
      "Final portfolio value: 2440482.6827418497\n",
      "Final accumulative portfolio value: 24.404826827418496\n",
      "Maximum DrawDown: -0.7576687571926141\n",
      "Sharpe ratio: 6.1586130130360734\n",
      "=================================\n"
     ]
    },
    {
     "name": "stderr",
     "output_type": "stream",
     "text": [
      " 74%|███████▍  | 37/50 [03:22<01:10,  5.44s/it]"
     ]
    },
    {
     "name": "stdout",
     "output_type": "stream",
     "text": [
      "=================================\n",
      "Initial portfolio value:100000\n",
      "Final portfolio value: 2440314.5292698173\n",
      "Final accumulative portfolio value: 24.403145292698174\n",
      "Maximum DrawDown: -0.7576786003730297\n",
      "Sharpe ratio: 6.158366779573983\n",
      "=================================\n"
     ]
    },
    {
     "name": "stderr",
     "output_type": "stream",
     "text": [
      " 76%|███████▌  | 38/50 [03:28<01:05,  5.47s/it]"
     ]
    },
    {
     "name": "stdout",
     "output_type": "stream",
     "text": [
      "=================================\n",
      "Initial portfolio value:100000\n",
      "Final portfolio value: 2441227.315685252\n",
      "Final accumulative portfolio value: 24.41227315685252\n",
      "Maximum DrawDown: -0.7576764532606741\n",
      "Sharpe ratio: 6.159075312998781\n",
      "=================================\n"
     ]
    },
    {
     "name": "stderr",
     "output_type": "stream",
     "text": [
      " 78%|███████▊  | 39/50 [03:33<01:00,  5.46s/it]"
     ]
    },
    {
     "name": "stdout",
     "output_type": "stream",
     "text": [
      "=================================\n",
      "Initial portfolio value:100000\n",
      "Final portfolio value: 2440703.9320476083\n",
      "Final accumulative portfolio value: 24.407039320476084\n",
      "Maximum DrawDown: -0.7576730683519804\n",
      "Sharpe ratio: 6.158698692264005\n",
      "=================================\n"
     ]
    },
    {
     "name": "stderr",
     "output_type": "stream",
     "text": [
      " 80%|████████  | 40/50 [03:39<00:54,  5.42s/it]"
     ]
    },
    {
     "name": "stdout",
     "output_type": "stream",
     "text": [
      "=================================\n",
      "Initial portfolio value:100000\n",
      "Final portfolio value: 2440397.3274266636\n",
      "Final accumulative portfolio value: 24.403973274266637\n",
      "Maximum DrawDown: -0.7576802447352847\n",
      "Sharpe ratio: 6.158518711657677\n",
      "=================================\n"
     ]
    },
    {
     "name": "stderr",
     "output_type": "stream",
     "text": [
      " 82%|████████▏ | 41/50 [03:44<00:48,  5.42s/it]"
     ]
    },
    {
     "name": "stdout",
     "output_type": "stream",
     "text": [
      "=================================\n",
      "Initial portfolio value:100000\n",
      "Final portfolio value: 2440503.7479560454\n",
      "Final accumulative portfolio value: 24.405037479560455\n",
      "Maximum DrawDown: -0.7576738644923395\n",
      "Sharpe ratio: 6.158533781195001\n",
      "=================================\n"
     ]
    },
    {
     "name": "stderr",
     "output_type": "stream",
     "text": [
      " 84%|████████▍ | 42/50 [03:50<00:43,  5.42s/it]"
     ]
    },
    {
     "name": "stdout",
     "output_type": "stream",
     "text": [
      "=================================\n",
      "Initial portfolio value:100000\n",
      "Final portfolio value: 2440651.253125529\n",
      "Final accumulative portfolio value: 24.406512531255288\n",
      "Maximum DrawDown: -0.757684448186049\n",
      "Sharpe ratio: 6.15861715608892\n",
      "=================================\n"
     ]
    },
    {
     "name": "stderr",
     "output_type": "stream",
     "text": [
      " 86%|████████▌ | 43/50 [03:55<00:37,  5.41s/it]"
     ]
    },
    {
     "name": "stdout",
     "output_type": "stream",
     "text": [
      "=================================\n",
      "Initial portfolio value:100000\n",
      "Final portfolio value: 2440776.0194753404\n",
      "Final accumulative portfolio value: 24.407760194753404\n",
      "Maximum DrawDown: -0.7576697418845231\n",
      "Sharpe ratio: 6.158742575632659\n",
      "=================================\n"
     ]
    },
    {
     "name": "stderr",
     "output_type": "stream",
     "text": [
      " 88%|████████▊ | 44/50 [04:00<00:32,  5.40s/it]"
     ]
    },
    {
     "name": "stdout",
     "output_type": "stream",
     "text": [
      "=================================\n",
      "Initial portfolio value:100000\n",
      "Final portfolio value: 2440794.6380958003\n",
      "Final accumulative portfolio value: 24.407946380958002\n",
      "Maximum DrawDown: -0.7576709375390577\n",
      "Sharpe ratio: 6.158783318683246\n",
      "=================================\n"
     ]
    },
    {
     "name": "stderr",
     "output_type": "stream",
     "text": [
      " 90%|█████████ | 45/50 [04:06<00:27,  5.41s/it]"
     ]
    },
    {
     "name": "stdout",
     "output_type": "stream",
     "text": [
      "=================================\n",
      "Initial portfolio value:100000\n",
      "Final portfolio value: 2440746.397094808\n",
      "Final accumulative portfolio value: 24.40746397094808\n",
      "Maximum DrawDown: -0.7576745475012694\n",
      "Sharpe ratio: 6.158696106908702\n",
      "=================================\n"
     ]
    },
    {
     "name": "stderr",
     "output_type": "stream",
     "text": [
      " 92%|█████████▏| 46/50 [04:11<00:21,  5.41s/it]"
     ]
    },
    {
     "name": "stdout",
     "output_type": "stream",
     "text": [
      "=================================\n",
      "Initial portfolio value:100000\n",
      "Final portfolio value: 2440651.518126452\n",
      "Final accumulative portfolio value: 24.40651518126452\n",
      "Maximum DrawDown: -0.7576745922809419\n",
      "Sharpe ratio: 6.158627416706004\n",
      "=================================\n"
     ]
    },
    {
     "name": "stderr",
     "output_type": "stream",
     "text": [
      " 94%|█████████▍| 47/50 [04:17<00:16,  5.41s/it]"
     ]
    },
    {
     "name": "stdout",
     "output_type": "stream",
     "text": [
      "=================================\n",
      "Initial portfolio value:100000\n",
      "Final portfolio value: 2428240.736041932\n",
      "Final accumulative portfolio value: 24.28240736041932\n",
      "Maximum DrawDown: -0.757672958937698\n",
      "Sharpe ratio: 6.153797902507914\n",
      "=================================\n"
     ]
    },
    {
     "name": "stderr",
     "output_type": "stream",
     "text": [
      " 96%|█████████▌| 48/50 [04:22<00:10,  5.47s/it]"
     ]
    },
    {
     "name": "stdout",
     "output_type": "stream",
     "text": [
      "=================================\n",
      "Initial portfolio value:100000\n",
      "Final portfolio value: 2440721.102322946\n",
      "Final accumulative portfolio value: 24.407211023229458\n",
      "Maximum DrawDown: -0.7576869208608812\n",
      "Sharpe ratio: 6.1586368430498295\n",
      "=================================\n"
     ]
    },
    {
     "name": "stderr",
     "output_type": "stream",
     "text": [
      " 98%|█████████▊| 49/50 [04:28<00:05,  5.53s/it]"
     ]
    },
    {
     "name": "stdout",
     "output_type": "stream",
     "text": [
      "=================================\n",
      "Initial portfolio value:100000\n",
      "Final portfolio value: 2440453.999837825\n",
      "Final accumulative portfolio value: 24.40453999837825\n",
      "Maximum DrawDown: -0.7576793011065849\n",
      "Sharpe ratio: 6.1584896925508446\n",
      "=================================\n"
     ]
    },
    {
     "name": "stderr",
     "output_type": "stream",
     "text": [
      "100%|██████████| 50/50 [04:33<00:00,  5.47s/it]\n"
     ]
    },
    {
     "data": {
      "text/plain": [
       "<modules.algorithms.PolicyGradient at 0x294ab4ef0>"
      ]
     },
     "execution_count": 11,
     "metadata": {},
     "output_type": "execute_result"
    }
   ],
   "source": [
    "print(\"TRAINING AGENT.....\")\n",
    "DRLAgent.train_model(model, episodes=50)"
   ]
  },
  {
   "cell_type": "code",
   "execution_count": 12,
   "metadata": {},
   "outputs": [
    {
     "name": "stdout",
     "output_type": "stream",
     "text": [
      "PERSISTING MODEL.....\n"
     ]
    }
   ],
   "source": [
    "print(\"PERSISTING MODEL.....\")\n",
    "torch.save(model.train_policy.state_dict(), f\"models/policy_{experiment_type}.pt\")"
   ]
  },
  {
   "cell_type": "code",
   "execution_count": 13,
   "metadata": {},
   "outputs": [
    {
     "name": "stdout",
     "output_type": "stream",
     "text": [
      "TESTING.....\n"
     ]
    }
   ],
   "source": [
    "print(\"TESTING.....\")\n",
    "MEIIE_results = {\n",
    "    \"training\": train_environment._asset_memory[\"final\"],\n",
    "    \"test\": {}\n",
    "}"
   ]
  },
  {
   "cell_type": "code",
   "execution_count": 14,
   "metadata": {},
   "outputs": [],
   "source": [
    "test_environment = MultiPeriodPortfolioOptimizationEnv(\n",
    "    df_portfolio_test,\n",
    "    initial_amount=100000,\n",
    "    comission_fee_pct=0.0025,\n",
    "    time_window=N,\n",
    "    multi_period_horizon=T,\n",
    "    features=FEATURES,\n",
    "    normalize_df=None,\n",
    "    is_train_mode=False,\n",
    "    experiment_type=experiment_type\n",
    ")"
   ]
  },
  {
   "cell_type": "code",
   "execution_count": 15,
   "metadata": {},
   "outputs": [
    {
     "name": "stderr",
     "output_type": "stream",
     "text": [
      "/opt/homebrew/lib/python3.12/site-packages/torch/nn/modules/transformer.py:306: UserWarning: enable_nested_tensor is True, but self.use_nested_tensor is False because encoder_layer.self_attn.num_heads is odd\n",
      "  warnings.warn(f\"enable_nested_tensor is True, but self.use_nested_tensor is False because {why_not_sparsity_fast_path}\")\n"
     ]
    }
   ],
   "source": [
    "policy = MultiPeriodConvAttentionNetwork(num_stocks=NUM_ASSETS,\n",
    "                                         num_features=NUM_FEATURES,\n",
    "                                         W=N,\n",
    "                                         T=T)"
   ]
  },
  {
   "cell_type": "code",
   "execution_count": 16,
   "metadata": {},
   "outputs": [
    {
     "data": {
      "text/plain": [
       "<All keys matched successfully>"
      ]
     },
     "execution_count": 16,
     "metadata": {},
     "output_type": "execute_result"
    }
   ],
   "source": [
    "policy.load_state_dict(torch.load(f\"models/policy_{experiment_type}.pt\"))"
   ]
  },
  {
   "cell_type": "code",
   "execution_count": 17,
   "metadata": {},
   "outputs": [
    {
     "name": "stdout",
     "output_type": "stream",
     "text": [
      "=================================\n",
      "Initial portfolio value:100000\n",
      "Final portfolio value: 533552.0558170116\n",
      "Final accumulative portfolio value: 5.335520558170116\n",
      "Maximum DrawDown: -0.39917030214508575\n",
      "Sharpe ratio: 5.6634839201682325\n",
      "=================================\n"
     ]
    }
   ],
   "source": [
    "DRLAgent.DRL_validation(model=model, test_env=test_environment, policy=policy)"
   ]
  },
  {
   "cell_type": "code",
   "execution_count": 18,
   "metadata": {},
   "outputs": [],
   "source": [
    "MEIIE_results[\"test\"][\"value\"] = test_environment._asset_memory[\"final\"]"
   ]
  },
  {
   "cell_type": "code",
   "execution_count": 19,
   "metadata": {},
   "outputs": [
    {
     "data": {
      "text/plain": [
       "70"
      ]
     },
     "execution_count": 19,
     "metadata": {},
     "output_type": "execute_result"
    }
   ],
   "source": [
    "drl_portfolio_performance = test_environment._asset_memory[\"final\"][1:]\n",
    "len(drl_portfolio_performance)"
   ]
  },
  {
   "cell_type": "code",
   "execution_count": 20,
   "metadata": {},
   "outputs": [],
   "source": [
    "drl_portfolio_performance = [(x/100000)-1 for x in drl_portfolio_performance]"
   ]
  },
  {
   "cell_type": "code",
   "execution_count": 21,
   "metadata": {},
   "outputs": [],
   "source": [
    "performance_dataset = pd.read_csv(\"data/processed/performances_sp100.csv\", index_col=0)"
   ]
  },
  {
   "cell_type": "code",
   "execution_count": 22,
   "metadata": {},
   "outputs": [],
   "source": [
    "performance_dataset[\"DRL_HYBRID_TRANSFORMER\"] = drl_portfolio_performance"
   ]
  },
  {
   "cell_type": "code",
   "execution_count": 23,
   "metadata": {},
   "outputs": [],
   "source": [
    "performance_dataset.to_csv(\"data/processed/performances_sp100.csv\")"
   ]
  },
  {
   "cell_type": "code",
   "execution_count": null,
   "metadata": {},
   "outputs": [],
   "source": []
  }
 ],
 "metadata": {
  "kernelspec": {
   "display_name": "Python 3",
   "language": "python",
   "name": "python3"
  },
  "language_info": {
   "codemirror_mode": {
    "name": "ipython",
    "version": 3
   },
   "file_extension": ".py",
   "mimetype": "text/x-python",
   "name": "python",
   "nbconvert_exporter": "python",
   "pygments_lexer": "ipython3",
   "version": "3.12.3"
  }
 },
 "nbformat": 4,
 "nbformat_minor": 2
}
