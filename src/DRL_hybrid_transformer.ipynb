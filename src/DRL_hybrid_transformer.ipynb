{
 "cells": [
  {
   "cell_type": "code",
   "execution_count": 1,
   "metadata": {},
   "outputs": [],
   "source": [
    "import torch\n",
    "import torch.nn as nn\n",
    "import torch.nn.functional as F\n",
    "import numpy as np\n",
    "\n",
    "import yfinance as yf\n",
    "import pandas as pd\n",
    "import seaborn as sns\n",
    "from sklearn.model_selection import train_test_split\n",
    "from modules.scalers import GroupByScaler\n",
    "from sklearn.preprocessing import MaxAbsScaler\n",
    "import json\n",
    "import torch\n",
    "\n",
    "from modules.environment import MultiPeriodPortfolioOptimizationEnv\n",
    "from modules.architectures import MultiPeriodConvAttentionNetwork\n",
    "from modules.models import DRLAgent\n",
    "\n",
    "sns.set()\n",
    "\n",
    "device = 'cuda:0' if torch.cuda.is_available() else 'cpu'"
   ]
  },
  {
   "cell_type": "code",
   "execution_count": 2,
   "metadata": {},
   "outputs": [],
   "source": [
    "config_file_name = \"config.json\"\n",
    "with open(config_file_name, \"r\") as jsonfile:\n",
    "    config_data = json.load(jsonfile)"
   ]
  },
  {
   "cell_type": "code",
   "execution_count": 3,
   "metadata": {},
   "outputs": [
    {
     "data": {
      "text/plain": [
       "101"
      ]
     },
     "execution_count": 3,
     "metadata": {},
     "output_type": "execute_result"
    }
   ],
   "source": [
    "sp_100 = config_data[\"tickers\"][\"America\"][\"SP100\"]\n",
    "NUM_ASSETS = len(sp_100)\n",
    "len(sp_100)"
   ]
  },
  {
   "cell_type": "code",
   "execution_count": 4,
   "metadata": {},
   "outputs": [],
   "source": [
    "start_date = config_data[\"timeframe\"][\"bull_market\"][\"start_date\"]\n",
    "end_date = config_data[\"timeframe\"][\"bull_market\"][\"end_date\"]\n",
    "data_interval = config_data[\"data_interval\"]\n",
    "test_ratio = config_data[\"train_test_ratio\"]\n",
    "random_seed = config_data[\"random_state_seed\"]"
   ]
  },
  {
   "cell_type": "code",
   "execution_count": 5,
   "metadata": {},
   "outputs": [
    {
     "name": "stderr",
     "output_type": "stream",
     "text": [
      "[*********************100%%**********************]  101 of 101 completed\n",
      "/var/folders/02/rmgfx9wj0s99nn4tzfthtrnc0000gn/T/ipykernel_20513/541920902.py:3: FutureWarning: DataFrame.fillna with 'method' is deprecated and will raise in a future version. Use obj.ffill() or obj.bfill() instead.\n",
      "  portfolio_raw_df.fillna(method=\"bfill\", inplace=True)\n",
      "/var/folders/02/rmgfx9wj0s99nn4tzfthtrnc0000gn/T/ipykernel_20513/541920902.py:4: FutureWarning: The previous implementation of stack is deprecated and will be removed in a future version of pandas. See the What's New notes for pandas 2.1.0 for details. Specify future_stack=True to adopt the new implementation and silence this warning.\n",
      "  portfolio_raw_df = portfolio_raw_df.stack(level=1).rename_axis([\"Date\", \"Ticker\"]).reset_index(level=1)\n"
     ]
    }
   ],
   "source": [
    "portfolio_raw_df = yf.download(tickers=sp_100, start=start_date, end=end_date, interval=data_interval)\n",
    "\n",
    "portfolio_raw_df.fillna(method=\"bfill\", inplace=True)\n",
    "portfolio_raw_df = portfolio_raw_df.stack(level=1).rename_axis([\"Date\", \"Ticker\"]).reset_index(level=1)\n",
    "portfolio_raw_df = portfolio_raw_df.drop(\"Adj Close\", axis=1)\n",
    "portfolio_raw_df.columns.name = None\n",
    "portfolio_raw_df = portfolio_raw_df.reset_index()\n",
    "portfolio_raw_df.Date = portfolio_raw_df.Date.astype(str)\n",
    "portfolio_raw_df.columns = [\"date\", \"tic\", \"close\", \"high\", \"low\", \"open\", \"volume\"]\n",
    "portfolio_raw_df = portfolio_raw_df[[\"date\", \"tic\", \"close\", \"high\", \"low\", \"volume\"]]\n",
    "\n",
    "df_portfolio_raw_train, df_portfolio_raw_test = train_test_split(portfolio_raw_df, test_size=test_ratio, shuffle=False, random_state=random_seed)\n",
    "df_portfolio_train = GroupByScaler(by=\"tic\", scaler=MaxAbsScaler).fit_transform(df_portfolio_raw_train)\n",
    "df_portfolio_test = GroupByScaler(by=\"tic\", scaler=MaxAbsScaler).fit_transform(df_portfolio_raw_test)\n"
   ]
  },
  {
   "cell_type": "code",
   "execution_count": 6,
   "metadata": {},
   "outputs": [
    {
     "data": {
      "text/plain": [
       "(24, 3, 101, 4)"
      ]
     },
     "execution_count": 6,
     "metadata": {},
     "output_type": "execute_result"
    }
   ],
   "source": [
    "# SETTING HYPERPARAMETERS\n",
    "FEATURES = [\"close\", \"high\", \"low\", \"volume\"]\n",
    "N = config_data[\"lookback_window\"]\n",
    "T = config_data[\"multi_step_horizon\"]\n",
    "NUM_FEATURES = len(FEATURES)\n",
    "experiment_type = \"HYBRID_TRANSFORMER\" \n",
    "N, T, NUM_ASSETS, NUM_FEATURES"
   ]
  },
  {
   "cell_type": "code",
   "execution_count": 7,
   "metadata": {},
   "outputs": [],
   "source": [
    "train_environment = MultiPeriodPortfolioOptimizationEnv(\n",
    "    df_portfolio_train,\n",
    "    initial_amount=100000,\n",
    "    comission_fee_pct=0.0025,\n",
    "    time_window=N,\n",
    "    multi_period_horizon=T,\n",
    "    features=FEATURES,\n",
    "    normalize_df=None,\n",
    "    is_train_mode=True,\n",
    "    experiment_type=experiment_type\n",
    ")"
   ]
  },
  {
   "cell_type": "code",
   "execution_count": 10,
   "metadata": {},
   "outputs": [],
   "source": [
    "# set PolicyGradient parameters\n",
    "model_kwargs = {\n",
    "    \"lr\": 0.0001,\n",
    "    \"policy\": MultiPeriodConvAttentionNetwork,\n",
    "    \"multi_period_horizon\": T\n",
    "}\n",
    "\n",
    "# here, we can set EIIE's parameters\n",
    "policy_kwargs = {\n",
    "    \"num_features\": NUM_FEATURES,\n",
    "    \"num_stocks\": NUM_ASSETS,\n",
    "    \"W\": N,\n",
    "    \"T\": T\n",
    "}"
   ]
  },
  {
   "cell_type": "code",
   "execution_count": 11,
   "metadata": {},
   "outputs": [
    {
     "name": "stderr",
     "output_type": "stream",
     "text": [
      "/opt/homebrew/lib/python3.12/site-packages/torch/nn/modules/transformer.py:306: UserWarning: enable_nested_tensor is True, but self.use_nested_tensor is False because encoder_layer.self_attn.num_heads is odd\n",
      "  warnings.warn(f\"enable_nested_tensor is True, but self.use_nested_tensor is False because {why_not_sparsity_fast_path}\")\n"
     ]
    }
   ],
   "source": [
    "model = DRLAgent(train_environment).get_model(\"pg\", device, model_kwargs, policy_kwargs)"
   ]
  },
  {
   "cell_type": "code",
   "execution_count": 12,
   "metadata": {},
   "outputs": [
    {
     "name": "stdout",
     "output_type": "stream",
     "text": [
      "TRAINING AGENT.....\n"
     ]
    },
    {
     "name": "stderr",
     "output_type": "stream",
     "text": [
      "  0%|          | 0/50 [00:00<?, ?it/s]"
     ]
    },
    {
     "name": "stdout",
     "output_type": "stream",
     "text": [
      "=================================\n",
      "Initial portfolio value:100000\n",
      "Final portfolio value: 2008840.1292283435\n",
      "Final accumulative portfolio value: 20.088401292283436\n",
      "Maximum DrawDown: -0.7711824503298307\n",
      "Sharpe ratio: 5.84590550465615\n",
      "=================================\n"
     ]
    },
    {
     "name": "stderr",
     "output_type": "stream",
     "text": [
      "  2%|▏         | 1/50 [00:06<05:21,  6.56s/it]"
     ]
    },
    {
     "name": "stdout",
     "output_type": "stream",
     "text": [
      "=================================\n",
      "Initial portfolio value:100000\n",
      "Final portfolio value: 2021598.255073765\n",
      "Final accumulative portfolio value: 20.21598255073765\n",
      "Maximum DrawDown: -0.7708332960451582\n",
      "Sharpe ratio: 5.859154505685656\n",
      "=================================\n"
     ]
    },
    {
     "name": "stderr",
     "output_type": "stream",
     "text": [
      "  4%|▍         | 2/50 [00:13<05:13,  6.53s/it]"
     ]
    },
    {
     "name": "stdout",
     "output_type": "stream",
     "text": [
      "=================================\n",
      "Initial portfolio value:100000\n",
      "Final portfolio value: 2023757.306329501\n",
      "Final accumulative portfolio value: 20.23757306329501\n",
      "Maximum DrawDown: -0.7703703926097238\n",
      "Sharpe ratio: 5.863991893145953\n",
      "=================================\n"
     ]
    },
    {
     "name": "stderr",
     "output_type": "stream",
     "text": [
      "  6%|▌         | 3/50 [00:19<04:54,  6.27s/it]"
     ]
    },
    {
     "name": "stdout",
     "output_type": "stream",
     "text": [
      "=================================\n",
      "Initial portfolio value:100000\n",
      "Final portfolio value: 2028870.9859458767\n",
      "Final accumulative portfolio value: 20.288709859458766\n",
      "Maximum DrawDown: -0.7701250643588677\n",
      "Sharpe ratio: 5.866857689587346\n",
      "=================================\n"
     ]
    },
    {
     "name": "stderr",
     "output_type": "stream",
     "text": [
      "  8%|▊         | 4/50 [00:25<04:43,  6.16s/it]"
     ]
    },
    {
     "name": "stdout",
     "output_type": "stream",
     "text": [
      "=================================\n",
      "Initial portfolio value:100000\n",
      "Final portfolio value: 2020970.6650152286\n",
      "Final accumulative portfolio value: 20.209706650152285\n",
      "Maximum DrawDown: -0.7702352674550521\n",
      "Sharpe ratio: 5.863058302031583\n",
      "=================================\n"
     ]
    },
    {
     "name": "stderr",
     "output_type": "stream",
     "text": [
      " 10%|█         | 5/50 [00:31<04:35,  6.12s/it]"
     ]
    },
    {
     "name": "stdout",
     "output_type": "stream",
     "text": [
      "=================================\n",
      "Initial portfolio value:100000\n",
      "Final portfolio value: 2020367.015771007\n",
      "Final accumulative portfolio value: 20.203670157710068\n",
      "Maximum DrawDown: -0.7702818315184119\n",
      "Sharpe ratio: 5.861428570518157\n",
      "=================================\n"
     ]
    },
    {
     "name": "stderr",
     "output_type": "stream",
     "text": [
      " 12%|█▏        | 6/50 [00:37<04:31,  6.18s/it]"
     ]
    },
    {
     "name": "stdout",
     "output_type": "stream",
     "text": [
      "=================================\n",
      "Initial portfolio value:100000\n",
      "Final portfolio value: 2019406.1125837262\n",
      "Final accumulative portfolio value: 20.194061125837262\n",
      "Maximum DrawDown: -0.770408853866414\n",
      "Sharpe ratio: 5.859528918763872\n",
      "=================================\n"
     ]
    },
    {
     "name": "stderr",
     "output_type": "stream",
     "text": [
      " 14%|█▍        | 7/50 [00:43<04:25,  6.17s/it]"
     ]
    },
    {
     "name": "stdout",
     "output_type": "stream",
     "text": [
      "=================================\n",
      "Initial portfolio value:100000\n",
      "Final portfolio value: 2020645.8752578252\n",
      "Final accumulative portfolio value: 20.206458752578254\n",
      "Maximum DrawDown: -0.7704592166234074\n",
      "Sharpe ratio: 5.860577646753491\n",
      "=================================\n"
     ]
    },
    {
     "name": "stderr",
     "output_type": "stream",
     "text": [
      " 16%|█▌        | 8/50 [00:49<04:21,  6.22s/it]"
     ]
    },
    {
     "name": "stdout",
     "output_type": "stream",
     "text": [
      "=================================\n",
      "Initial portfolio value:100000\n",
      "Final portfolio value: 2020715.8959383573\n",
      "Final accumulative portfolio value: 20.207158959383573\n",
      "Maximum DrawDown: -0.7703693448850387\n",
      "Sharpe ratio: 5.8617301087501295\n",
      "=================================\n"
     ]
    },
    {
     "name": "stderr",
     "output_type": "stream",
     "text": [
      " 18%|█▊        | 9/50 [00:56<04:14,  6.21s/it]"
     ]
    },
    {
     "name": "stdout",
     "output_type": "stream",
     "text": [
      "=================================\n",
      "Initial portfolio value:100000\n",
      "Final portfolio value: 2019807.2980975972\n",
      "Final accumulative portfolio value: 20.198072980975972\n",
      "Maximum DrawDown: -0.770325940566457\n",
      "Sharpe ratio: 5.861037688373082\n",
      "=================================\n"
     ]
    },
    {
     "name": "stderr",
     "output_type": "stream",
     "text": [
      " 20%|██        | 10/50 [01:02<04:08,  6.20s/it]"
     ]
    },
    {
     "name": "stdout",
     "output_type": "stream",
     "text": [
      "=================================\n",
      "Initial portfolio value:100000\n",
      "Final portfolio value: 2023709.0293923612\n",
      "Final accumulative portfolio value: 20.23709029392361\n",
      "Maximum DrawDown: -0.7702936617558023\n",
      "Sharpe ratio: 5.86396861748539\n",
      "=================================\n"
     ]
    },
    {
     "name": "stderr",
     "output_type": "stream",
     "text": [
      " 22%|██▏       | 11/50 [01:08<04:01,  6.19s/it]"
     ]
    },
    {
     "name": "stdout",
     "output_type": "stream",
     "text": [
      "=================================\n",
      "Initial portfolio value:100000\n",
      "Final portfolio value: 2028847.6294143181\n",
      "Final accumulative portfolio value: 20.28847629414318\n",
      "Maximum DrawDown: -0.7701881154570069\n",
      "Sharpe ratio: 5.8680610689741215\n",
      "=================================\n"
     ]
    },
    {
     "name": "stderr",
     "output_type": "stream",
     "text": [
      " 24%|██▍       | 12/50 [01:14<03:56,  6.22s/it]"
     ]
    },
    {
     "name": "stdout",
     "output_type": "stream",
     "text": [
      "=================================\n",
      "Initial portfolio value:100000\n",
      "Final portfolio value: 2031120.0901957757\n",
      "Final accumulative portfolio value: 20.311200901957758\n",
      "Maximum DrawDown: -0.770083564866186\n",
      "Sharpe ratio: 5.8698680310889415\n",
      "=================================\n"
     ]
    },
    {
     "name": "stderr",
     "output_type": "stream",
     "text": [
      " 26%|██▌       | 13/50 [01:21<03:51,  6.26s/it]"
     ]
    },
    {
     "name": "stdout",
     "output_type": "stream",
     "text": [
      "=================================\n",
      "Initial portfolio value:100000\n",
      "Final portfolio value: 2036399.50157733\n",
      "Final accumulative portfolio value: 20.363995015773302\n",
      "Maximum DrawDown: -0.7699605324793861\n",
      "Sharpe ratio: 5.874534677510491\n",
      "=================================\n"
     ]
    },
    {
     "name": "stderr",
     "output_type": "stream",
     "text": [
      " 28%|██▊       | 14/50 [01:27<03:47,  6.31s/it]"
     ]
    },
    {
     "name": "stdout",
     "output_type": "stream",
     "text": [
      "=================================\n",
      "Initial portfolio value:100000\n",
      "Final portfolio value: 2037103.826832325\n",
      "Final accumulative portfolio value: 20.37103826832325\n",
      "Maximum DrawDown: -0.769928271184842\n",
      "Sharpe ratio: 5.874486915372212\n",
      "=================================\n"
     ]
    },
    {
     "name": "stderr",
     "output_type": "stream",
     "text": [
      " 30%|███       | 15/50 [01:33<03:40,  6.29s/it]"
     ]
    },
    {
     "name": "stdout",
     "output_type": "stream",
     "text": [
      "=================================\n",
      "Initial portfolio value:100000\n",
      "Final portfolio value: 2040664.3973536096\n",
      "Final accumulative portfolio value: 20.406643973536095\n",
      "Maximum DrawDown: -0.7698694359109364\n",
      "Sharpe ratio: 5.877558061019464\n",
      "=================================\n"
     ]
    },
    {
     "name": "stderr",
     "output_type": "stream",
     "text": [
      " 32%|███▏      | 16/50 [01:39<03:33,  6.29s/it]"
     ]
    },
    {
     "name": "stdout",
     "output_type": "stream",
     "text": [
      "=================================\n",
      "Initial portfolio value:100000\n",
      "Final portfolio value: 2042936.9089346332\n",
      "Final accumulative portfolio value: 20.429369089346334\n",
      "Maximum DrawDown: -0.7698611033903278\n",
      "Sharpe ratio: 5.878189048828163\n",
      "=================================\n"
     ]
    },
    {
     "name": "stderr",
     "output_type": "stream",
     "text": [
      " 34%|███▍      | 17/50 [01:46<03:28,  6.32s/it]"
     ]
    },
    {
     "name": "stdout",
     "output_type": "stream",
     "text": [
      "=================================\n",
      "Initial portfolio value:100000\n",
      "Final portfolio value: 2054024.8400039661\n",
      "Final accumulative portfolio value: 20.540248400039662\n",
      "Maximum DrawDown: -0.7695459316449064\n",
      "Sharpe ratio: 5.886731533723736\n",
      "=================================\n"
     ]
    },
    {
     "name": "stderr",
     "output_type": "stream",
     "text": [
      " 36%|███▌      | 18/50 [01:52<03:21,  6.31s/it]"
     ]
    },
    {
     "name": "stdout",
     "output_type": "stream",
     "text": [
      "=================================\n",
      "Initial portfolio value:100000\n",
      "Final portfolio value: 2055203.9234702492\n",
      "Final accumulative portfolio value: 20.55203923470249\n",
      "Maximum DrawDown: -0.7693558282537125\n",
      "Sharpe ratio: 5.889077986094643\n",
      "=================================\n"
     ]
    },
    {
     "name": "stderr",
     "output_type": "stream",
     "text": [
      " 38%|███▊      | 19/50 [01:58<03:13,  6.24s/it]"
     ]
    },
    {
     "name": "stdout",
     "output_type": "stream",
     "text": [
      "=================================\n",
      "Initial portfolio value:100000\n",
      "Final portfolio value: 2059386.0090099736\n",
      "Final accumulative portfolio value: 20.593860090099735\n",
      "Maximum DrawDown: -0.7693008020179228\n",
      "Sharpe ratio: 5.891208417550993\n",
      "=================================\n"
     ]
    },
    {
     "name": "stderr",
     "output_type": "stream",
     "text": [
      " 40%|████      | 20/50 [02:04<03:06,  6.22s/it]"
     ]
    },
    {
     "name": "stdout",
     "output_type": "stream",
     "text": [
      "=================================\n",
      "Initial portfolio value:100000\n",
      "Final portfolio value: 2073500.0000022696\n",
      "Final accumulative portfolio value: 20.735000000022698\n",
      "Maximum DrawDown: -0.7690050858455363\n",
      "Sharpe ratio: 5.9027550851632835\n",
      "=================================\n"
     ]
    },
    {
     "name": "stderr",
     "output_type": "stream",
     "text": [
      " 42%|████▏     | 21/50 [02:11<03:01,  6.24s/it]"
     ]
    },
    {
     "name": "stdout",
     "output_type": "stream",
     "text": [
      "=================================\n",
      "Initial portfolio value:100000\n",
      "Final portfolio value: 2058659.4235889814\n",
      "Final accumulative portfolio value: 20.586594235889812\n",
      "Maximum DrawDown: -0.7694666696200267\n",
      "Sharpe ratio: 5.891179794715203\n",
      "=================================\n"
     ]
    },
    {
     "name": "stderr",
     "output_type": "stream",
     "text": [
      " 44%|████▍     | 22/50 [02:17<02:54,  6.22s/it]"
     ]
    },
    {
     "name": "stdout",
     "output_type": "stream",
     "text": [
      "=================================\n",
      "Initial portfolio value:100000\n",
      "Final portfolio value: 2052987.1648584136\n",
      "Final accumulative portfolio value: 20.529871648584137\n",
      "Maximum DrawDown: -0.7693498009420775\n",
      "Sharpe ratio: 5.887439323955052\n",
      "=================================\n"
     ]
    },
    {
     "name": "stderr",
     "output_type": "stream",
     "text": [
      " 46%|████▌     | 23/50 [02:23<02:47,  6.19s/it]"
     ]
    },
    {
     "name": "stdout",
     "output_type": "stream",
     "text": [
      "=================================\n",
      "Initial portfolio value:100000\n",
      "Final portfolio value: 2049312.6363995525\n",
      "Final accumulative portfolio value: 20.493126363995525\n",
      "Maximum DrawDown: -0.769421414690859\n",
      "Sharpe ratio: 5.885607083816484\n",
      "=================================\n"
     ]
    },
    {
     "name": "stderr",
     "output_type": "stream",
     "text": [
      " 48%|████▊     | 24/50 [02:29<02:42,  6.26s/it]"
     ]
    },
    {
     "name": "stdout",
     "output_type": "stream",
     "text": [
      "=================================\n",
      "Initial portfolio value:100000\n",
      "Final portfolio value: 2041595.4640997716\n",
      "Final accumulative portfolio value: 20.415954640997715\n",
      "Maximum DrawDown: -0.7699230008975839\n",
      "Sharpe ratio: 5.877540541771879\n",
      "=================================\n"
     ]
    },
    {
     "name": "stderr",
     "output_type": "stream",
     "text": [
      " 50%|█████     | 25/50 [02:36<02:36,  6.26s/it]"
     ]
    },
    {
     "name": "stdout",
     "output_type": "stream",
     "text": [
      "=================================\n",
      "Initial portfolio value:100000\n",
      "Final portfolio value: 2051338.9050080709\n",
      "Final accumulative portfolio value: 20.513389050080708\n",
      "Maximum DrawDown: -0.7695148611777415\n",
      "Sharpe ratio: 5.885139550022289\n",
      "=================================\n"
     ]
    },
    {
     "name": "stderr",
     "output_type": "stream",
     "text": [
      " 52%|█████▏    | 26/50 [02:42<02:30,  6.27s/it]"
     ]
    },
    {
     "name": "stdout",
     "output_type": "stream",
     "text": [
      "=================================\n",
      "Initial portfolio value:100000\n",
      "Final portfolio value: 2053325.887009089\n",
      "Final accumulative portfolio value: 20.53325887009089\n",
      "Maximum DrawDown: -0.769595738125531\n",
      "Sharpe ratio: 5.886831130462607\n",
      "=================================\n"
     ]
    },
    {
     "name": "stderr",
     "output_type": "stream",
     "text": [
      " 54%|█████▍    | 27/50 [02:48<02:24,  6.28s/it]"
     ]
    },
    {
     "name": "stdout",
     "output_type": "stream",
     "text": [
      "=================================\n",
      "Initial portfolio value:100000\n",
      "Final portfolio value: 2054960.9395472424\n",
      "Final accumulative portfolio value: 20.549609395472423\n",
      "Maximum DrawDown: -0.7697518673948627\n",
      "Sharpe ratio: 5.88686844580257\n",
      "=================================\n"
     ]
    },
    {
     "name": "stderr",
     "output_type": "stream",
     "text": [
      " 56%|█████▌    | 28/50 [02:55<02:19,  6.33s/it]"
     ]
    },
    {
     "name": "stdout",
     "output_type": "stream",
     "text": [
      "=================================\n",
      "Initial portfolio value:100000\n",
      "Final portfolio value: 2060048.0512748647\n",
      "Final accumulative portfolio value: 20.600480512748646\n",
      "Maximum DrawDown: -0.7696624245220925\n",
      "Sharpe ratio: 5.892228059648615\n",
      "=================================\n"
     ]
    },
    {
     "name": "stderr",
     "output_type": "stream",
     "text": [
      " 58%|█████▊    | 29/50 [03:01<02:11,  6.28s/it]"
     ]
    },
    {
     "name": "stdout",
     "output_type": "stream",
     "text": [
      "=================================\n",
      "Initial portfolio value:100000\n",
      "Final portfolio value: 2070617.8858263378\n",
      "Final accumulative portfolio value: 20.706178858263378\n",
      "Maximum DrawDown: -0.7693689869445692\n",
      "Sharpe ratio: 5.900216291323442\n",
      "=================================\n"
     ]
    },
    {
     "name": "stderr",
     "output_type": "stream",
     "text": [
      " 60%|██████    | 30/50 [03:07<02:04,  6.24s/it]"
     ]
    },
    {
     "name": "stdout",
     "output_type": "stream",
     "text": [
      "=================================\n",
      "Initial portfolio value:100000\n",
      "Final portfolio value: 2061514.5184480587\n",
      "Final accumulative portfolio value: 20.61514518448059\n",
      "Maximum DrawDown: -0.769199763534252\n",
      "Sharpe ratio: 5.894196441814327\n",
      "=================================\n"
     ]
    },
    {
     "name": "stderr",
     "output_type": "stream",
     "text": [
      " 62%|██████▏   | 31/50 [03:13<01:58,  6.25s/it]"
     ]
    },
    {
     "name": "stdout",
     "output_type": "stream",
     "text": [
      "=================================\n",
      "Initial portfolio value:100000\n",
      "Final portfolio value: 2055998.8426017147\n",
      "Final accumulative portfolio value: 20.559988426017146\n",
      "Maximum DrawDown: -0.7695401578950901\n",
      "Sharpe ratio: 5.888330725845127\n",
      "=================================\n"
     ]
    },
    {
     "name": "stderr",
     "output_type": "stream",
     "text": [
      " 64%|██████▍   | 32/50 [03:20<01:52,  6.26s/it]"
     ]
    },
    {
     "name": "stdout",
     "output_type": "stream",
     "text": [
      "=================================\n",
      "Initial portfolio value:100000\n",
      "Final portfolio value: 2063242.6729209505\n",
      "Final accumulative portfolio value: 20.632426729209506\n",
      "Maximum DrawDown: -0.7694507091218142\n",
      "Sharpe ratio: 5.894980911252107\n",
      "=================================\n"
     ]
    },
    {
     "name": "stderr",
     "output_type": "stream",
     "text": [
      " 66%|██████▌   | 33/50 [03:26<01:45,  6.23s/it]"
     ]
    },
    {
     "name": "stdout",
     "output_type": "stream",
     "text": [
      "=================================\n",
      "Initial portfolio value:100000\n",
      "Final portfolio value: 2058487.03972001\n",
      "Final accumulative portfolio value: 20.5848703972001\n",
      "Maximum DrawDown: -0.7695939915637133\n",
      "Sharpe ratio: 5.888951788050805\n",
      "=================================\n"
     ]
    },
    {
     "name": "stderr",
     "output_type": "stream",
     "text": [
      " 68%|██████▊   | 34/50 [03:32<01:40,  6.28s/it]"
     ]
    },
    {
     "name": "stdout",
     "output_type": "stream",
     "text": [
      "=================================\n",
      "Initial portfolio value:100000\n",
      "Final portfolio value: 2056841.0007871152\n",
      "Final accumulative portfolio value: 20.56841000787115\n",
      "Maximum DrawDown: -0.7696035763030026\n",
      "Sharpe ratio: 5.889207316815369\n",
      "=================================\n"
     ]
    },
    {
     "name": "stderr",
     "output_type": "stream",
     "text": [
      " 70%|███████   | 35/50 [03:38<01:33,  6.23s/it]"
     ]
    },
    {
     "name": "stdout",
     "output_type": "stream",
     "text": [
      "=================================\n",
      "Initial portfolio value:100000\n",
      "Final portfolio value: 2056701.948925985\n",
      "Final accumulative portfolio value: 20.56701948925985\n",
      "Maximum DrawDown: -0.7694866004483231\n",
      "Sharpe ratio: 5.889251248413142\n",
      "=================================\n"
     ]
    },
    {
     "name": "stderr",
     "output_type": "stream",
     "text": [
      " 72%|███████▏  | 36/50 [03:44<01:27,  6.22s/it]"
     ]
    },
    {
     "name": "stdout",
     "output_type": "stream",
     "text": [
      "=================================\n",
      "Initial portfolio value:100000\n",
      "Final portfolio value: 2054949.3934696545\n",
      "Final accumulative portfolio value: 20.549493934696546\n",
      "Maximum DrawDown: -0.7696559547437102\n",
      "Sharpe ratio: 5.8873546891166155\n",
      "=================================\n"
     ]
    },
    {
     "name": "stderr",
     "output_type": "stream",
     "text": [
      " 74%|███████▍  | 37/50 [03:51<01:21,  6.30s/it]"
     ]
    },
    {
     "name": "stdout",
     "output_type": "stream",
     "text": [
      "=================================\n",
      "Initial portfolio value:100000\n",
      "Final portfolio value: 2056846.2989191758\n",
      "Final accumulative portfolio value: 20.568462989191758\n",
      "Maximum DrawDown: -0.7696859768872453\n",
      "Sharpe ratio: 5.889754288137354\n",
      "=================================\n"
     ]
    },
    {
     "name": "stderr",
     "output_type": "stream",
     "text": [
      " 76%|███████▌  | 38/50 [03:57<01:15,  6.28s/it]"
     ]
    },
    {
     "name": "stdout",
     "output_type": "stream",
     "text": [
      "=================================\n",
      "Initial portfolio value:100000\n",
      "Final portfolio value: 2051195.105986968\n",
      "Final accumulative portfolio value: 20.51195105986968\n",
      "Maximum DrawDown: -0.7697882737048294\n",
      "Sharpe ratio: 5.883429928985766\n",
      "=================================\n"
     ]
    },
    {
     "name": "stderr",
     "output_type": "stream",
     "text": [
      " 78%|███████▊  | 39/50 [04:03<01:08,  6.27s/it]"
     ]
    },
    {
     "name": "stdout",
     "output_type": "stream",
     "text": [
      "=================================\n",
      "Initial portfolio value:100000\n",
      "Final portfolio value: 2062803.0571685475\n",
      "Final accumulative portfolio value: 20.628030571685475\n",
      "Maximum DrawDown: -0.769637259852713\n",
      "Sharpe ratio: 5.893537578141934\n",
      "=================================\n"
     ]
    },
    {
     "name": "stderr",
     "output_type": "stream",
     "text": [
      " 80%|████████  | 40/50 [04:10<01:03,  6.32s/it]"
     ]
    },
    {
     "name": "stdout",
     "output_type": "stream",
     "text": [
      "=================================\n",
      "Initial portfolio value:100000\n",
      "Final portfolio value: 2060335.0102268416\n",
      "Final accumulative portfolio value: 20.603350102268415\n",
      "Maximum DrawDown: -0.7698299064353636\n",
      "Sharpe ratio: 5.889762906767474\n",
      "=================================\n"
     ]
    },
    {
     "name": "stderr",
     "output_type": "stream",
     "text": [
      " 82%|████████▏ | 41/50 [04:16<00:56,  6.26s/it]"
     ]
    },
    {
     "name": "stdout",
     "output_type": "stream",
     "text": [
      "=================================\n",
      "Initial portfolio value:100000\n",
      "Final portfolio value: 2063131.4318090852\n",
      "Final accumulative portfolio value: 20.63131431809085\n",
      "Maximum DrawDown: -0.7696400388700368\n",
      "Sharpe ratio: 5.892710854902519\n",
      "=================================\n"
     ]
    },
    {
     "name": "stderr",
     "output_type": "stream",
     "text": [
      " 84%|████████▍ | 42/50 [04:22<00:50,  6.32s/it]"
     ]
    },
    {
     "name": "stdout",
     "output_type": "stream",
     "text": [
      "=================================\n",
      "Initial portfolio value:100000\n",
      "Final portfolio value: 2067152.0188386408\n",
      "Final accumulative portfolio value: 20.671520188386406\n",
      "Maximum DrawDown: -0.7695947034693393\n",
      "Sharpe ratio: 5.89683105044869\n",
      "=================================\n"
     ]
    },
    {
     "name": "stderr",
     "output_type": "stream",
     "text": [
      " 86%|████████▌ | 43/50 [04:29<00:44,  6.29s/it]"
     ]
    },
    {
     "name": "stdout",
     "output_type": "stream",
     "text": [
      "=================================\n",
      "Initial portfolio value:100000\n",
      "Final portfolio value: 2066955.2039215136\n",
      "Final accumulative portfolio value: 20.669552039215137\n",
      "Maximum DrawDown: -0.7696696636504452\n",
      "Sharpe ratio: 5.896207117401748\n",
      "=================================\n"
     ]
    },
    {
     "name": "stderr",
     "output_type": "stream",
     "text": [
      " 88%|████████▊ | 44/50 [04:35<00:37,  6.27s/it]"
     ]
    },
    {
     "name": "stdout",
     "output_type": "stream",
     "text": [
      "=================================\n",
      "Initial portfolio value:100000\n",
      "Final portfolio value: 2063800.3821816219\n",
      "Final accumulative portfolio value: 20.63800382181622\n",
      "Maximum DrawDown: -0.7696761687249264\n",
      "Sharpe ratio: 5.894708087672359\n",
      "=================================\n"
     ]
    },
    {
     "name": "stderr",
     "output_type": "stream",
     "text": [
      " 90%|█████████ | 45/50 [04:41<00:31,  6.30s/it]"
     ]
    },
    {
     "name": "stdout",
     "output_type": "stream",
     "text": [
      "=================================\n",
      "Initial portfolio value:100000\n",
      "Final portfolio value: 2059956.8551502244\n",
      "Final accumulative portfolio value: 20.599568551502244\n",
      "Maximum DrawDown: -0.7696821756147296\n",
      "Sharpe ratio: 5.890435405528329\n",
      "=================================\n"
     ]
    },
    {
     "name": "stderr",
     "output_type": "stream",
     "text": [
      " 92%|█████████▏| 46/50 [04:47<00:25,  6.27s/it]"
     ]
    },
    {
     "name": "stdout",
     "output_type": "stream",
     "text": [
      "=================================\n",
      "Initial portfolio value:100000\n",
      "Final portfolio value: 2059951.7088979161\n",
      "Final accumulative portfolio value: 20.599517088979162\n",
      "Maximum DrawDown: -0.769800448263372\n",
      "Sharpe ratio: 5.890134741566355\n",
      "=================================\n"
     ]
    },
    {
     "name": "stderr",
     "output_type": "stream",
     "text": [
      " 94%|█████████▍| 47/50 [04:54<00:18,  6.24s/it]"
     ]
    },
    {
     "name": "stdout",
     "output_type": "stream",
     "text": [
      "=================================\n",
      "Initial portfolio value:100000\n",
      "Final portfolio value: 2062614.8334480382\n",
      "Final accumulative portfolio value: 20.626148334480384\n",
      "Maximum DrawDown: -0.7697974606360629\n",
      "Sharpe ratio: 5.891858611183114\n",
      "=================================\n"
     ]
    },
    {
     "name": "stderr",
     "output_type": "stream",
     "text": [
      " 96%|█████████▌| 48/50 [05:00<00:12,  6.30s/it]"
     ]
    },
    {
     "name": "stdout",
     "output_type": "stream",
     "text": [
      "=================================\n",
      "Initial portfolio value:100000\n",
      "Final portfolio value: 2059695.4275223122\n",
      "Final accumulative portfolio value: 20.596954275223123\n",
      "Maximum DrawDown: -0.7698682405990945\n",
      "Sharpe ratio: 5.889890716053331\n",
      "=================================\n"
     ]
    },
    {
     "name": "stderr",
     "output_type": "stream",
     "text": [
      " 98%|█████████▊| 49/50 [05:06<00:06,  6.34s/it]"
     ]
    },
    {
     "name": "stdout",
     "output_type": "stream",
     "text": [
      "=================================\n",
      "Initial portfolio value:100000\n",
      "Final portfolio value: 2064465.6396232555\n",
      "Final accumulative portfolio value: 20.644656396232556\n",
      "Maximum DrawDown: -0.769781075782208\n",
      "Sharpe ratio: 5.893856647018389\n",
      "=================================\n"
     ]
    },
    {
     "name": "stderr",
     "output_type": "stream",
     "text": [
      "100%|██████████| 50/50 [05:13<00:00,  6.26s/it]\n"
     ]
    },
    {
     "data": {
      "text/plain": [
       "<modules.algorithms.PolicyGradient at 0x30689c230>"
      ]
     },
     "execution_count": 12,
     "metadata": {},
     "output_type": "execute_result"
    }
   ],
   "source": [
    "print(\"TRAINING AGENT.....\")\n",
    "DRLAgent.train_model(model, episodes=50)"
   ]
  },
  {
   "cell_type": "code",
   "execution_count": 13,
   "metadata": {},
   "outputs": [
    {
     "name": "stdout",
     "output_type": "stream",
     "text": [
      "PERSISTING MODEL.....\n"
     ]
    }
   ],
   "source": [
    "print(\"PERSISTING MODEL.....\")\n",
    "torch.save(model.train_policy.state_dict(), f\"models/policy_{experiment_type}.pt\")"
   ]
  },
  {
   "cell_type": "code",
   "execution_count": 14,
   "metadata": {},
   "outputs": [
    {
     "name": "stdout",
     "output_type": "stream",
     "text": [
      "TESTING.....\n"
     ]
    }
   ],
   "source": [
    "print(\"TESTING.....\")\n",
    "MEIIE_results = {\n",
    "    \"training\": train_environment._asset_memory[\"final\"],\n",
    "    \"test\": {}\n",
    "}"
   ]
  },
  {
   "cell_type": "code",
   "execution_count": 15,
   "metadata": {},
   "outputs": [],
   "source": [
    "test_environment = MultiPeriodPortfolioOptimizationEnv(\n",
    "    df_portfolio_test,\n",
    "    initial_amount=100000,\n",
    "    comission_fee_pct=0.0025,\n",
    "    time_window=N,\n",
    "    multi_period_horizon=T,\n",
    "    features=FEATURES,\n",
    "    normalize_df=None,\n",
    "    is_train_mode=False,\n",
    "    experiment_type=experiment_type\n",
    ")"
   ]
  },
  {
   "cell_type": "code",
   "execution_count": 16,
   "metadata": {},
   "outputs": [
    {
     "name": "stderr",
     "output_type": "stream",
     "text": [
      "/opt/homebrew/lib/python3.12/site-packages/torch/nn/modules/transformer.py:306: UserWarning: enable_nested_tensor is True, but self.use_nested_tensor is False because encoder_layer.self_attn.num_heads is odd\n",
      "  warnings.warn(f\"enable_nested_tensor is True, but self.use_nested_tensor is False because {why_not_sparsity_fast_path}\")\n"
     ]
    }
   ],
   "source": [
    "policy = MultiPeriodConvAttentionNetwork(num_stocks=NUM_ASSETS,\n",
    "                                         num_features=NUM_FEATURES,\n",
    "                                         W=N,\n",
    "                                         T=T)"
   ]
  },
  {
   "cell_type": "code",
   "execution_count": 17,
   "metadata": {},
   "outputs": [
    {
     "data": {
      "text/plain": [
       "<All keys matched successfully>"
      ]
     },
     "execution_count": 17,
     "metadata": {},
     "output_type": "execute_result"
    }
   ],
   "source": [
    "policy.load_state_dict(torch.load(f\"models/policy_{experiment_type}.pt\"))"
   ]
  },
  {
   "cell_type": "code",
   "execution_count": 18,
   "metadata": {},
   "outputs": [
    {
     "name": "stdout",
     "output_type": "stream",
     "text": [
      "=================================\n",
      "Initial portfolio value:100000\n",
      "Final portfolio value: 521720.7588913927\n",
      "Final accumulative portfolio value: 5.217207588913927\n",
      "Maximum DrawDown: -0.3849620275068073\n",
      "Sharpe ratio: 5.600555905248296\n",
      "=================================\n"
     ]
    }
   ],
   "source": [
    "DRLAgent.DRL_validation(model=model, test_env=test_environment, policy=policy)"
   ]
  },
  {
   "cell_type": "code",
   "execution_count": 19,
   "metadata": {},
   "outputs": [],
   "source": [
    "MEIIE_results[\"test\"][\"value\"] = test_environment._asset_memory[\"final\"]"
   ]
  },
  {
   "cell_type": "code",
   "execution_count": 20,
   "metadata": {},
   "outputs": [
    {
     "data": {
      "text/plain": [
       "70"
      ]
     },
     "execution_count": 20,
     "metadata": {},
     "output_type": "execute_result"
    }
   ],
   "source": [
    "drl_portfolio_performance = test_environment._asset_memory[\"final\"][1:]\n",
    "len(drl_portfolio_performance)"
   ]
  },
  {
   "cell_type": "code",
   "execution_count": 21,
   "metadata": {},
   "outputs": [],
   "source": [
    "drl_portfolio_performance = [(x/100000)-1 for x in drl_portfolio_performance]"
   ]
  },
  {
   "cell_type": "code",
   "execution_count": 22,
   "metadata": {},
   "outputs": [],
   "source": [
    "performance_dataset = pd.read_csv(\"data/processed/performances_sp100.csv\", index_col=0)"
   ]
  },
  {
   "cell_type": "code",
   "execution_count": 23,
   "metadata": {},
   "outputs": [],
   "source": [
    "performance_dataset[\"DRL_HYBRID_TRANSFORMER\"] = drl_portfolio_performance"
   ]
  },
  {
   "cell_type": "code",
   "execution_count": 24,
   "metadata": {},
   "outputs": [],
   "source": [
    "performance_dataset.to_csv(\"data/processed/performances_sp100.csv\")"
   ]
  },
  {
   "cell_type": "code",
   "execution_count": null,
   "metadata": {},
   "outputs": [],
   "source": []
  },
  {
   "cell_type": "code",
   "execution_count": null,
   "metadata": {},
   "outputs": [],
   "source": []
  }
 ],
 "metadata": {
  "kernelspec": {
   "display_name": "Python 3",
   "language": "python",
   "name": "python3"
  },
  "language_info": {
   "codemirror_mode": {
    "name": "ipython",
    "version": 3
   },
   "file_extension": ".py",
   "mimetype": "text/x-python",
   "name": "python",
   "nbconvert_exporter": "python",
   "pygments_lexer": "ipython3",
   "version": "3.12.3"
  }
 },
 "nbformat": 4,
 "nbformat_minor": 2
}
