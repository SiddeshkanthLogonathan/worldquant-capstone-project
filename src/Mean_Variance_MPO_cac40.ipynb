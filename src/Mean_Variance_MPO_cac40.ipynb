{
 "cells": [
  {
   "cell_type": "code",
   "execution_count": 1,
   "metadata": {},
   "outputs": [],
   "source": [
    "import yfinance as yf\n",
    "import pandas as pd\n",
    "import numpy as np\n",
    "from sklearn.model_selection import train_test_split\n",
    "from modules.benchmarks import MultiPeriodMeanVariance\n",
    "import cvxpy as cp\n",
    "import matplotlib.pyplot as plt\n",
    "import seaborn as sns\n",
    "import json\n",
    "sns.set()"
   ]
  },
  {
   "cell_type": "code",
   "execution_count": 2,
   "metadata": {},
   "outputs": [],
   "source": [
    "config_file_name = \"config.json\"\n",
    "with open(config_file_name, \"r\") as jsonfile:\n",
    "    config_data = json.load(jsonfile)"
   ]
  },
  {
   "cell_type": "code",
   "execution_count": null,
   "metadata": {},
   "outputs": [],
   "source": [
    "cac40 = config_data[\"tickers\"][\"Europe\"][\"CAC_40\"]\n",
    "NUM_ASSETS = len(cac40)\n",
    "len(cac40)"
   ]
  },
  {
   "cell_type": "code",
   "execution_count": null,
   "metadata": {},
   "outputs": [],
   "source": [
    "start_date = config_data[\"timeframe\"][\"cac40\"][\"start_date\"]\n",
    "end_date = config_data[\"timeframe\"][\"cac40\"][\"end_date\"]\n",
    "data_interval = config_data[\"data_interval\"]\n",
    "test_ratio = config_data[\"train_test_ratio\"]\n",
    "random_seed = config_data[\"random_state_seed\"]"
   ]
  },
  {
   "cell_type": "code",
   "execution_count": null,
   "metadata": {},
   "outputs": [],
   "source": [
    "dataset = yf.download(cac40, \n",
    "                      start=start_date, \n",
    "                      end=end_date,\n",
    "                      interval=data_interval)['Adj Close']\n",
    "dataset.to_csv(\"data/raw/cac40_stocks_price.csv\")\n",
    "dataset_price_change = dataset.pct_change().fillna(0)\n",
    "dataset_return = dataset/dataset.shift(1).fillna(1)"
   ]
  },
  {
   "cell_type": "code",
   "execution_count": null,
   "metadata": {},
   "outputs": [],
   "source": [
    "NUM_ASSETS = len(dataset.columns.unique().tolist())"
   ]
  },
  {
   "cell_type": "code",
   "execution_count": null,
   "metadata": {},
   "outputs": [],
   "source": [
    "_, test_df = train_test_split(dataset_price_change, test_size=test_ratio, shuffle=False, random_state=random_seed)\n",
    "len(test_df)"
   ]
  },
  {
   "cell_type": "code",
   "execution_count": null,
   "metadata": {},
   "outputs": [],
   "source": [
    "lookback_window = config_data[\"lookback_window\"] # W\n",
    "multi_step_horizon = config_data[\"multi_step_horizon\"] # T\n",
    "lookback_window, multi_step_horizon"
   ]
  },
  {
   "cell_type": "code",
   "execution_count": null,
   "metadata": {},
   "outputs": [],
   "source": [
    "test_df_cumulative_return = dataset_return.loc[test_df.index,:]"
   ]
  },
  {
   "cell_type": "code",
   "execution_count": null,
   "metadata": {},
   "outputs": [],
   "source": [
    "X_test = []\n",
    "for i in range(len(test_df.values)-lookback_window):\n",
    "    Sigmas = []\n",
    "    mu = []\n",
    "    for j in range(multi_step_horizon):\n",
    "        cov_matrix_j = test_df.iloc[i+j:i+j+lookback_window-multi_step_horizon].cov().values\n",
    "        mu_j = test_df.iloc[i+j:i+j+lookback_window-multi_step_horizon].mean(0).values\n",
    "        Sigmas.append(cov_matrix_j)\n",
    "        mu.append(mu_j)\n",
    "    hist = test_df_cumulative_return.iloc[i:i+lookback_window]\n",
    "    pred = test_df_cumulative_return.iloc[i+lookback_window:i+lookback_window+multi_step_horizon]\n",
    "    X_test.append([hist, np.stack(mu), np.stack(Sigmas), pred])\n",
    "\n",
    "len(X_test)"
   ]
  },
  {
   "cell_type": "code",
   "execution_count": null,
   "metadata": {},
   "outputs": [],
   "source": [
    "mean_variance_mpo = MultiPeriodMeanVariance(\n",
    "    num_assets=NUM_ASSETS,\n",
    "    multi_period_step=multi_step_horizon,\n",
    "    min_individual_allocation=0.001,\n",
    "    max_individual_allocation=0.4,\n",
    "    risk_aversion_coefficient=0.5,\n",
    "    trade_cost=0.0025,\n",
    "    holding_cost=0\n",
    ")"
   ]
  },
  {
   "cell_type": "code",
   "execution_count": null,
   "metadata": {},
   "outputs": [],
   "source": [
    "result_mv = []\n",
    "for hist, mu, Sigma, pred in X_test:\n",
    "   if len(pred) < multi_step_horizon:\n",
    "      continue\n",
    "   mv_opt_weights = mean_variance_mpo(mu, Sigma)\n",
    "   portfolio_value = (mv_opt_weights*pred).sum(1).prod()\n",
    "   result_mv.append(portfolio_value)"
   ]
  },
  {
   "cell_type": "code",
   "execution_count": null,
   "metadata": {},
   "outputs": [],
   "source": [
    "result_mv = pd.Series(result_mv, index=test_df_cumulative_return[-len(result_mv):].index)\n",
    "result_mv = result_mv.pct_change().fillna(0).cumsum()"
   ]
  },
  {
   "cell_type": "code",
   "execution_count": null,
   "metadata": {},
   "outputs": [],
   "source": [
    "cac40_etf_ticker = \"^FCHI\"\n",
    "cac40_index = yf.download(cac40_etf_ticker, \n",
    "                        start=start_date, \n",
    "                        end=end_date,\n",
    "                        interval=data_interval)['Adj Close']\n",
    "cac40_index = cac40_index.pct_change().fillna(0)"
   ]
  },
  {
   "cell_type": "code",
   "execution_count": null,
   "metadata": {},
   "outputs": [],
   "source": [
    "cac40_index = cac40_index[result_mv.index]\n",
    "cac40_index = np.cumsum(cac40_index)"
   ]
  },
  {
   "cell_type": "code",
   "execution_count": null,
   "metadata": {},
   "outputs": [],
   "source": [
    "plt.plot(result_mv.index, result_mv, label='Mu-Var')\n",
    "plt.plot(cac40_index.index, cac40_index, label='CAC-40')\n",
    "plt.title('Out-of-Sample Test')\n",
    "plt.xlabel(\"Date\")\n",
    "plt.ylabel(\"Return\")\n",
    "plt.legend()\n",
    "plt.title(\"MPO - Benchmark\")\n",
    "plt.show()"
   ]
  },
  {
   "cell_type": "code",
   "execution_count": null,
   "metadata": {},
   "outputs": [],
   "source": [
    "result_mv.name = \"MV\"\n",
    "cac40_index.name = \"CAC40\"\n",
    "output_filename = \"performances_cac40\""
   ]
  },
  {
   "cell_type": "code",
   "execution_count": null,
   "metadata": {},
   "outputs": [],
   "source": [
    "save_df = pd.DataFrame()\n",
    "save_df[\"CAC40\"] = cac40_index\n",
    "save_df[\"MV\"] = result_mv"
   ]
  },
  {
   "cell_type": "code",
   "execution_count": null,
   "metadata": {},
   "outputs": [],
   "source": [
    "save_df.to_csv(f\"data/processed/{output_filename}.csv\")"
   ]
  },
  {
   "cell_type": "code",
   "execution_count": null,
   "metadata": {},
   "outputs": [],
   "source": []
  }
 ],
 "metadata": {
  "kernelspec": {
   "display_name": "Python 3",
   "language": "python",
   "name": "python3"
  },
  "language_info": {
   "codemirror_mode": {
    "name": "ipython",
    "version": 3
   },
   "file_extension": ".py",
   "mimetype": "text/x-python",
   "name": "python",
   "nbconvert_exporter": "python",
   "pygments_lexer": "ipython3",
   "version": "3.12.3"
  }
 },
 "nbformat": 4,
 "nbformat_minor": 2
}
