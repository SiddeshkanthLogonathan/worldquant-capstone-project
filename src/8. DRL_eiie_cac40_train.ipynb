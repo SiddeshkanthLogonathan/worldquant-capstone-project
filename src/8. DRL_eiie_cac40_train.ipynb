{
 "cells": [
  {
   "cell_type": "markdown",
   "metadata": {},
   "source": [
    "In this Notebook, we will train a DRL Agent using an multi-period EIIE model as a policy function for the French stock market. The evaluation and performance including the agent's actions are displayed more explicity in the notebook."
   ]
  },
  {
   "cell_type": "markdown",
   "metadata": {},
   "source": [
    "## 1. Importing Libraries"
   ]
  },
  {
   "cell_type": "code",
   "execution_count": 1,
   "metadata": {},
   "outputs": [],
   "source": [
    "import yfinance as yf\n",
    "import pandas as pd\n",
    "import seaborn as sns\n",
    "from sklearn.model_selection import train_test_split\n",
    "from modules.scalers import GroupByScaler\n",
    "from sklearn.preprocessing import MaxAbsScaler\n",
    "import json\n",
    "import torch\n",
    "\n",
    "from modules.environment import MultiPeriodPortfolioOptimizationEnv\n",
    "from modules.architectures import MultiPeriodEIIE\n",
    "from modules.models import DRLAgent\n",
    "\n",
    "sns.set()\n",
    "\n",
    "device = 'cuda:0' if torch.cuda.is_available() else 'cpu'"
   ]
  },
  {
   "cell_type": "markdown",
   "metadata": {},
   "source": [
    "## 2. Getting Config Data"
   ]
  },
  {
   "cell_type": "code",
   "execution_count": 2,
   "metadata": {},
   "outputs": [],
   "source": [
    "config_file_name = \"config.json\"\n",
    "with open(config_file_name, \"r\") as jsonfile:\n",
    "    config_data = json.load(jsonfile)"
   ]
  },
  {
   "cell_type": "code",
   "execution_count": 3,
   "metadata": {},
   "outputs": [
    {
     "data": {
      "text/plain": [
       "40"
      ]
     },
     "execution_count": 3,
     "metadata": {},
     "output_type": "execute_result"
    }
   ],
   "source": [
    "cac40 = config_data[\"tickers\"][\"Europe\"][\"CAC_40\"]\n",
    "NUM_ASSETS = len(cac40)\n",
    "len(cac40)"
   ]
  },
  {
   "cell_type": "code",
   "execution_count": 4,
   "metadata": {},
   "outputs": [],
   "source": [
    "start_date = config_data[\"timeframe\"][\"cac40\"][\"start_date\"]\n",
    "end_date = config_data[\"timeframe\"][\"cac40\"][\"end_date\"]\n",
    "data_interval = config_data[\"data_interval\"]\n",
    "test_ratio = config_data[\"train_test_ratio\"]\n",
    "random_seed = config_data[\"random_state_seed\"]"
   ]
  },
  {
   "cell_type": "markdown",
   "metadata": {},
   "source": [
    "## 3. Data Retrieval"
   ]
  },
  {
   "cell_type": "code",
   "execution_count": 5,
   "metadata": {},
   "outputs": [
    {
     "name": "stderr",
     "output_type": "stream",
     "text": [
      "[*********************100%%**********************]  40 of 40 completed\n",
      "\n",
      "2 Failed downloads:\n",
      "['STM.PA', 'STLA.PA']: YFTzMissingError('$%ticker%: possibly delisted; No timezone found')\n",
      "/var/folders/02/rmgfx9wj0s99nn4tzfthtrnc0000gn/T/ipykernel_34056/749921926.py:3: FutureWarning: DataFrame.fillna with 'method' is deprecated and will raise in a future version. Use obj.ffill() or obj.bfill() instead.\n",
      "  portfolio_raw_df.fillna(method=\"bfill\", inplace=True)\n",
      "/var/folders/02/rmgfx9wj0s99nn4tzfthtrnc0000gn/T/ipykernel_34056/749921926.py:4: FutureWarning: The previous implementation of stack is deprecated and will be removed in a future version of pandas. See the What's New notes for pandas 2.1.0 for details. Specify future_stack=True to adopt the new implementation and silence this warning.\n",
      "  portfolio_raw_df = portfolio_raw_df.stack(level=1).rename_axis([\"Date\", \"Ticker\"]).reset_index(level=1)\n"
     ]
    }
   ],
   "source": [
    "portfolio_raw_df = yf.download(tickers=cac40, start=start_date, end=end_date, interval=data_interval)\n",
    "\n",
    "portfolio_raw_df.fillna(method=\"bfill\", inplace=True)\n",
    "portfolio_raw_df = portfolio_raw_df.stack(level=1).rename_axis([\"Date\", \"Ticker\"]).reset_index(level=1)\n",
    "portfolio_raw_df = portfolio_raw_df.drop(\"Adj Close\", axis=1)\n",
    "portfolio_raw_df.columns.name = None\n",
    "portfolio_raw_df = portfolio_raw_df.reset_index()\n",
    "portfolio_raw_df.Date = portfolio_raw_df.Date.astype(str)\n",
    "portfolio_raw_df.columns = [\"date\", \"tic\", \"close\", \"high\", \"low\", \"open\", \"volume\"]\n",
    "portfolio_raw_df = portfolio_raw_df[[\"date\", \"tic\", \"close\", \"high\", \"low\", \"volume\"]]\n",
    "\n",
    "df_portfolio_raw_train, df_portfolio_raw_test = train_test_split(portfolio_raw_df, test_size=test_ratio, shuffle=False, random_state=random_seed)\n",
    "df_portfolio_train = GroupByScaler(by=\"tic\", scaler=MaxAbsScaler).fit_transform(df_portfolio_raw_train)\n",
    "df_portfolio_test = GroupByScaler(by=\"tic\", scaler=MaxAbsScaler).fit_transform(df_portfolio_raw_test)\n"
   ]
  },
  {
   "cell_type": "markdown",
   "metadata": {},
   "source": [
    "## 4. DRL Environment\n",
    "### 4.1 Hyperparameter selection"
   ]
  },
  {
   "cell_type": "code",
   "execution_count": 6,
   "metadata": {},
   "outputs": [
    {
     "data": {
      "text/plain": [
       "(24, 3)"
      ]
     },
     "execution_count": 6,
     "metadata": {},
     "output_type": "execute_result"
    }
   ],
   "source": [
    "# SETTING HYPERPARAMETERS\n",
    "FEATURES = [\"close\", \"high\", \"low\", \"volume\"]\n",
    "N = config_data[\"lookback_window\"]\n",
    "T = config_data[\"multi_step_horizon\"]\n",
    "NUM_FEATURES = len(FEATURES)\n",
    "experiment_type = \"EIIE_CAC40\" \n",
    "NUM_ASSETS = len(portfolio_raw_df.tic.unique().tolist())\n",
    "NUM_ASSETS\n",
    "N, T"
   ]
  },
  {
   "cell_type": "markdown",
   "metadata": {},
   "source": [
    "### 4.2 Train Environment Initialization"
   ]
  },
  {
   "cell_type": "code",
   "execution_count": 7,
   "metadata": {},
   "outputs": [],
   "source": [
    "train_environment = MultiPeriodPortfolioOptimizationEnv(\n",
    "    df_portfolio_train,\n",
    "    initial_amount=100000,\n",
    "    comission_fee_pct=0.0025,\n",
    "    time_window=N,\n",
    "    multi_period_horizon=T,\n",
    "    features=FEATURES,\n",
    "    normalize_df=None,\n",
    "    is_train_mode=True,\n",
    "    experiment_type=experiment_type\n",
    ")"
   ]
  },
  {
   "cell_type": "markdown",
   "metadata": {},
   "source": [
    "### 4.3 Model Parameters"
   ]
  },
  {
   "cell_type": "code",
   "execution_count": 8,
   "metadata": {},
   "outputs": [],
   "source": [
    "# set PolicyGradient parameters\n",
    "model_kwargs = {\n",
    "    \"lr\": 0.0001,\n",
    "    \"policy\": MultiPeriodEIIE,\n",
    "    \"multi_period_horizon\": T\n",
    "}\n",
    "\n",
    "# here, we can set EIIE's parameters\n",
    "policy_kwargs = {\n",
    "    \"initial_features\": NUM_FEATURES,\n",
    "    \"k_size\": 5, # Size of Initial Kernel\n",
    "    \"time_window\": N,\n",
    "    \"prediction_horizon\": T\n",
    "}"
   ]
  },
  {
   "cell_type": "markdown",
   "metadata": {},
   "source": [
    "### 4.4 Agent initialization"
   ]
  },
  {
   "cell_type": "code",
   "execution_count": 9,
   "metadata": {},
   "outputs": [],
   "source": [
    "model = DRLAgent(train_environment).get_model(\"pg\", device, model_kwargs, policy_kwargs)"
   ]
  },
  {
   "cell_type": "markdown",
   "metadata": {},
   "source": [
    "## 5. Model Training"
   ]
  },
  {
   "cell_type": "code",
   "execution_count": 10,
   "metadata": {},
   "outputs": [
    {
     "name": "stdout",
     "output_type": "stream",
     "text": [
      "TRAINING AGENT.....\n"
     ]
    },
    {
     "name": "stderr",
     "output_type": "stream",
     "text": [
      "  0%|          | 0/35 [00:00<?, ?it/s]"
     ]
    },
    {
     "name": "stdout",
     "output_type": "stream",
     "text": [
      "=================================\n",
      "Initial portfolio value:100000\n",
      "Final portfolio value: 470174.5308365409\n",
      "Final accumulative portfolio value: 4.7017453083654095\n",
      "Maximum DrawDown: -0.8547502196390458\n",
      "Sharpe ratio: 0.6794521870342528\n",
      "=================================\n"
     ]
    },
    {
     "name": "stderr",
     "output_type": "stream",
     "text": [
      "  3%|▎         | 1/35 [00:01<01:03,  1.87s/it]"
     ]
    },
    {
     "name": "stdout",
     "output_type": "stream",
     "text": [
      "=================================\n",
      "Initial portfolio value:100000\n",
      "Final portfolio value: 470175.691557255\n",
      "Final accumulative portfolio value: 4.70175691557255\n",
      "Maximum DrawDown: -0.8547501085033495\n",
      "Sharpe ratio: 0.679452938374466\n",
      "=================================\n"
     ]
    },
    {
     "name": "stderr",
     "output_type": "stream",
     "text": [
      "  6%|▌         | 2/35 [00:03<01:00,  1.85s/it]"
     ]
    },
    {
     "name": "stdout",
     "output_type": "stream",
     "text": [
      "=================================\n",
      "Initial portfolio value:100000\n",
      "Final portfolio value: 470176.9028256585\n",
      "Final accumulative portfolio value: 4.701769028256585\n",
      "Maximum DrawDown: -0.8547498866263292\n",
      "Sharpe ratio: 0.6794538404243219\n",
      "=================================\n"
     ]
    },
    {
     "name": "stderr",
     "output_type": "stream",
     "text": [
      "  9%|▊         | 3/35 [00:05<00:57,  1.80s/it]"
     ]
    },
    {
     "name": "stdout",
     "output_type": "stream",
     "text": [
      "=================================\n",
      "Initial portfolio value:100000\n",
      "Final portfolio value: 470177.75977890164\n",
      "Final accumulative portfolio value: 4.701777597789016\n",
      "Maximum DrawDown: -0.8547499830887488\n",
      "Sharpe ratio: 0.6794543766433937\n",
      "=================================\n"
     ]
    },
    {
     "name": "stderr",
     "output_type": "stream",
     "text": [
      " 11%|█▏        | 4/35 [00:07<00:54,  1.75s/it]"
     ]
    },
    {
     "name": "stdout",
     "output_type": "stream",
     "text": [
      "=================================\n",
      "Initial portfolio value:100000\n",
      "Final portfolio value: 470179.754502892\n",
      "Final accumulative portfolio value: 4.701797545028921\n",
      "Maximum DrawDown: -0.854749676453437\n",
      "Sharpe ratio: 0.6794556912177938\n",
      "=================================\n"
     ]
    },
    {
     "name": "stderr",
     "output_type": "stream",
     "text": [
      " 14%|█▍        | 5/35 [00:08<00:51,  1.72s/it]"
     ]
    },
    {
     "name": "stdout",
     "output_type": "stream",
     "text": [
      "=================================\n",
      "Initial portfolio value:100000\n",
      "Final portfolio value: 470180.783584537\n",
      "Final accumulative portfolio value: 4.701807835845369\n",
      "Maximum DrawDown: -0.854749687889572\n",
      "Sharpe ratio: 0.6794564293246242\n",
      "=================================\n"
     ]
    },
    {
     "name": "stderr",
     "output_type": "stream",
     "text": [
      " 17%|█▋        | 6/35 [00:10<00:49,  1.70s/it]"
     ]
    },
    {
     "name": "stdout",
     "output_type": "stream",
     "text": [
      "=================================\n",
      "Initial portfolio value:100000\n",
      "Final portfolio value: 470182.08962572593\n",
      "Final accumulative portfolio value: 4.701820896257259\n",
      "Maximum DrawDown: -0.8547497379474577\n",
      "Sharpe ratio: 0.679457223648087\n",
      "=================================\n"
     ]
    },
    {
     "name": "stderr",
     "output_type": "stream",
     "text": [
      " 20%|██        | 7/35 [00:12<00:47,  1.70s/it]"
     ]
    },
    {
     "name": "stdout",
     "output_type": "stream",
     "text": [
      "=================================\n",
      "Initial portfolio value:100000\n",
      "Final portfolio value: 470184.4726587129\n",
      "Final accumulative portfolio value: 4.701844726587129\n",
      "Maximum DrawDown: -0.8547494075399471\n",
      "Sharpe ratio: 0.679458961387841\n",
      "=================================\n"
     ]
    },
    {
     "name": "stderr",
     "output_type": "stream",
     "text": [
      " 23%|██▎       | 8/35 [00:13<00:46,  1.72s/it]"
     ]
    },
    {
     "name": "stdout",
     "output_type": "stream",
     "text": [
      "=================================\n",
      "Initial portfolio value:100000\n",
      "Final portfolio value: 470185.00698163314\n",
      "Final accumulative portfolio value: 4.701850069816332\n",
      "Maximum DrawDown: -0.8547494360332426\n",
      "Sharpe ratio: 0.6794592437882919\n",
      "=================================\n"
     ]
    },
    {
     "name": "stderr",
     "output_type": "stream",
     "text": [
      " 26%|██▌       | 9/35 [00:15<00:44,  1.72s/it]"
     ]
    },
    {
     "name": "stdout",
     "output_type": "stream",
     "text": [
      "=================================\n",
      "Initial portfolio value:100000\n",
      "Final portfolio value: 470186.5219218808\n",
      "Final accumulative portfolio value: 4.701865219218808\n",
      "Maximum DrawDown: -0.8547493951497165\n",
      "Sharpe ratio: 0.6794603079231447\n",
      "=================================\n"
     ]
    },
    {
     "name": "stderr",
     "output_type": "stream",
     "text": [
      " 29%|██▊       | 10/35 [00:17<00:42,  1.70s/it]"
     ]
    },
    {
     "name": "stdout",
     "output_type": "stream",
     "text": [
      "=================================\n",
      "Initial portfolio value:100000\n",
      "Final portfolio value: 470187.3639092676\n",
      "Final accumulative portfolio value: 4.701873639092676\n",
      "Maximum DrawDown: -0.8547494122707499\n",
      "Sharpe ratio: 0.6794607297751574\n",
      "=================================\n"
     ]
    },
    {
     "name": "stderr",
     "output_type": "stream",
     "text": [
      " 31%|███▏      | 11/35 [00:19<00:40,  1.71s/it]"
     ]
    },
    {
     "name": "stdout",
     "output_type": "stream",
     "text": [
      "=================================\n",
      "Initial portfolio value:100000\n",
      "Final portfolio value: 470188.490999544\n",
      "Final accumulative portfolio value: 4.70188490999544\n",
      "Maximum DrawDown: -0.854749271594879\n",
      "Sharpe ratio: 0.679461566003987\n",
      "=================================\n"
     ]
    },
    {
     "name": "stderr",
     "output_type": "stream",
     "text": [
      " 34%|███▍      | 12/35 [00:20<00:38,  1.69s/it]"
     ]
    },
    {
     "name": "stdout",
     "output_type": "stream",
     "text": [
      "=================================\n",
      "Initial portfolio value:100000\n",
      "Final portfolio value: 470190.1293198902\n",
      "Final accumulative portfolio value: 4.701901293198902\n",
      "Maximum DrawDown: -0.854748982005431\n",
      "Sharpe ratio: 0.6794627864687033\n",
      "=================================\n"
     ]
    },
    {
     "name": "stderr",
     "output_type": "stream",
     "text": [
      " 37%|███▋      | 13/35 [00:22<00:37,  1.68s/it]"
     ]
    },
    {
     "name": "stdout",
     "output_type": "stream",
     "text": [
      "=================================\n",
      "Initial portfolio value:100000\n",
      "Final portfolio value: 470189.67208341835\n",
      "Final accumulative portfolio value: 4.701896720834183\n",
      "Maximum DrawDown: -0.8547491738215447\n",
      "Sharpe ratio: 0.679462292762853\n",
      "=================================\n"
     ]
    },
    {
     "name": "stderr",
     "output_type": "stream",
     "text": [
      " 40%|████      | 14/35 [00:24<00:35,  1.71s/it]"
     ]
    },
    {
     "name": "stdout",
     "output_type": "stream",
     "text": [
      "=================================\n",
      "Initial portfolio value:100000\n",
      "Final portfolio value: 470192.87457746576\n",
      "Final accumulative portfolio value: 4.701928745774658\n",
      "Maximum DrawDown: -0.8547489629974993\n",
      "Sharpe ratio: 0.6794645368069682\n",
      "=================================\n"
     ]
    },
    {
     "name": "stderr",
     "output_type": "stream",
     "text": [
      " 43%|████▎     | 15/35 [00:25<00:33,  1.69s/it]"
     ]
    },
    {
     "name": "stdout",
     "output_type": "stream",
     "text": [
      "=================================\n",
      "Initial portfolio value:100000\n",
      "Final portfolio value: 470193.5009181985\n",
      "Final accumulative portfolio value: 4.701935009181985\n",
      "Maximum DrawDown: -0.8547488163857404\n",
      "Sharpe ratio: 0.6794649077538021\n",
      "=================================\n"
     ]
    },
    {
     "name": "stderr",
     "output_type": "stream",
     "text": [
      " 46%|████▌     | 16/35 [00:27<00:32,  1.68s/it]"
     ]
    },
    {
     "name": "stdout",
     "output_type": "stream",
     "text": [
      "=================================\n",
      "Initial portfolio value:100000\n",
      "Final portfolio value: 470193.2833606091\n",
      "Final accumulative portfolio value: 4.701932833606091\n",
      "Maximum DrawDown: -0.8547487993291191\n",
      "Sharpe ratio: 0.6794646592219313\n",
      "=================================\n"
     ]
    },
    {
     "name": "stderr",
     "output_type": "stream",
     "text": [
      " 49%|████▊     | 17/35 [00:29<00:30,  1.68s/it]"
     ]
    },
    {
     "name": "stdout",
     "output_type": "stream",
     "text": [
      "=================================\n",
      "Initial portfolio value:100000\n",
      "Final portfolio value: 470194.83824589255\n",
      "Final accumulative portfolio value: 4.701948382458926\n",
      "Maximum DrawDown: -0.8547487385384761\n",
      "Sharpe ratio: 0.6794656629586137\n",
      "=================================\n"
     ]
    },
    {
     "name": "stderr",
     "output_type": "stream",
     "text": [
      " 51%|█████▏    | 18/35 [00:30<00:28,  1.67s/it]"
     ]
    },
    {
     "name": "stdout",
     "output_type": "stream",
     "text": [
      "=================================\n",
      "Initial portfolio value:100000\n",
      "Final portfolio value: 470196.33979520714\n",
      "Final accumulative portfolio value: 4.701963397952071\n",
      "Maximum DrawDown: -0.8547487103707323\n",
      "Sharpe ratio: 0.6794666510390033\n",
      "=================================\n"
     ]
    },
    {
     "name": "stderr",
     "output_type": "stream",
     "text": [
      " 54%|█████▍    | 19/35 [00:32<00:26,  1.67s/it]"
     ]
    },
    {
     "name": "stdout",
     "output_type": "stream",
     "text": [
      "=================================\n",
      "Initial portfolio value:100000\n",
      "Final portfolio value: 470198.67541831743\n",
      "Final accumulative portfolio value: 4.701986754183174\n",
      "Maximum DrawDown: -0.8547484478717188\n",
      "Sharpe ratio: 0.6794683196385736\n",
      "=================================\n"
     ]
    },
    {
     "name": "stderr",
     "output_type": "stream",
     "text": [
      " 57%|█████▋    | 20/35 [00:34<00:25,  1.67s/it]"
     ]
    },
    {
     "name": "stdout",
     "output_type": "stream",
     "text": [
      "=================================\n",
      "Initial portfolio value:100000\n",
      "Final portfolio value: 470199.15154682484\n",
      "Final accumulative portfolio value: 4.701991515468248\n",
      "Maximum DrawDown: -0.8547484348671377\n",
      "Sharpe ratio: 0.679468583940521\n",
      "=================================\n"
     ]
    },
    {
     "name": "stderr",
     "output_type": "stream",
     "text": [
      " 60%|██████    | 21/35 [00:35<00:23,  1.67s/it]"
     ]
    },
    {
     "name": "stdout",
     "output_type": "stream",
     "text": [
      "=================================\n",
      "Initial portfolio value:100000\n",
      "Final portfolio value: 470200.7807348306\n",
      "Final accumulative portfolio value: 4.702007807348306\n",
      "Maximum DrawDown: -0.8547482554819941\n",
      "Sharpe ratio: 0.6794695847309831\n",
      "=================================\n"
     ]
    },
    {
     "name": "stderr",
     "output_type": "stream",
     "text": [
      " 63%|██████▎   | 22/35 [00:37<00:22,  1.69s/it]"
     ]
    },
    {
     "name": "stdout",
     "output_type": "stream",
     "text": [
      "=================================\n",
      "Initial portfolio value:100000\n",
      "Final portfolio value: 470202.2533339868\n",
      "Final accumulative portfolio value: 4.702022533339868\n",
      "Maximum DrawDown: -0.8547481108443665\n",
      "Sharpe ratio: 0.6794706821323502\n",
      "=================================\n"
     ]
    },
    {
     "name": "stderr",
     "output_type": "stream",
     "text": [
      " 66%|██████▌   | 23/35 [00:39<00:20,  1.69s/it]"
     ]
    },
    {
     "name": "stdout",
     "output_type": "stream",
     "text": [
      "=================================\n",
      "Initial portfolio value:100000\n",
      "Final portfolio value: 470205.76950702735\n",
      "Final accumulative portfolio value: 4.702057695070273\n",
      "Maximum DrawDown: -0.8547478270207554\n",
      "Sharpe ratio: 0.6794730734852442\n",
      "=================================\n"
     ]
    },
    {
     "name": "stderr",
     "output_type": "stream",
     "text": [
      " 69%|██████▊   | 24/35 [00:40<00:18,  1.68s/it]"
     ]
    },
    {
     "name": "stdout",
     "output_type": "stream",
     "text": [
      "=================================\n",
      "Initial portfolio value:100000\n",
      "Final portfolio value: 470205.84404744837\n",
      "Final accumulative portfolio value: 4.702058440474484\n",
      "Maximum DrawDown: -0.8547477860727077\n",
      "Sharpe ratio: 0.6794729739981463\n",
      "=================================\n"
     ]
    },
    {
     "name": "stderr",
     "output_type": "stream",
     "text": [
      " 71%|███████▏  | 25/35 [00:42<00:16,  1.68s/it]"
     ]
    },
    {
     "name": "stdout",
     "output_type": "stream",
     "text": [
      "=================================\n",
      "Initial portfolio value:100000\n",
      "Final portfolio value: 470207.16490485455\n",
      "Final accumulative portfolio value: 4.702071649048546\n",
      "Maximum DrawDown: -0.8547477125223084\n",
      "Sharpe ratio: 0.6794738859169354\n",
      "=================================\n"
     ]
    },
    {
     "name": "stderr",
     "output_type": "stream",
     "text": [
      " 74%|███████▍  | 26/35 [00:44<00:15,  1.69s/it]"
     ]
    },
    {
     "name": "stdout",
     "output_type": "stream",
     "text": [
      "=================================\n",
      "Initial portfolio value:100000\n",
      "Final portfolio value: 470208.3010581753\n",
      "Final accumulative portfolio value: 4.702083010581752\n",
      "Maximum DrawDown: -0.8547476081184762\n",
      "Sharpe ratio: 0.6794746530988619\n",
      "=================================\n"
     ]
    },
    {
     "name": "stderr",
     "output_type": "stream",
     "text": [
      " 77%|███████▋  | 27/35 [00:45<00:13,  1.69s/it]"
     ]
    },
    {
     "name": "stdout",
     "output_type": "stream",
     "text": [
      "=================================\n",
      "Initial portfolio value:100000\n",
      "Final portfolio value: 470210.9178145706\n",
      "Final accumulative portfolio value: 4.702109178145706\n",
      "Maximum DrawDown: -0.8547473541726811\n",
      "Sharpe ratio: 0.6794764454678919\n",
      "=================================\n"
     ]
    },
    {
     "name": "stderr",
     "output_type": "stream",
     "text": [
      " 80%|████████  | 28/35 [00:47<00:11,  1.70s/it]"
     ]
    },
    {
     "name": "stdout",
     "output_type": "stream",
     "text": [
      "=================================\n",
      "Initial portfolio value:100000\n",
      "Final portfolio value: 470211.6553024191\n",
      "Final accumulative portfolio value: 4.702116553024191\n",
      "Maximum DrawDown: -0.8547472170979602\n",
      "Sharpe ratio: 0.6794770063158976\n",
      "=================================\n"
     ]
    },
    {
     "name": "stderr",
     "output_type": "stream",
     "text": [
      " 83%|████████▎ | 29/35 [00:49<00:10,  1.70s/it]"
     ]
    },
    {
     "name": "stdout",
     "output_type": "stream",
     "text": [
      "=================================\n",
      "Initial portfolio value:100000\n",
      "Final portfolio value: 470213.2707111876\n",
      "Final accumulative portfolio value: 4.702132707111876\n",
      "Maximum DrawDown: -0.854747195326707\n",
      "Sharpe ratio: 0.6794780010452538\n",
      "=================================\n"
     ]
    },
    {
     "name": "stderr",
     "output_type": "stream",
     "text": [
      " 86%|████████▌ | 30/35 [00:51<00:08,  1.69s/it]"
     ]
    },
    {
     "name": "stdout",
     "output_type": "stream",
     "text": [
      "=================================\n",
      "Initial portfolio value:100000\n",
      "Final portfolio value: 470215.0282605524\n",
      "Final accumulative portfolio value: 4.7021502826055235\n",
      "Maximum DrawDown: -0.8547468622314869\n",
      "Sharpe ratio: 0.6794792852223974\n",
      "=================================\n"
     ]
    },
    {
     "name": "stderr",
     "output_type": "stream",
     "text": [
      " 89%|████████▊ | 31/35 [00:52<00:06,  1.73s/it]"
     ]
    },
    {
     "name": "stdout",
     "output_type": "stream",
     "text": [
      "=================================\n",
      "Initial portfolio value:100000\n",
      "Final portfolio value: 470215.9118414701\n",
      "Final accumulative portfolio value: 4.702159118414701\n",
      "Maximum DrawDown: -0.8547467607343229\n",
      "Sharpe ratio: 0.6794798123535214\n",
      "=================================\n"
     ]
    },
    {
     "name": "stderr",
     "output_type": "stream",
     "text": [
      " 91%|█████████▏| 32/35 [00:54<00:05,  1.72s/it]"
     ]
    },
    {
     "name": "stdout",
     "output_type": "stream",
     "text": [
      "=================================\n",
      "Initial portfolio value:100000\n",
      "Final portfolio value: 470217.10686528974\n",
      "Final accumulative portfolio value: 4.7021710686528975\n",
      "Maximum DrawDown: -0.8547464941057793\n",
      "Sharpe ratio: 0.6794806556496324\n",
      "=================================\n"
     ]
    },
    {
     "name": "stderr",
     "output_type": "stream",
     "text": [
      " 94%|█████████▍| 33/35 [00:56<00:03,  1.72s/it]"
     ]
    },
    {
     "name": "stdout",
     "output_type": "stream",
     "text": [
      "=================================\n",
      "Initial portfolio value:100000\n",
      "Final portfolio value: 470218.50341730803\n",
      "Final accumulative portfolio value: 4.70218503417308\n",
      "Maximum DrawDown: -0.8547463015987639\n",
      "Sharpe ratio: 0.6794815000262666\n",
      "=================================\n"
     ]
    },
    {
     "name": "stderr",
     "output_type": "stream",
     "text": [
      " 97%|█████████▋| 34/35 [00:57<00:01,  1.71s/it]"
     ]
    },
    {
     "name": "stdout",
     "output_type": "stream",
     "text": [
      "=================================\n",
      "Initial portfolio value:100000\n",
      "Final portfolio value: 470220.85601290705\n",
      "Final accumulative portfolio value: 4.702208560129071\n",
      "Maximum DrawDown: -0.85474621839091\n",
      "Sharpe ratio: 0.6794831785461478\n",
      "=================================\n"
     ]
    },
    {
     "name": "stderr",
     "output_type": "stream",
     "text": [
      "100%|██████████| 35/35 [00:59<00:00,  1.70s/it]\n"
     ]
    },
    {
     "data": {
      "text/plain": [
       "<modules.algorithms.PolicyGradient at 0x2ad057c80>"
      ]
     },
     "execution_count": 10,
     "metadata": {},
     "output_type": "execute_result"
    }
   ],
   "source": [
    "print(\"TRAINING AGENT.....\")\n",
    "DRLAgent.train_model(model, episodes=35)"
   ]
  },
  {
   "cell_type": "code",
   "execution_count": 11,
   "metadata": {},
   "outputs": [
    {
     "name": "stdout",
     "output_type": "stream",
     "text": [
      "PERSISTING MODEL.....\n"
     ]
    }
   ],
   "source": [
    "print(\"PERSISTING MODEL.....\")\n",
    "torch.save(model.train_policy.state_dict(), f\"models/policy_{experiment_type}.pt\")"
   ]
  },
  {
   "cell_type": "code",
   "execution_count": 12,
   "metadata": {},
   "outputs": [
    {
     "name": "stdout",
     "output_type": "stream",
     "text": [
      "TESTING.....\n"
     ]
    }
   ],
   "source": [
    "print(\"TESTING.....\")\n",
    "MEIIE_results = {\n",
    "    \"training\": train_environment._asset_memory[\"final\"],\n",
    "    \"test\": {}\n",
    "}"
   ]
  },
  {
   "cell_type": "markdown",
   "metadata": {},
   "source": [
    "## 6. Model Evaluation"
   ]
  },
  {
   "cell_type": "code",
   "execution_count": 13,
   "metadata": {},
   "outputs": [],
   "source": [
    "test_environment = MultiPeriodPortfolioOptimizationEnv(\n",
    "    df_portfolio_test,\n",
    "    initial_amount=100000,\n",
    "    comission_fee_pct=0.0025,\n",
    "    time_window=N,\n",
    "    multi_period_horizon=T,\n",
    "    features=FEATURES,\n",
    "    normalize_df=None,\n",
    "    is_train_mode=False,\n",
    "    experiment_type=experiment_type\n",
    ")"
   ]
  },
  {
   "cell_type": "code",
   "execution_count": 14,
   "metadata": {},
   "outputs": [],
   "source": [
    "policy = MultiPeriodEIIE(\n",
    "    initial_features=NUM_FEATURES,\n",
    "    k_size=5,\n",
    "    time_window=N,\n",
    "    prediction_horizon=T\n",
    ")"
   ]
  },
  {
   "cell_type": "code",
   "execution_count": 15,
   "metadata": {},
   "outputs": [
    {
     "data": {
      "text/plain": [
       "<All keys matched successfully>"
      ]
     },
     "execution_count": 15,
     "metadata": {},
     "output_type": "execute_result"
    }
   ],
   "source": [
    "policy.load_state_dict(torch.load(f\"models/policy_{experiment_type}.pt\"))"
   ]
  },
  {
   "cell_type": "code",
   "execution_count": 16,
   "metadata": {},
   "outputs": [
    {
     "name": "stdout",
     "output_type": "stream",
     "text": [
      "=================================\n",
      "Initial portfolio value:100000\n",
      "Final portfolio value: 272448.12123615056\n",
      "Final accumulative portfolio value: 2.7244812123615056\n",
      "Maximum DrawDown: -0.5261476749224261\n",
      "Sharpe ratio: 0.7533717145106762\n",
      "=================================\n"
     ]
    }
   ],
   "source": [
    "DRLAgent.DRL_validation(model=model, test_env=test_environment, policy=policy)"
   ]
  },
  {
   "cell_type": "markdown",
   "metadata": {},
   "source": [
    "## 7. Postprocessing"
   ]
  },
  {
   "cell_type": "code",
   "execution_count": 17,
   "metadata": {},
   "outputs": [],
   "source": [
    "MEIIE_results[\"test\"][\"value\"] = test_environment._asset_memory[\"final\"]"
   ]
  },
  {
   "cell_type": "code",
   "execution_count": 18,
   "metadata": {},
   "outputs": [
    {
     "data": {
      "text/plain": [
       "70"
      ]
     },
     "execution_count": 18,
     "metadata": {},
     "output_type": "execute_result"
    }
   ],
   "source": [
    "drl_portfolio_performance = test_environment._asset_memory[\"final\"][1:]\n",
    "len(drl_portfolio_performance)"
   ]
  },
  {
   "cell_type": "code",
   "execution_count": 19,
   "metadata": {},
   "outputs": [],
   "source": [
    "drl_portfolio_performance = [(x/100000) for x in drl_portfolio_performance]"
   ]
  },
  {
   "cell_type": "code",
   "execution_count": 20,
   "metadata": {},
   "outputs": [],
   "source": [
    "performance_dataset = pd.read_csv(\"data/processed/performances_cac40.csv\", index_col=0)"
   ]
  },
  {
   "cell_type": "code",
   "execution_count": 21,
   "metadata": {},
   "outputs": [],
   "source": [
    "performance_dataset[\"DRL_EIIE\"] = drl_portfolio_performance"
   ]
  },
  {
   "cell_type": "code",
   "execution_count": 22,
   "metadata": {},
   "outputs": [],
   "source": [
    "performance_dataset.to_csv(\"data/processed/performances_cac40.csv\")"
   ]
  },
  {
   "cell_type": "code",
   "execution_count": null,
   "metadata": {},
   "outputs": [],
   "source": []
  }
 ],
 "metadata": {
  "kernelspec": {
   "display_name": "Python 3",
   "language": "python",
   "name": "python3"
  },
  "language_info": {
   "codemirror_mode": {
    "name": "ipython",
    "version": 3
   },
   "file_extension": ".py",
   "mimetype": "text/x-python",
   "name": "python",
   "nbconvert_exporter": "python",
   "pygments_lexer": "ipython3",
   "version": "3.12.3"
  }
 },
 "nbformat": 4,
 "nbformat_minor": 2
}
