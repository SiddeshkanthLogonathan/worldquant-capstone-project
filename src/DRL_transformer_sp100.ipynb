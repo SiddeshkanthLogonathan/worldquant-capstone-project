{
 "cells": [
  {
   "cell_type": "code",
   "execution_count": 20,
   "metadata": {},
   "outputs": [],
   "source": [
    "import yfinance as yf\n",
    "import pandas as pd\n",
    "import seaborn as sns\n",
    "from sklearn.model_selection import train_test_split\n",
    "from modules.scalers import GroupByScaler\n",
    "from sklearn.preprocessing import MaxAbsScaler\n",
    "import json\n",
    "import torch\n",
    "\n",
    "from modules.environment import MultiPeriodPortfolioOptimizationEnv\n",
    "from modules.architectures import MultiPeriodAttentionNetwork\n",
    "from modules.models import DRLAgent\n",
    "\n",
    "sns.set()\n",
    "\n",
    "device = 'cuda:0' if torch.cuda.is_available() else 'cpu'"
   ]
  },
  {
   "cell_type": "code",
   "execution_count": 2,
   "metadata": {},
   "outputs": [],
   "source": [
    "config_file_name = \"config.json\"\n",
    "with open(config_file_name, \"r\") as jsonfile:\n",
    "    config_data = json.load(jsonfile)"
   ]
  },
  {
   "cell_type": "code",
   "execution_count": 3,
   "metadata": {},
   "outputs": [
    {
     "data": {
      "text/plain": [
       "101"
      ]
     },
     "execution_count": 3,
     "metadata": {},
     "output_type": "execute_result"
    }
   ],
   "source": [
    "sp_100 = config_data[\"tickers\"][\"America\"][\"SP100\"]\n",
    "NUM_ASSETS = len(sp_100)\n",
    "len(sp_100)"
   ]
  },
  {
   "cell_type": "code",
   "execution_count": 4,
   "metadata": {},
   "outputs": [],
   "source": [
    "start_date = config_data[\"timeframe\"][\"bull_market\"][\"start_date\"]\n",
    "end_date = config_data[\"timeframe\"][\"bull_market\"][\"end_date\"]\n",
    "data_interval = config_data[\"data_interval\"]\n",
    "test_ratio = config_data[\"train_test_ratio\"]\n",
    "random_seed = config_data[\"random_state_seed\"]"
   ]
  },
  {
   "cell_type": "code",
   "execution_count": 5,
   "metadata": {},
   "outputs": [
    {
     "name": "stderr",
     "output_type": "stream",
     "text": [
      "[*********************100%%**********************]  101 of 101 completed\n",
      "/var/folders/02/rmgfx9wj0s99nn4tzfthtrnc0000gn/T/ipykernel_14565/541920902.py:3: FutureWarning: DataFrame.fillna with 'method' is deprecated and will raise in a future version. Use obj.ffill() or obj.bfill() instead.\n",
      "  portfolio_raw_df.fillna(method=\"bfill\", inplace=True)\n",
      "/var/folders/02/rmgfx9wj0s99nn4tzfthtrnc0000gn/T/ipykernel_14565/541920902.py:4: FutureWarning: The previous implementation of stack is deprecated and will be removed in a future version of pandas. See the What's New notes for pandas 2.1.0 for details. Specify future_stack=True to adopt the new implementation and silence this warning.\n",
      "  portfolio_raw_df = portfolio_raw_df.stack(level=1).rename_axis([\"Date\", \"Ticker\"]).reset_index(level=1)\n"
     ]
    }
   ],
   "source": [
    "portfolio_raw_df = yf.download(tickers=sp_100, start=start_date, end=end_date, interval=data_interval)\n",
    "\n",
    "portfolio_raw_df.fillna(method=\"bfill\", inplace=True)\n",
    "portfolio_raw_df = portfolio_raw_df.stack(level=1).rename_axis([\"Date\", \"Ticker\"]).reset_index(level=1)\n",
    "portfolio_raw_df = portfolio_raw_df.drop(\"Adj Close\", axis=1)\n",
    "portfolio_raw_df.columns.name = None\n",
    "portfolio_raw_df = portfolio_raw_df.reset_index()\n",
    "portfolio_raw_df.Date = portfolio_raw_df.Date.astype(str)\n",
    "portfolio_raw_df.columns = [\"date\", \"tic\", \"close\", \"high\", \"low\", \"open\", \"volume\"]\n",
    "portfolio_raw_df = portfolio_raw_df[[\"date\", \"tic\", \"close\", \"high\", \"low\", \"volume\"]]\n",
    "\n",
    "df_portfolio_raw_train, df_portfolio_raw_test = train_test_split(portfolio_raw_df, test_size=test_ratio, shuffle=False, random_state=random_seed)\n",
    "df_portfolio_train = GroupByScaler(by=\"tic\", scaler=MaxAbsScaler).fit_transform(df_portfolio_raw_train)\n",
    "df_portfolio_test = GroupByScaler(by=\"tic\", scaler=MaxAbsScaler).fit_transform(df_portfolio_raw_test)\n"
   ]
  },
  {
   "cell_type": "code",
   "execution_count": 6,
   "metadata": {},
   "outputs": [
    {
     "data": {
      "text/plain": [
       "(24, 3)"
      ]
     },
     "execution_count": 6,
     "metadata": {},
     "output_type": "execute_result"
    }
   ],
   "source": [
    "# SETTING HYPERPARAMETERS\n",
    "FEATURES = [\"close\", \"high\", \"low\", \"volume\"]\n",
    "N = config_data[\"lookback_window\"]\n",
    "T = config_data[\"multi_step_horizon\"]\n",
    "NUM_FEATURES = len(FEATURES)\n",
    "experiment_type = \"TRANSFORMER\" \n",
    "N, T"
   ]
  },
  {
   "cell_type": "code",
   "execution_count": 7,
   "metadata": {},
   "outputs": [],
   "source": [
    "train_environment = MultiPeriodPortfolioOptimizationEnv(\n",
    "    df_portfolio_train,\n",
    "    initial_amount=100000,\n",
    "    comission_fee_pct=0.0025,\n",
    "    time_window=N,\n",
    "    multi_period_horizon=T,\n",
    "    features=FEATURES,\n",
    "    normalize_df=None,\n",
    "    is_train_mode=True,\n",
    "    experiment_type=experiment_type\n",
    ")"
   ]
  },
  {
   "cell_type": "code",
   "execution_count": 8,
   "metadata": {},
   "outputs": [],
   "source": [
    "# set PolicyGradient parameters\n",
    "model_kwargs = {\n",
    "    \"lr\": 0.001,\n",
    "    \"policy\": MultiPeriodAttentionNetwork,\n",
    "    \"multi_period_horizon\": T\n",
    "}\n",
    "\n",
    "# here, we can set EIIE's parameters\n",
    "policy_kwargs = {\n",
    "    \"num_features\": NUM_ASSETS*NUM_FEATURES,\n",
    "    \"num_stocks\": NUM_ASSETS,\n",
    "    \"num_head\": 4, # NUM-HEAD needs to be divisible by NUM-FEATURES\n",
    "    \"W\": N,\n",
    "    \"T\": T\n",
    "}"
   ]
  },
  {
   "cell_type": "code",
   "execution_count": 9,
   "metadata": {},
   "outputs": [],
   "source": [
    "model = DRLAgent(train_environment).get_model(\"pg\", device, model_kwargs, policy_kwargs)"
   ]
  },
  {
   "cell_type": "code",
   "execution_count": 10,
   "metadata": {},
   "outputs": [
    {
     "name": "stdout",
     "output_type": "stream",
     "text": [
      "TRAINING AGENT.....\n"
     ]
    },
    {
     "name": "stderr",
     "output_type": "stream",
     "text": [
      "  0%|          | 0/50 [00:00<?, ?it/s]"
     ]
    },
    {
     "name": "stdout",
     "output_type": "stream",
     "text": [
      "=================================\n",
      "Initial portfolio value:100000\n",
      "Final portfolio value: 2010126.891811095\n",
      "Final accumulative portfolio value: 20.10126891811095\n",
      "Maximum DrawDown: -0.7713247783607883\n",
      "Sharpe ratio: 5.845982196048796\n",
      "=================================\n"
     ]
    },
    {
     "name": "stderr",
     "output_type": "stream",
     "text": [
      "  2%|▏         | 1/50 [00:08<06:38,  8.12s/it]"
     ]
    },
    {
     "name": "stdout",
     "output_type": "stream",
     "text": [
      "=================================\n",
      "Initial portfolio value:100000\n",
      "Final portfolio value: 2152717.2933448763\n",
      "Final accumulative portfolio value: 21.527172933448764\n",
      "Maximum DrawDown: -0.7677209986917413\n",
      "Sharpe ratio: 5.966906627481941\n",
      "=================================\n"
     ]
    },
    {
     "name": "stderr",
     "output_type": "stream",
     "text": [
      "  4%|▍         | 2/50 [00:15<06:10,  7.72s/it]"
     ]
    },
    {
     "name": "stdout",
     "output_type": "stream",
     "text": [
      "=================================\n",
      "Initial portfolio value:100000\n",
      "Final portfolio value: 2225583.2672840697\n",
      "Final accumulative portfolio value: 22.255832672840697\n",
      "Maximum DrawDown: -0.7635210908222934\n",
      "Sharpe ratio: 6.0111124636997175\n",
      "=================================\n"
     ]
    },
    {
     "name": "stderr",
     "output_type": "stream",
     "text": [
      "  6%|▌         | 3/50 [00:23<06:00,  7.67s/it]"
     ]
    },
    {
     "name": "stdout",
     "output_type": "stream",
     "text": [
      "=================================\n",
      "Initial portfolio value:100000\n",
      "Final portfolio value: 2277628.3669322897\n",
      "Final accumulative portfolio value: 22.776283669322897\n",
      "Maximum DrawDown: -0.7646105203527713\n",
      "Sharpe ratio: 6.052593176919512\n",
      "=================================\n"
     ]
    },
    {
     "name": "stderr",
     "output_type": "stream",
     "text": [
      "  8%|▊         | 4/50 [00:30<05:50,  7.62s/it]"
     ]
    },
    {
     "name": "stdout",
     "output_type": "stream",
     "text": [
      "=================================\n",
      "Initial portfolio value:100000\n",
      "Final portfolio value: 2192420.495506166\n",
      "Final accumulative portfolio value: 21.92420495506166\n",
      "Maximum DrawDown: -0.765948851730387\n",
      "Sharpe ratio: 5.987588099974627\n",
      "=================================\n"
     ]
    },
    {
     "name": "stderr",
     "output_type": "stream",
     "text": [
      " 10%|█         | 5/50 [00:38<05:39,  7.55s/it]"
     ]
    },
    {
     "name": "stdout",
     "output_type": "stream",
     "text": [
      "=================================\n",
      "Initial portfolio value:100000\n",
      "Final portfolio value: 2168791.935322153\n",
      "Final accumulative portfolio value: 21.687919353221528\n",
      "Maximum DrawDown: -0.7647711488079116\n",
      "Sharpe ratio: 5.9856418764793915\n",
      "=================================\n"
     ]
    },
    {
     "name": "stderr",
     "output_type": "stream",
     "text": [
      " 12%|█▏        | 6/50 [00:45<05:30,  7.51s/it]"
     ]
    },
    {
     "name": "stdout",
     "output_type": "stream",
     "text": [
      "=================================\n",
      "Initial portfolio value:100000\n",
      "Final portfolio value: 2317015.6854374125\n",
      "Final accumulative portfolio value: 23.170156854374124\n",
      "Maximum DrawDown: -0.763003451212314\n",
      "Sharpe ratio: 6.0743918159267825\n",
      "=================================\n"
     ]
    },
    {
     "name": "stderr",
     "output_type": "stream",
     "text": [
      " 14%|█▍        | 7/50 [00:53<05:25,  7.57s/it]"
     ]
    },
    {
     "name": "stdout",
     "output_type": "stream",
     "text": [
      "=================================\n",
      "Initial portfolio value:100000\n",
      "Final portfolio value: 2280854.6106940773\n",
      "Final accumulative portfolio value: 22.808546106940774\n",
      "Maximum DrawDown: -0.7635354270390049\n",
      "Sharpe ratio: 6.031982030639431\n",
      "=================================\n"
     ]
    },
    {
     "name": "stderr",
     "output_type": "stream",
     "text": [
      " 16%|█▌        | 8/50 [01:00<05:16,  7.54s/it]"
     ]
    },
    {
     "name": "stdout",
     "output_type": "stream",
     "text": [
      "=================================\n",
      "Initial portfolio value:100000\n",
      "Final portfolio value: 2357205.185679713\n",
      "Final accumulative portfolio value: 23.572051856797128\n",
      "Maximum DrawDown: -0.7607250314869896\n",
      "Sharpe ratio: 6.1340235931420395\n",
      "=================================\n"
     ]
    },
    {
     "name": "stderr",
     "output_type": "stream",
     "text": [
      " 18%|█▊        | 9/50 [01:08<05:08,  7.52s/it]"
     ]
    },
    {
     "name": "stdout",
     "output_type": "stream",
     "text": [
      "=================================\n",
      "Initial portfolio value:100000\n",
      "Final portfolio value: 2216546.548173916\n",
      "Final accumulative portfolio value: 22.16546548173916\n",
      "Maximum DrawDown: -0.7630909660060059\n",
      "Sharpe ratio: 6.014674849371056\n",
      "=================================\n"
     ]
    },
    {
     "name": "stderr",
     "output_type": "stream",
     "text": [
      " 20%|██        | 10/50 [01:15<05:00,  7.51s/it]"
     ]
    },
    {
     "name": "stdout",
     "output_type": "stream",
     "text": [
      "=================================\n",
      "Initial portfolio value:100000\n",
      "Final portfolio value: 2312556.674371712\n",
      "Final accumulative portfolio value: 23.12556674371712\n",
      "Maximum DrawDown: -0.7640099680040681\n",
      "Sharpe ratio: 6.076001025960971\n",
      "=================================\n"
     ]
    },
    {
     "name": "stderr",
     "output_type": "stream",
     "text": [
      " 22%|██▏       | 11/50 [01:23<04:50,  7.46s/it]"
     ]
    },
    {
     "name": "stdout",
     "output_type": "stream",
     "text": [
      "=================================\n",
      "Initial portfolio value:100000\n",
      "Final portfolio value: 2360369.4767997344\n",
      "Final accumulative portfolio value: 23.603694767997343\n",
      "Maximum DrawDown: -0.7598691434349759\n",
      "Sharpe ratio: 6.100557543659547\n",
      "=================================\n"
     ]
    },
    {
     "name": "stderr",
     "output_type": "stream",
     "text": [
      " 24%|██▍       | 12/50 [01:30<04:46,  7.54s/it]"
     ]
    },
    {
     "name": "stdout",
     "output_type": "stream",
     "text": [
      "=================================\n",
      "Initial portfolio value:100000\n",
      "Final portfolio value: 2295492.9375007697\n",
      "Final accumulative portfolio value: 22.954929375007698\n",
      "Maximum DrawDown: -0.7593205941309846\n",
      "Sharpe ratio: 6.092405301254093\n",
      "=================================\n"
     ]
    },
    {
     "name": "stderr",
     "output_type": "stream",
     "text": [
      " 26%|██▌       | 13/50 [01:38<04:39,  7.54s/it]"
     ]
    },
    {
     "name": "stdout",
     "output_type": "stream",
     "text": [
      "=================================\n",
      "Initial portfolio value:100000\n",
      "Final portfolio value: 2274549.7650412982\n",
      "Final accumulative portfolio value: 22.745497650412982\n",
      "Maximum DrawDown: -0.7628119685112209\n",
      "Sharpe ratio: 6.052407906998949\n",
      "=================================\n"
     ]
    },
    {
     "name": "stderr",
     "output_type": "stream",
     "text": [
      " 28%|██▊       | 14/50 [01:45<04:31,  7.54s/it]"
     ]
    },
    {
     "name": "stdout",
     "output_type": "stream",
     "text": [
      "=================================\n",
      "Initial portfolio value:100000\n",
      "Final portfolio value: 2368462.36791896\n",
      "Final accumulative portfolio value: 23.6846236791896\n",
      "Maximum DrawDown: -0.7600777992343066\n",
      "Sharpe ratio: 6.109558203362293\n",
      "=================================\n"
     ]
    },
    {
     "name": "stderr",
     "output_type": "stream",
     "text": [
      " 30%|███       | 15/50 [01:53<04:23,  7.53s/it]"
     ]
    },
    {
     "name": "stdout",
     "output_type": "stream",
     "text": [
      "=================================\n",
      "Initial portfolio value:100000\n",
      "Final portfolio value: 2284928.000581688\n",
      "Final accumulative portfolio value: 22.849280005816876\n",
      "Maximum DrawDown: -0.7604876303071012\n",
      "Sharpe ratio: 6.063022686396913\n",
      "=================================\n"
     ]
    },
    {
     "name": "stderr",
     "output_type": "stream",
     "text": [
      " 32%|███▏      | 16/50 [02:00<04:15,  7.51s/it]"
     ]
    },
    {
     "name": "stdout",
     "output_type": "stream",
     "text": [
      "=================================\n",
      "Initial portfolio value:100000\n",
      "Final portfolio value: 2254931.727313006\n",
      "Final accumulative portfolio value: 22.549317273130058\n",
      "Maximum DrawDown: -0.7611796878351859\n",
      "Sharpe ratio: 6.0204810202613634\n",
      "=================================\n"
     ]
    },
    {
     "name": "stderr",
     "output_type": "stream",
     "text": [
      " 34%|███▍      | 17/50 [02:08<04:08,  7.53s/it]"
     ]
    },
    {
     "name": "stdout",
     "output_type": "stream",
     "text": [
      "=================================\n",
      "Initial portfolio value:100000\n",
      "Final portfolio value: 2296362.0745902318\n",
      "Final accumulative portfolio value: 22.96362074590232\n",
      "Maximum DrawDown: -0.7599847267130799\n",
      "Sharpe ratio: 6.074292811582122\n",
      "=================================\n"
     ]
    },
    {
     "name": "stderr",
     "output_type": "stream",
     "text": [
      " 36%|███▌      | 18/50 [02:16<04:07,  7.73s/it]"
     ]
    },
    {
     "name": "stdout",
     "output_type": "stream",
     "text": [
      "=================================\n",
      "Initial portfolio value:100000\n",
      "Final portfolio value: 2354048.7567171906\n",
      "Final accumulative portfolio value: 23.540487567171905\n",
      "Maximum DrawDown: -0.7611112235806373\n",
      "Sharpe ratio: 6.094651001140453\n",
      "=================================\n"
     ]
    },
    {
     "name": "stderr",
     "output_type": "stream",
     "text": [
      " 38%|███▊      | 19/50 [02:24<03:59,  7.73s/it]"
     ]
    },
    {
     "name": "stdout",
     "output_type": "stream",
     "text": [
      "=================================\n",
      "Initial portfolio value:100000\n",
      "Final portfolio value: 2372511.0706354263\n",
      "Final accumulative portfolio value: 23.725110706354265\n",
      "Maximum DrawDown: -0.7611650187848334\n",
      "Sharpe ratio: 6.1146239123091926\n",
      "=================================\n"
     ]
    },
    {
     "name": "stderr",
     "output_type": "stream",
     "text": [
      " 40%|████      | 20/50 [02:32<03:52,  7.74s/it]"
     ]
    },
    {
     "name": "stdout",
     "output_type": "stream",
     "text": [
      "=================================\n",
      "Initial portfolio value:100000\n",
      "Final portfolio value: 2289474.410815125\n",
      "Final accumulative portfolio value: 22.894744108151247\n",
      "Maximum DrawDown: -0.7590625648952075\n",
      "Sharpe ratio: 6.069090930114606\n",
      "=================================\n"
     ]
    },
    {
     "name": "stderr",
     "output_type": "stream",
     "text": [
      " 42%|████▏     | 21/50 [02:39<03:41,  7.65s/it]"
     ]
    },
    {
     "name": "stdout",
     "output_type": "stream",
     "text": [
      "=================================\n",
      "Initial portfolio value:100000\n",
      "Final portfolio value: 2447090.0510284267\n",
      "Final accumulative portfolio value: 24.470900510284267\n",
      "Maximum DrawDown: -0.7568925406831344\n",
      "Sharpe ratio: 6.1842020700217395\n",
      "=================================\n"
     ]
    },
    {
     "name": "stderr",
     "output_type": "stream",
     "text": [
      " 44%|████▍     | 22/50 [02:46<03:31,  7.55s/it]"
     ]
    },
    {
     "name": "stdout",
     "output_type": "stream",
     "text": [
      "=================================\n",
      "Initial portfolio value:100000\n",
      "Final portfolio value: 2251852.063075003\n",
      "Final accumulative portfolio value: 22.518520630750032\n",
      "Maximum DrawDown: -0.7585366356010974\n",
      "Sharpe ratio: 6.0284475974964105\n",
      "=================================\n"
     ]
    },
    {
     "name": "stderr",
     "output_type": "stream",
     "text": [
      " 46%|████▌     | 23/50 [02:54<03:21,  7.48s/it]"
     ]
    },
    {
     "name": "stdout",
     "output_type": "stream",
     "text": [
      "=================================\n",
      "Initial portfolio value:100000\n",
      "Final portfolio value: 2302998.365386207\n",
      "Final accumulative portfolio value: 23.02998365386207\n",
      "Maximum DrawDown: -0.7612047947600313\n",
      "Sharpe ratio: 6.0870155234556735\n",
      "=================================\n"
     ]
    },
    {
     "name": "stderr",
     "output_type": "stream",
     "text": [
      " 48%|████▊     | 24/50 [03:01<03:12,  7.42s/it]"
     ]
    },
    {
     "name": "stdout",
     "output_type": "stream",
     "text": [
      "=================================\n",
      "Initial portfolio value:100000\n",
      "Final portfolio value: 2378356.3418186936\n",
      "Final accumulative portfolio value: 23.783563418186937\n",
      "Maximum DrawDown: -0.7604858797364319\n",
      "Sharpe ratio: 6.119966071780363\n",
      "=================================\n"
     ]
    },
    {
     "name": "stderr",
     "output_type": "stream",
     "text": [
      " 50%|█████     | 25/50 [03:08<03:04,  7.39s/it]"
     ]
    },
    {
     "name": "stdout",
     "output_type": "stream",
     "text": [
      "=================================\n",
      "Initial portfolio value:100000\n",
      "Final portfolio value: 2239477.747708927\n",
      "Final accumulative portfolio value: 22.39477747708927\n",
      "Maximum DrawDown: -0.7608516732470818\n",
      "Sharpe ratio: 6.028030919569636\n",
      "=================================\n"
     ]
    },
    {
     "name": "stderr",
     "output_type": "stream",
     "text": [
      " 52%|█████▏    | 26/50 [03:16<02:58,  7.44s/it]"
     ]
    },
    {
     "name": "stdout",
     "output_type": "stream",
     "text": [
      "=================================\n",
      "Initial portfolio value:100000\n",
      "Final portfolio value: 2331967.419465346\n",
      "Final accumulative portfolio value: 23.31967419465346\n",
      "Maximum DrawDown: -0.7641534651902466\n",
      "Sharpe ratio: 6.08794605299797\n",
      "=================================\n"
     ]
    },
    {
     "name": "stderr",
     "output_type": "stream",
     "text": [
      " 54%|█████▍    | 27/50 [03:23<02:51,  7.45s/it]"
     ]
    },
    {
     "name": "stdout",
     "output_type": "stream",
     "text": [
      "=================================\n",
      "Initial portfolio value:100000\n",
      "Final portfolio value: 2277014.3848845093\n",
      "Final accumulative portfolio value: 22.77014384884509\n",
      "Maximum DrawDown: -0.7572048626837002\n",
      "Sharpe ratio: 6.068627504147746\n",
      "=================================\n"
     ]
    },
    {
     "name": "stderr",
     "output_type": "stream",
     "text": [
      " 56%|█████▌    | 28/50 [03:31<02:43,  7.44s/it]"
     ]
    },
    {
     "name": "stdout",
     "output_type": "stream",
     "text": [
      "=================================\n",
      "Initial portfolio value:100000\n",
      "Final portfolio value: 2284906.0216258722\n",
      "Final accumulative portfolio value: 22.84906021625872\n",
      "Maximum DrawDown: -0.765060459531759\n",
      "Sharpe ratio: 6.023888119567611\n",
      "=================================\n"
     ]
    },
    {
     "name": "stderr",
     "output_type": "stream",
     "text": [
      " 58%|█████▊    | 29/50 [03:38<02:37,  7.49s/it]"
     ]
    },
    {
     "name": "stdout",
     "output_type": "stream",
     "text": [
      "=================================\n",
      "Initial portfolio value:100000\n",
      "Final portfolio value: 2242211.066958496\n",
      "Final accumulative portfolio value: 22.42211066958496\n",
      "Maximum DrawDown: -0.7624162231811603\n",
      "Sharpe ratio: 6.018923098166668\n",
      "=================================\n"
     ]
    },
    {
     "name": "stderr",
     "output_type": "stream",
     "text": [
      " 60%|██████    | 30/50 [03:46<02:29,  7.46s/it]"
     ]
    },
    {
     "name": "stdout",
     "output_type": "stream",
     "text": [
      "=================================\n",
      "Initial portfolio value:100000\n",
      "Final portfolio value: 2452233.048292408\n",
      "Final accumulative portfolio value: 24.522330482924083\n",
      "Maximum DrawDown: -0.7602899517262998\n",
      "Sharpe ratio: 6.173021312834987\n",
      "=================================\n"
     ]
    },
    {
     "name": "stderr",
     "output_type": "stream",
     "text": [
      " 62%|██████▏   | 31/50 [03:53<02:21,  7.45s/it]"
     ]
    },
    {
     "name": "stdout",
     "output_type": "stream",
     "text": [
      "=================================\n",
      "Initial portfolio value:100000\n",
      "Final portfolio value: 2348780.693640244\n",
      "Final accumulative portfolio value: 23.487806936402443\n",
      "Maximum DrawDown: -0.7618644115156249\n",
      "Sharpe ratio: 6.089298075909849\n",
      "=================================\n"
     ]
    },
    {
     "name": "stderr",
     "output_type": "stream",
     "text": [
      " 64%|██████▍   | 32/50 [04:00<02:13,  7.41s/it]"
     ]
    },
    {
     "name": "stdout",
     "output_type": "stream",
     "text": [
      "=================================\n",
      "Initial portfolio value:100000\n",
      "Final portfolio value: 2420118.10142811\n",
      "Final accumulative portfolio value: 24.2011810142811\n",
      "Maximum DrawDown: -0.756665739074648\n",
      "Sharpe ratio: 6.157625536764741\n",
      "=================================\n"
     ]
    },
    {
     "name": "stderr",
     "output_type": "stream",
     "text": [
      " 66%|██████▌   | 33/50 [04:08<02:05,  7.41s/it]"
     ]
    },
    {
     "name": "stdout",
     "output_type": "stream",
     "text": [
      "=================================\n",
      "Initial portfolio value:100000\n",
      "Final portfolio value: 2359803.41333968\n",
      "Final accumulative portfolio value: 23.5980341333968\n",
      "Maximum DrawDown: -0.7603625570191992\n",
      "Sharpe ratio: 6.094738740057137\n",
      "=================================\n"
     ]
    },
    {
     "name": "stderr",
     "output_type": "stream",
     "text": [
      " 68%|██████▊   | 34/50 [04:15<01:58,  7.39s/it]"
     ]
    },
    {
     "name": "stdout",
     "output_type": "stream",
     "text": [
      "=================================\n",
      "Initial portfolio value:100000\n",
      "Final portfolio value: 2317020.861646895\n",
      "Final accumulative portfolio value: 23.170208616468948\n",
      "Maximum DrawDown: -0.7609832471939353\n",
      "Sharpe ratio: 6.067721795938666\n",
      "=================================\n"
     ]
    },
    {
     "name": "stderr",
     "output_type": "stream",
     "text": [
      " 70%|███████   | 35/50 [04:22<01:50,  7.35s/it]"
     ]
    },
    {
     "name": "stdout",
     "output_type": "stream",
     "text": [
      "=================================\n",
      "Initial portfolio value:100000\n",
      "Final portfolio value: 2316101.204502847\n",
      "Final accumulative portfolio value: 23.16101204502847\n",
      "Maximum DrawDown: -0.7631042728328005\n",
      "Sharpe ratio: 6.080633764924309\n",
      "=================================\n"
     ]
    },
    {
     "name": "stderr",
     "output_type": "stream",
     "text": [
      " 72%|███████▏  | 36/50 [04:30<01:42,  7.32s/it]"
     ]
    },
    {
     "name": "stdout",
     "output_type": "stream",
     "text": [
      "=================================\n",
      "Initial portfolio value:100000\n",
      "Final portfolio value: 2379561.931651657\n",
      "Final accumulative portfolio value: 23.79561931651657\n",
      "Maximum DrawDown: -0.7631807944177531\n",
      "Sharpe ratio: 6.09553215345424\n",
      "=================================\n"
     ]
    },
    {
     "name": "stderr",
     "output_type": "stream",
     "text": [
      " 74%|███████▍  | 37/50 [04:37<01:34,  7.28s/it]"
     ]
    },
    {
     "name": "stdout",
     "output_type": "stream",
     "text": [
      "=================================\n",
      "Initial portfolio value:100000\n",
      "Final portfolio value: 2338331.288347337\n",
      "Final accumulative portfolio value: 23.38331288347337\n",
      "Maximum DrawDown: -0.7595793169544691\n",
      "Sharpe ratio: 6.107110945217534\n",
      "=================================\n"
     ]
    },
    {
     "name": "stderr",
     "output_type": "stream",
     "text": [
      " 76%|███████▌  | 38/50 [04:44<01:27,  7.26s/it]"
     ]
    },
    {
     "name": "stdout",
     "output_type": "stream",
     "text": [
      "=================================\n",
      "Initial portfolio value:100000\n",
      "Final portfolio value: 2420756.0916703716\n",
      "Final accumulative portfolio value: 24.207560916703716\n",
      "Maximum DrawDown: -0.7577943514524859\n",
      "Sharpe ratio: 6.144773576466275\n",
      "=================================\n"
     ]
    },
    {
     "name": "stderr",
     "output_type": "stream",
     "text": [
      " 78%|███████▊  | 39/50 [04:51<01:19,  7.26s/it]"
     ]
    },
    {
     "name": "stdout",
     "output_type": "stream",
     "text": [
      "=================================\n",
      "Initial portfolio value:100000\n",
      "Final portfolio value: 2384408.1996845007\n",
      "Final accumulative portfolio value: 23.844081996845006\n",
      "Maximum DrawDown: -0.7590413846712405\n",
      "Sharpe ratio: 6.125122078560919\n",
      "=================================\n"
     ]
    },
    {
     "name": "stderr",
     "output_type": "stream",
     "text": [
      " 80%|████████  | 40/50 [04:59<01:12,  7.23s/it]"
     ]
    },
    {
     "name": "stdout",
     "output_type": "stream",
     "text": [
      "=================================\n",
      "Initial portfolio value:100000\n",
      "Final portfolio value: 2418495.887557794\n",
      "Final accumulative portfolio value: 24.184958875577937\n",
      "Maximum DrawDown: -0.7573370805967217\n",
      "Sharpe ratio: 6.155376701367599\n",
      "=================================\n"
     ]
    },
    {
     "name": "stderr",
     "output_type": "stream",
     "text": [
      " 82%|████████▏ | 41/50 [05:06<01:05,  7.25s/it]"
     ]
    },
    {
     "name": "stdout",
     "output_type": "stream",
     "text": [
      "=================================\n",
      "Initial portfolio value:100000\n",
      "Final portfolio value: 2341132.4884892623\n",
      "Final accumulative portfolio value: 23.411324884892622\n",
      "Maximum DrawDown: -0.7605556532262965\n",
      "Sharpe ratio: 6.094544194454355\n",
      "=================================\n"
     ]
    },
    {
     "name": "stderr",
     "output_type": "stream",
     "text": [
      " 84%|████████▍ | 42/50 [05:13<00:57,  7.24s/it]"
     ]
    },
    {
     "name": "stdout",
     "output_type": "stream",
     "text": [
      "=================================\n",
      "Initial portfolio value:100000\n",
      "Final portfolio value: 2268250.1304708943\n",
      "Final accumulative portfolio value: 22.682501304708943\n",
      "Maximum DrawDown: -0.762681415626315\n",
      "Sharpe ratio: 6.022592590242134\n",
      "=================================\n"
     ]
    },
    {
     "name": "stderr",
     "output_type": "stream",
     "text": [
      " 86%|████████▌ | 43/50 [05:20<00:50,  7.26s/it]"
     ]
    },
    {
     "name": "stdout",
     "output_type": "stream",
     "text": [
      "=================================\n",
      "Initial portfolio value:100000\n",
      "Final portfolio value: 2403163.843900036\n",
      "Final accumulative portfolio value: 24.03163843900036\n",
      "Maximum DrawDown: -0.7623728736834863\n",
      "Sharpe ratio: 6.122408933200814\n",
      "=================================\n"
     ]
    },
    {
     "name": "stderr",
     "output_type": "stream",
     "text": [
      " 88%|████████▊ | 44/50 [05:28<00:43,  7.31s/it]"
     ]
    },
    {
     "name": "stdout",
     "output_type": "stream",
     "text": [
      "=================================\n",
      "Initial portfolio value:100000\n",
      "Final portfolio value: 2282780.9302717065\n",
      "Final accumulative portfolio value: 22.827809302717064\n",
      "Maximum DrawDown: -0.7608803469639912\n",
      "Sharpe ratio: 6.04980204870363\n",
      "=================================\n"
     ]
    },
    {
     "name": "stderr",
     "output_type": "stream",
     "text": [
      " 90%|█████████ | 45/50 [05:36<00:37,  7.44s/it]"
     ]
    },
    {
     "name": "stdout",
     "output_type": "stream",
     "text": [
      "=================================\n",
      "Initial portfolio value:100000\n",
      "Final portfolio value: 2347170.0396375433\n",
      "Final accumulative portfolio value: 23.471700396375432\n",
      "Maximum DrawDown: -0.7620902107214224\n",
      "Sharpe ratio: 6.09662943692848\n",
      "=================================\n"
     ]
    },
    {
     "name": "stderr",
     "output_type": "stream",
     "text": [
      " 92%|█████████▏| 46/50 [05:43<00:29,  7.44s/it]"
     ]
    },
    {
     "name": "stdout",
     "output_type": "stream",
     "text": [
      "=================================\n",
      "Initial portfolio value:100000\n",
      "Final portfolio value: 2331802.2528871787\n",
      "Final accumulative portfolio value: 23.318022528871786\n",
      "Maximum DrawDown: -0.7603179142860024\n",
      "Sharpe ratio: 6.090676082449459\n",
      "=================================\n"
     ]
    },
    {
     "name": "stderr",
     "output_type": "stream",
     "text": [
      " 94%|█████████▍| 47/50 [05:50<00:22,  7.47s/it]"
     ]
    },
    {
     "name": "stdout",
     "output_type": "stream",
     "text": [
      "=================================\n",
      "Initial portfolio value:100000\n",
      "Final portfolio value: 2307125.8835137156\n",
      "Final accumulative portfolio value: 23.071258835137154\n",
      "Maximum DrawDown: -0.7671264789826744\n",
      "Sharpe ratio: 6.052735103623438\n",
      "=================================\n"
     ]
    },
    {
     "name": "stderr",
     "output_type": "stream",
     "text": [
      " 96%|█████████▌| 48/50 [05:58<00:14,  7.46s/it]"
     ]
    },
    {
     "name": "stdout",
     "output_type": "stream",
     "text": [
      "=================================\n",
      "Initial portfolio value:100000\n",
      "Final portfolio value: 2411284.528249579\n",
      "Final accumulative portfolio value: 24.11284528249579\n",
      "Maximum DrawDown: -0.7595806144058131\n",
      "Sharpe ratio: 6.161692943464801\n",
      "=================================\n"
     ]
    },
    {
     "name": "stderr",
     "output_type": "stream",
     "text": [
      " 98%|█████████▊| 49/50 [06:05<00:07,  7.40s/it]"
     ]
    },
    {
     "name": "stdout",
     "output_type": "stream",
     "text": [
      "=================================\n",
      "Initial portfolio value:100000\n",
      "Final portfolio value: 2282553.569689562\n",
      "Final accumulative portfolio value: 22.82553569689562\n",
      "Maximum DrawDown: -0.7604163665619461\n",
      "Sharpe ratio: 6.047816420084885\n",
      "=================================\n"
     ]
    },
    {
     "name": "stderr",
     "output_type": "stream",
     "text": [
      "100%|██████████| 50/50 [06:13<00:00,  7.46s/it]\n"
     ]
    },
    {
     "data": {
      "text/plain": [
       "<modules.algorithms.PolicyGradient at 0x28a115520>"
      ]
     },
     "execution_count": 10,
     "metadata": {},
     "output_type": "execute_result"
    }
   ],
   "source": [
    "print(\"TRAINING AGENT.....\")\n",
    "DRLAgent.train_model(model, episodes=50)"
   ]
  },
  {
   "cell_type": "code",
   "execution_count": 11,
   "metadata": {},
   "outputs": [
    {
     "name": "stdout",
     "output_type": "stream",
     "text": [
      "PERSISTING MODEL.....\n"
     ]
    }
   ],
   "source": [
    "print(\"PERSISTING MODEL.....\")\n",
    "torch.save(model.train_policy.state_dict(), f\"models/policy_{experiment_type}.pt\")"
   ]
  },
  {
   "cell_type": "code",
   "execution_count": 12,
   "metadata": {},
   "outputs": [
    {
     "name": "stdout",
     "output_type": "stream",
     "text": [
      "TESTING.....\n"
     ]
    }
   ],
   "source": [
    "print(\"TESTING.....\")\n",
    "MEIIE_results = {\n",
    "    \"training\": train_environment._asset_memory[\"final\"],\n",
    "    \"test\": {}\n",
    "}"
   ]
  },
  {
   "cell_type": "code",
   "execution_count": 13,
   "metadata": {},
   "outputs": [],
   "source": [
    "test_environment = MultiPeriodPortfolioOptimizationEnv(\n",
    "    df_portfolio_test,\n",
    "    initial_amount=100000,\n",
    "    comission_fee_pct=0.0025,\n",
    "    time_window=N,\n",
    "    multi_period_horizon=T,\n",
    "    features=FEATURES,\n",
    "    normalize_df=None,\n",
    "    is_train_mode=False,\n",
    "    experiment_type=experiment_type\n",
    ")"
   ]
  },
  {
   "cell_type": "code",
   "execution_count": 14,
   "metadata": {},
   "outputs": [],
   "source": [
    "policy = MultiPeriodAttentionNetwork(\n",
    "    num_features=NUM_ASSETS*NUM_FEATURES,\n",
    "    num_stocks=NUM_ASSETS,\n",
    "    num_head=4,\n",
    "    W=N,\n",
    "    T=T\n",
    ")"
   ]
  },
  {
   "cell_type": "code",
   "execution_count": 15,
   "metadata": {},
   "outputs": [
    {
     "data": {
      "text/plain": [
       "<All keys matched successfully>"
      ]
     },
     "execution_count": 15,
     "metadata": {},
     "output_type": "execute_result"
    }
   ],
   "source": [
    "policy.load_state_dict(torch.load(f\"models/policy_{experiment_type}.pt\"))"
   ]
  },
  {
   "cell_type": "code",
   "execution_count": 16,
   "metadata": {},
   "outputs": [
    {
     "name": "stdout",
     "output_type": "stream",
     "text": [
      "=================================\n",
      "Initial portfolio value:100000\n",
      "Final portfolio value: 523546.802374231\n",
      "Final accumulative portfolio value: 5.2354680237423095\n",
      "Maximum DrawDown: -0.40788364432691604\n",
      "Sharpe ratio: 5.603431917198611\n",
      "=================================\n"
     ]
    }
   ],
   "source": [
    "DRLAgent.DRL_validation(model=model, test_env=test_environment, policy=policy)"
   ]
  },
  {
   "cell_type": "code",
   "execution_count": 17,
   "metadata": {},
   "outputs": [],
   "source": [
    "MEIIE_results[\"test\"][\"value\"] = test_environment._asset_memory[\"final\"]"
   ]
  },
  {
   "cell_type": "code",
   "execution_count": 18,
   "metadata": {},
   "outputs": [
    {
     "data": {
      "text/plain": [
       "70"
      ]
     },
     "execution_count": 18,
     "metadata": {},
     "output_type": "execute_result"
    }
   ],
   "source": [
    "drl_portfolio_performance = test_environment._asset_memory[\"final\"][1:]\n",
    "len(drl_portfolio_performance)"
   ]
  },
  {
   "cell_type": "code",
   "execution_count": 19,
   "metadata": {},
   "outputs": [],
   "source": [
    "drl_portfolio_performance = [(x/100000)-1 for x in drl_portfolio_performance]"
   ]
  },
  {
   "cell_type": "code",
   "execution_count": 21,
   "metadata": {},
   "outputs": [],
   "source": [
    "performance_dataset = pd.read_csv(\"data/processed/performances_sp100.csv\", index_col=0)"
   ]
  },
  {
   "cell_type": "code",
   "execution_count": 22,
   "metadata": {},
   "outputs": [],
   "source": [
    "performance_dataset[\"DRL_TRANSFORMER\"] = drl_portfolio_performance"
   ]
  },
  {
   "cell_type": "code",
   "execution_count": 23,
   "metadata": {},
   "outputs": [],
   "source": [
    "performance_dataset.to_csv(\"data/processed/performances_sp100.csv\")"
   ]
  },
  {
   "cell_type": "code",
   "execution_count": null,
   "metadata": {},
   "outputs": [],
   "source": []
  }
 ],
 "metadata": {
  "kernelspec": {
   "display_name": "Python 3",
   "language": "python",
   "name": "python3"
  },
  "language_info": {
   "codemirror_mode": {
    "name": "ipython",
    "version": 3
   },
   "file_extension": ".py",
   "mimetype": "text/x-python",
   "name": "python",
   "nbconvert_exporter": "python",
   "pygments_lexer": "ipython3",
   "version": "3.12.3"
  }
 },
 "nbformat": 4,
 "nbformat_minor": 2
}
