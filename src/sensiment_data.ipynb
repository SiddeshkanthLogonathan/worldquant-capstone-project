{
  "cells": [
    {
      "cell_type": "code",
      "execution_count": null,
      "metadata": {
        "id": "GRfIk3xi39vi"
      },
      "outputs": [],
      "source": [
        "import mediacloud.api\n",
        "import datetime as dt\n",
        "import yfinance as yf\n",
        "from transformers import BertTokenizer, BertForSequenceClassification\n",
        "import torch\n",
        "from datetime import datetime, timedelta\n",
        "import pandas as pd\n",
        "import os\n",
        "\n",
        "# Init the api key and load the finBERT model\n",
        "MC_API_KEY = \"Your_MC_API_KEY\"\n",
        "US_NATIONAL_COLLECTION = 34412234\n",
        "tokenizer = BertTokenizer.from_pretrained('yiyanghkust/finbert-tone', model_max_length=512)\n",
        "model = BertForSequenceClassification.from_pretrained('yiyanghkust/finbert-tone')"
      ]
    },
    {
      "cell_type": "code",
      "execution_count": null,
      "metadata": {
        "id": "L0VABWLZ3KDC"
      },
      "outputs": [],
      "source": [
        "# generate a date range between the start and end\n",
        "def get_date_range(start_date, end_date):\n",
        "    date_range = []\n",
        "    current_date = datetime.strptime(start_date, '%Y-%m-%d')\n",
        "    end_date = datetime.strptime(end_date, '%Y-%m-%d')\n",
        "    while current_date <= end_date:\n",
        "        date_range.append(current_date.strftime('%Y-%m-%d'))\n",
        "        current_date += timedelta(days=1)\n",
        "    return date_range\n",
        "\n",
        "# Call the newsapi to generate a single day's news title\n",
        "def news_data(stock, date):\n",
        "  mc_search = mediacloud.api.SearchApi(MC_API_KEY)\n",
        "  all_stories = []\n",
        "  pagination_token = None\n",
        "  more_stories = True\n",
        "  # Get the Corpornate name as the input for the Media Cloud API\n",
        "  stock = yf.Ticker(ticker).info['shortName']\n",
        "  inputDate = dt.datetime.strptime(date, \"%Y-%m-%d\").date()\n",
        "  while more_stories:\n",
        "      page, pagination_token = mc_search.story_list(stock, start_date=inputDate, end_date=inputDate, collection_ids=[US_NATIONAL_COLLECTION])\n",
        "      all_stories += page\n",
        "      more_stories = pagination_token is not None\n",
        "\n",
        "  text = ''\n",
        "  for story in all_stories[:5]:\n",
        "      if story['title'] is not None:\n",
        "        text = text + story['title']\n",
        "  return text\n",
        "\n",
        "# Use the news title as the input for the finBERT model\n",
        "def bert_analyze(text):\n",
        "  inputs = tokenizer(text, return_tensors='pt', truncation=True, padding=True)\n",
        "\n",
        "  with torch.no_grad():\n",
        "      outputs = model(**inputs)\n",
        "\n",
        "  logits = outputs.logits\n",
        "\n",
        "  predicted_class = torch.argmax(logits, dim=1).item()\n",
        "  sentiment = ['neutral', 'positive', 'negative'][predicted_class]\n",
        "\n",
        "  return sentiment\n",
        "\n",
        "def news_bert_analyze(tickers, start_date, end_date):\n",
        "  df = pd.DataFrame()\n",
        "  date_range = get_date_range(start_date, end_date)\n",
        "  for ticker in tickers:\n",
        "    date_dict = {}\n",
        "    for date in date_range:\n",
        "      sentiment = bert_analyze(news_data(ticker, date))\n",
        "      date_dict[date] = str(sentiment)\n",
        "    df[ticker]=pd.Series(date_dict)\n",
        "\n",
        "  df.index.name = 'Datetime'\n",
        "  # Replace the sensiment with the Int number range from -1 to 1\n",
        "  df.replace({'neutral': 0, 'positive': 1, 'negative': -1}, inplace=True)\n",
        "  return (df)"
      ]
    },
    {
      "cell_type": "code",
      "execution_count": null,
      "metadata": {
        "id": "bdDoZjIapcjM"
      },
      "outputs": [],
      "source": [
        "directory = \"data\"\n",
        "parent_dir = \"/content/drive/MyDrive\"\n",
        "dir = os.path.join(parent_dir, directory)\n",
        "\n",
        "tickers = [\n",
        "                \"AAPL\", \"ABBV\", \"ABT\", \"ACN\", \"ADBE\", \"AIG\", \"AMD\", \"AMGN\", \"AMT\", \"AMZN\",\n",
        "                \"AVGO\", \"AXP\", \"BA\", \"BAC\", \"BK\", \"BKNG\", \"BLK\", \"BMY\", \"BRK-B\", \"C\",\n",
        "                \"CAT\", \"CHTR\", \"CL\", \"CMCSA\", \"COF\", \"COP\", \"COST\", \"CRM\", \"CSCO\", \"CVS\",\n",
        "                \"CVX\", \"DE\", \"DHR\", \"DIS\", \"DOW\", \"DUK\", \"EMR\", \"F\", \"FDX\", \"GD\",\n",
        "                \"GE\", \"GILD\", \"GM\", \"GOOG\", \"GOOGL\", \"GS\", \"HD\", \"HON\", \"IBM\", \"INTC\",\n",
        "                \"INTU\", \"JNJ\", \"JPM\", \"KHC\", \"KO\", \"LIN\", \"LLY\", \"LMT\", \"LOW\", \"MA\",\n",
        "                \"MCD\", \"MDLZ\", \"MDT\", \"MET\", \"META\", \"MMM\", \"MO\", \"MRK\", \"MS\", \"MSFT\",\n",
        "                \"NEE\", \"NFLX\", \"NKE\", \"NVDA\", \"ORCL\", \"PEP\", \"PFE\", \"PG\", \"PM\", \"PYPL\",\n",
        "                \"QCOM\", \"RTX\", \"SBUX\", \"SCHW\", \"SO\", \"SPG\", \"T\", \"TGT\", \"TMO\", \"TMUS\",\n",
        "                \"TSLA\", \"TXN\", \"UNH\", \"UNP\", \"UPS\", \"USB\", \"V\", \"VZ\", \"WFC\", \"WMT\",\n",
        "                \"XOM\"\n",
        "            ]\n",
        "\n",
        "start_date = '2022-01-01'\n",
        "end_date = '2023/12/31'\n",
        "filename = \"sentiment_data.csv\"\n",
        "path = os.path.join(dir, filename)\n",
        "df = news_bert_analyze(tickers=tickers, start_date=start_date, end_date=end_date)\n",
        "df.to_csv(path, index=True)"
      ]
    },
    {
      "cell_type": "code",
      "execution_count": null,
      "metadata": {
        "id": "eK00_ZiswK69"
      },
      "outputs": [],
      "source": []
    }
  ],
  "metadata": {
    "colab": {
      "provenance": []
    },
    "kernelspec": {
      "display_name": "Python 3",
      "name": "python3"
    },
    "language_info": {
      "name": "python"
    }
  },
  "nbformat": 4,
  "nbformat_minor": 0
}
